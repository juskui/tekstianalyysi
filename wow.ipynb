{
 "cells": [
  {
   "cell_type": "code",
   "execution_count": 32,
   "metadata": {},
   "outputs": [],
   "source": [
    "import pandas as pd"
   ]
  },
  {
   "cell_type": "code",
   "execution_count": 38,
   "metadata": {},
   "outputs": [],
   "source": [
    "kirjaimet = 'asetekon' #input(\"Anna kirjaimet: \")\n",
    "sanat = pd.read_csv(\"sanat.txt\", sep=\"\\t\", header=None)\n",
    "\n",
    "sanat = sanat.drop(columns=[1, 2, 3]) # poistetaan turhat sarakkeet\n",
    "sanat = sanat[sanat[0].str.len() <= 8] # poistetaan liian pitkät sanat\n",
    "#sanat.info()\n",
    "\n",
    "# muutetaan annetut kirjaimet listaksi\n",
    "kirjaimet_lista = list(kirjaimet)"
   ]
  },
  {
   "cell_type": "code",
   "execution_count": 39,
   "metadata": {},
   "outputs": [],
   "source": [
    "# tehdään yhdistelmät kirjaimista\n",
    "import itertools\n",
    "\n",
    "kaikki_sanat = []\n",
    "for i in range(3, len(kirjaimet_lista) + 1):\n",
    "    kaikki_sanat.extend([''.join(p) for p in itertools.permutations(kirjaimet_lista, i)])"
   ]
  },
  {
   "cell_type": "code",
   "execution_count": 44,
   "metadata": {},
   "outputs": [
    {
     "name": "stdout",
     "output_type": "stream",
     "text": [
      "3 merkkiset: ane, ase, atk, eka, eno, kas, kat, ken, koe, kot, oas, oka, osa, ota, ote, sen, tae, tee, tse\n",
      "4 merkkiset: akne, anto, aste, este, esto, etoa, kate, kato, keto, kone, kota, nato, oksa, otsa, sake, sane, sato, seto, sota, sote, taos, tase, taso, teak, teko, teos, toka\n",
      "5 merkkiset: asete, eetos, kanto, kaste, katos, katse, keota, kesto, konsa, koste, kotsa, neste, noeta, noste, osake, sanko, seota, skeet, skene, soeta, sokea, sonta, sotka, tanko, tekno\n",
      "6 merkkiset: asento, kostea, notkea, oksete, otsake, sotkea\n",
      "7 merkkiset: aseeton, ekotase, kesanto\n",
      "8 merkkiset: \n"
     ]
    }
   ],
   "source": [
    "# Extract the words from the dataframe\n",
    "sanat_list = sanat[0].tolist()\n",
    "\n",
    "# Find the common words\n",
    "common_words = set(sanat_list).intersection(kaikki_sanat)\n",
    "\n",
    "for length in range(3, 9):\n",
    "    words_of_length = sorted([word for word in common_words if len(word) == length])\n",
    "    print(f\"{length} merkkiset: {', '.join(words_of_length)}\")"
   ]
  }
 ],
 "metadata": {
  "kernelspec": {
   "display_name": "env",
   "language": "python",
   "name": "python3"
  },
  "language_info": {
   "codemirror_mode": {
    "name": "ipython",
    "version": 3
   },
   "file_extension": ".py",
   "mimetype": "text/x-python",
   "name": "python",
   "nbconvert_exporter": "python",
   "pygments_lexer": "ipython3",
   "version": "3.12.8"
  }
 },
 "nbformat": 4,
 "nbformat_minor": 2
}
