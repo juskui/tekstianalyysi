{
 "cells": [
  {
   "cell_type": "code",
   "execution_count": 3,
   "metadata": {},
   "outputs": [],
   "source": [
    "## Basic tools for data processing and visualizations and \n",
    "import numpy as np # linear algebra\n",
    "import pandas as pd # data processing\n",
    "import matplotlib.pyplot as plt # a comprehensive library for data visualization\n",
    "import os # functions for interacting with the operating system\n",
    "import tensorflow as tf\n",
    "from sklearn.model_selection import train_test_split # preprocessing datasets\n",
    "from tensorflow.keras.utils import to_categorical #create one-hot-encoded output\n",
    "from sklearn.utils import class_weight #calculate class weights for training using the labels\n",
    "\n",
    "## Tools for building Recurrent Neural Networks applied in this project\n",
    "from tensorflow.keras import preprocessing\n",
    "from tensorflow.keras.preprocessing.text import Tokenizer #A text tokenizer to vectorize a text corpus\n",
    "from tensorflow.keras.utils import to_categorical #Converts a class vector (integers) to binary class matrix\n",
    "from tensorflow.keras.models import Sequential #Sequential model methods\n",
    "from tensorflow.keras import layers, models, optimizers\n",
    "from tensorflow.keras.layers import Embedding, Flatten, Dense, SimpleRNN, Activation, Embedding, LSTM, Bidirectional #The applicable layers used in RNN model\n",
    "from sklearn.metrics import confusion_matrix, classification_report, cohen_kappa_score # final metrics\n",
    "from tensorflow.keras.callbacks import EarlyStopping # to monitor training and stop when metrics stop improving\n",
    "\n",
    "## Extra tools needed for review data preprocessing\n",
    "from nltk.corpus import stopwords\n",
    "from nltk.stem import WordNetLemmatizer\n",
    "from nltk.tokenize import word_tokenize"
   ]
  },
  {
   "cell_type": "code",
   "execution_count": 6,
   "metadata": {},
   "outputs": [],
   "source": [
    "#Reading the data into traindata and testdata\n",
    "traindata = pd.read_csv(\"drugsComTest_raw.csv\") # 75% trainfraction\n",
    "testdata = pd.read_csv(\"drugsComTest_raw.csv\") # 25% testfraction"
   ]
  },
  {
   "cell_type": "code",
   "execution_count": 7,
   "metadata": {},
   "outputs": [
    {
     "data": {
      "text/html": [
       "<div>\n",
       "<style scoped>\n",
       "    .dataframe tbody tr th:only-of-type {\n",
       "        vertical-align: middle;\n",
       "    }\n",
       "\n",
       "    .dataframe tbody tr th {\n",
       "        vertical-align: top;\n",
       "    }\n",
       "\n",
       "    .dataframe thead th {\n",
       "        text-align: right;\n",
       "    }\n",
       "</style>\n",
       "<table border=\"1\" class=\"dataframe\">\n",
       "  <thead>\n",
       "    <tr style=\"text-align: right;\">\n",
       "      <th></th>\n",
       "      <th>uniqueID</th>\n",
       "      <th>drugName</th>\n",
       "      <th>condition</th>\n",
       "      <th>review</th>\n",
       "      <th>rating</th>\n",
       "      <th>date</th>\n",
       "      <th>usefulCount</th>\n",
       "    </tr>\n",
       "  </thead>\n",
       "  <tbody>\n",
       "    <tr>\n",
       "      <th>53761</th>\n",
       "      <td>159999</td>\n",
       "      <td>Tamoxifen</td>\n",
       "      <td>Breast Cancer, Prevention</td>\n",
       "      <td>\"I have taken Tamoxifen for 5 years. Side effe...</td>\n",
       "      <td>10</td>\n",
       "      <td>13-Sep-14</td>\n",
       "      <td>43</td>\n",
       "    </tr>\n",
       "    <tr>\n",
       "      <th>53762</th>\n",
       "      <td>140714</td>\n",
       "      <td>Escitalopram</td>\n",
       "      <td>Anxiety</td>\n",
       "      <td>\"I&amp;#039;ve been taking Lexapro (escitaploprgra...</td>\n",
       "      <td>9</td>\n",
       "      <td>8-Oct-16</td>\n",
       "      <td>11</td>\n",
       "    </tr>\n",
       "    <tr>\n",
       "      <th>53763</th>\n",
       "      <td>130945</td>\n",
       "      <td>Levonorgestrel</td>\n",
       "      <td>Birth Control</td>\n",
       "      <td>\"I&amp;#039;m married, 34 years old and I have no ...</td>\n",
       "      <td>8</td>\n",
       "      <td>15-Nov-10</td>\n",
       "      <td>7</td>\n",
       "    </tr>\n",
       "    <tr>\n",
       "      <th>53764</th>\n",
       "      <td>47656</td>\n",
       "      <td>Tapentadol</td>\n",
       "      <td>Pain</td>\n",
       "      <td>\"I was prescribed Nucynta for severe neck/shou...</td>\n",
       "      <td>1</td>\n",
       "      <td>28-Nov-11</td>\n",
       "      <td>20</td>\n",
       "    </tr>\n",
       "    <tr>\n",
       "      <th>53765</th>\n",
       "      <td>113712</td>\n",
       "      <td>Arthrotec</td>\n",
       "      <td>Sciatica</td>\n",
       "      <td>\"It works!!!\"</td>\n",
       "      <td>9</td>\n",
       "      <td>13-Sep-09</td>\n",
       "      <td>46</td>\n",
       "    </tr>\n",
       "  </tbody>\n",
       "</table>\n",
       "</div>"
      ],
      "text/plain": [
       "       uniqueID        drugName                  condition  \\\n",
       "53761    159999       Tamoxifen  Breast Cancer, Prevention   \n",
       "53762    140714    Escitalopram                    Anxiety   \n",
       "53763    130945  Levonorgestrel              Birth Control   \n",
       "53764     47656      Tapentadol                       Pain   \n",
       "53765    113712       Arthrotec                   Sciatica   \n",
       "\n",
       "                                                  review  rating       date  \\\n",
       "53761  \"I have taken Tamoxifen for 5 years. Side effe...      10  13-Sep-14   \n",
       "53762  \"I&#039;ve been taking Lexapro (escitaploprgra...       9   8-Oct-16   \n",
       "53763  \"I&#039;m married, 34 years old and I have no ...       8  15-Nov-10   \n",
       "53764  \"I was prescribed Nucynta for severe neck/shou...       1  28-Nov-11   \n",
       "53765                                      \"It works!!!\"       9  13-Sep-09   \n",
       "\n",
       "       usefulCount  \n",
       "53761           43  \n",
       "53762           11  \n",
       "53763            7  \n",
       "53764           20  \n",
       "53765           46  "
      ]
     },
     "execution_count": 7,
     "metadata": {},
     "output_type": "execute_result"
    }
   ],
   "source": [
    "traindata.tail()"
   ]
  },
  {
   "cell_type": "code",
   "execution_count": 9,
   "metadata": {},
   "outputs": [
    {
     "name": "stderr",
     "output_type": "stream",
     "text": [
      "<>:6: SyntaxWarning: invalid escape sequence '\\w'\n",
      "<>:11: SyntaxWarning: invalid escape sequence '\\w'\n",
      "<>:6: SyntaxWarning: invalid escape sequence '\\w'\n",
      "<>:11: SyntaxWarning: invalid escape sequence '\\w'\n",
      "U:\\Users\\jk026110\\AppData\\Local\\Temp\\ipykernel_5100\\2035450855.py:6: SyntaxWarning: invalid escape sequence '\\w'\n",
      "  traindata['review'] = traindata['review'].str.replace('&\\w+;',' ') #removing special letters\n",
      "U:\\Users\\jk026110\\AppData\\Local\\Temp\\ipykernel_5100\\2035450855.py:11: SyntaxWarning: invalid escape sequence '\\w'\n",
      "  testdata['review'] = testdata['review'].str.replace('&\\w+;',' ')\n"
     ]
    },
    {
     "data": {
      "text/html": [
       "<div>\n",
       "<style scoped>\n",
       "    .dataframe tbody tr th:only-of-type {\n",
       "        vertical-align: middle;\n",
       "    }\n",
       "\n",
       "    .dataframe tbody tr th {\n",
       "        vertical-align: top;\n",
       "    }\n",
       "\n",
       "    .dataframe thead th {\n",
       "        text-align: right;\n",
       "    }\n",
       "</style>\n",
       "<table border=\"1\" class=\"dataframe\">\n",
       "  <thead>\n",
       "    <tr style=\"text-align: right;\">\n",
       "      <th></th>\n",
       "      <th>uniqueID</th>\n",
       "      <th>drugName</th>\n",
       "      <th>condition</th>\n",
       "      <th>review</th>\n",
       "      <th>rating</th>\n",
       "      <th>date</th>\n",
       "      <th>usefulCount</th>\n",
       "    </tr>\n",
       "  </thead>\n",
       "  <tbody>\n",
       "    <tr>\n",
       "      <th>53761</th>\n",
       "      <td>159999</td>\n",
       "      <td>Tamoxifen</td>\n",
       "      <td>Breast Cancer, Prevention</td>\n",
       "      <td>\"i have taken tamoxifen for 5 years. side effe...</td>\n",
       "      <td>10</td>\n",
       "      <td>13-Sep-14</td>\n",
       "      <td>43</td>\n",
       "    </tr>\n",
       "    <tr>\n",
       "      <th>53762</th>\n",
       "      <td>140714</td>\n",
       "      <td>Escitalopram</td>\n",
       "      <td>Anxiety</td>\n",
       "      <td>\"i've been taking lexapro (escitaploprgram) si...</td>\n",
       "      <td>9</td>\n",
       "      <td>8-Oct-16</td>\n",
       "      <td>11</td>\n",
       "    </tr>\n",
       "    <tr>\n",
       "      <th>53763</th>\n",
       "      <td>130945</td>\n",
       "      <td>Levonorgestrel</td>\n",
       "      <td>Birth Control</td>\n",
       "      <td>\"i'm married, 34 years old and i have no kids....</td>\n",
       "      <td>8</td>\n",
       "      <td>15-Nov-10</td>\n",
       "      <td>7</td>\n",
       "    </tr>\n",
       "    <tr>\n",
       "      <th>53764</th>\n",
       "      <td>47656</td>\n",
       "      <td>Tapentadol</td>\n",
       "      <td>Pain</td>\n",
       "      <td>\"i was prescribed nucynta for severe neck/shou...</td>\n",
       "      <td>1</td>\n",
       "      <td>28-Nov-11</td>\n",
       "      <td>20</td>\n",
       "    </tr>\n",
       "    <tr>\n",
       "      <th>53765</th>\n",
       "      <td>113712</td>\n",
       "      <td>Arthrotec</td>\n",
       "      <td>Sciatica</td>\n",
       "      <td>\"it works!!!\"</td>\n",
       "      <td>9</td>\n",
       "      <td>13-Sep-09</td>\n",
       "      <td>46</td>\n",
       "    </tr>\n",
       "  </tbody>\n",
       "</table>\n",
       "</div>"
      ],
      "text/plain": [
       "       uniqueID        drugName                  condition  \\\n",
       "53761    159999       Tamoxifen  Breast Cancer, Prevention   \n",
       "53762    140714    Escitalopram                    Anxiety   \n",
       "53763    130945  Levonorgestrel              Birth Control   \n",
       "53764     47656      Tapentadol                       Pain   \n",
       "53765    113712       Arthrotec                   Sciatica   \n",
       "\n",
       "                                                  review  rating       date  \\\n",
       "53761  \"i have taken tamoxifen for 5 years. side effe...      10  13-Sep-14   \n",
       "53762  \"i've been taking lexapro (escitaploprgram) si...       9   8-Oct-16   \n",
       "53763  \"i'm married, 34 years old and i have no kids....       8  15-Nov-10   \n",
       "53764  \"i was prescribed nucynta for severe neck/shou...       1  28-Nov-11   \n",
       "53765                                      \"it works!!!\"       9  13-Sep-09   \n",
       "\n",
       "       usefulCount  \n",
       "53761           43  \n",
       "53762           11  \n",
       "53763            7  \n",
       "53764           20  \n",
       "53765           46  "
      ]
     },
     "execution_count": 9,
     "metadata": {},
     "output_type": "execute_result"
    }
   ],
   "source": [
    "# Preprocessing the used review column data\n",
    "\n",
    "# Removing unnecessary words and numbers from train data\n",
    "traindata['review'] = traindata['review'].str.replace(r\"[^a-z'A-Z]+\", \" \") #removing everything else except letters\n",
    "traindata['review'] = traindata['review'].str.replace('&#039;', \"'\") #removing HTML from the data\n",
    "traindata['review'] = traindata['review'].str.replace('&\\w+;',' ') #removing special letters\n",
    "\n",
    "# Removing unnecessary words and numbers from test data\n",
    "testdata['review'] = testdata['review'].str.replace(r\"[^a-z'A-Z]+\", \" \")\n",
    "testdata['review'] = testdata['review'].str.replace('&#039;', \"'\") \n",
    "testdata['review'] = testdata['review'].str.replace('&\\w+;',' ') \n",
    "\n",
    "# Transforming all letters to lowercase for train and test sets\n",
    "traindata['review'] = traindata['review'].map(lambda x: x.lower())\n",
    "testdata['review'] = testdata['review'].map(lambda x: x.lower())\n",
    "\n",
    "# Test print same columns than in the cell above to see if the data is now more usable\n",
    "traindata.tail()"
   ]
  },
  {
   "cell_type": "code",
   "execution_count": 10,
   "metadata": {},
   "outputs": [],
   "source": [
    "# Lemmatizing words in reviews to recude the amount of different expressions with identical sentimental value\n",
    "\n",
    "lemmatizer=WordNetLemmatizer()\n",
    "\n",
    "# lemmatizing verbs in train and test reviews\n",
    "traindata['review'] = traindata['review'].map(lambda x: ' '.join(lemmatizer.lemmatize(word, pos=\"v\") for word in word_tokenize(x)))\n",
    "testdata['review'] = testdata['review'].map(lambda x: ' '.join(lemmatizer.lemmatize(word, pos=\"v\") for word in word_tokenize(x)))\n",
    "\n",
    "# lemmatizing nouns in train and test reviews\n",
    "traindata['review'] = traindata['review'].map(lambda x: ' '.join(lemmatizer.lemmatize(word, pos=\"n\") for word in word_tokenize(x)))\n",
    "testdata['review'] = testdata['review'].map(lambda x: ' '.join(lemmatizer.lemmatize(word, pos=\"n\") for word in word_tokenize(x)))"
   ]
  },
  {
   "cell_type": "code",
   "execution_count": 11,
   "metadata": {},
   "outputs": [],
   "source": [
    "## Removing unnecessary stopwords from reviews which have no sentimental predictive value\n",
    "\n",
    "# Selecting the english language stopwords to be used for filtering the text\n",
    "stopwords = stopwords.words('english')\n",
    "\n",
    "# Removing english stopwords from both train and test data\n",
    "traindata['review'] = traindata['review'].map(lambda x: ' '.join(word for word in word_tokenize(x) if word not in stopwords))\n",
    "testdata['review'] = testdata['review'].map(lambda x: ' '.join(word for word in word_tokenize(x) if word not in stopwords))"
   ]
  },
  {
   "cell_type": "code",
   "execution_count": 12,
   "metadata": {},
   "outputs": [
    {
     "data": {
      "text/html": [
       "<div>\n",
       "<style scoped>\n",
       "    .dataframe tbody tr th:only-of-type {\n",
       "        vertical-align: middle;\n",
       "    }\n",
       "\n",
       "    .dataframe tbody tr th {\n",
       "        vertical-align: top;\n",
       "    }\n",
       "\n",
       "    .dataframe thead th {\n",
       "        text-align: right;\n",
       "    }\n",
       "</style>\n",
       "<table border=\"1\" class=\"dataframe\">\n",
       "  <thead>\n",
       "    <tr style=\"text-align: right;\">\n",
       "      <th></th>\n",
       "      <th>uniqueID</th>\n",
       "      <th>drugName</th>\n",
       "      <th>condition</th>\n",
       "      <th>review</th>\n",
       "      <th>rating</th>\n",
       "      <th>date</th>\n",
       "      <th>usefulCount</th>\n",
       "    </tr>\n",
       "  </thead>\n",
       "  <tbody>\n",
       "    <tr>\n",
       "      <th>53761</th>\n",
       "      <td>159999</td>\n",
       "      <td>Tamoxifen</td>\n",
       "      <td>Breast Cancer, Prevention</td>\n",
       "      <td>`` take tamoxifen 5 year . side effect severe ...</td>\n",
       "      <td>10</td>\n",
       "      <td>13-Sep-14</td>\n",
       "      <td>43</td>\n",
       "    </tr>\n",
       "    <tr>\n",
       "      <th>53762</th>\n",
       "      <td>140714</td>\n",
       "      <td>Escitalopram</td>\n",
       "      <td>Anxiety</td>\n",
       "      <td>`` 've take lexapro ( escitaploprgram ) since ...</td>\n",
       "      <td>9</td>\n",
       "      <td>8-Oct-16</td>\n",
       "      <td>11</td>\n",
       "    </tr>\n",
       "    <tr>\n",
       "      <th>53763</th>\n",
       "      <td>130945</td>\n",
       "      <td>Levonorgestrel</td>\n",
       "      <td>Birth Control</td>\n",
       "      <td>`` 'm marry , 34 year old kid . take pill hass...</td>\n",
       "      <td>8</td>\n",
       "      <td>15-Nov-10</td>\n",
       "      <td>7</td>\n",
       "    </tr>\n",
       "    <tr>\n",
       "      <th>53764</th>\n",
       "      <td>47656</td>\n",
       "      <td>Tapentadol</td>\n",
       "      <td>Pain</td>\n",
       "      <td>`` prescribe nucynta severe neck/shoulder pain...</td>\n",
       "      <td>1</td>\n",
       "      <td>28-Nov-11</td>\n",
       "      <td>20</td>\n",
       "    </tr>\n",
       "    <tr>\n",
       "      <th>53765</th>\n",
       "      <td>113712</td>\n",
       "      <td>Arthrotec</td>\n",
       "      <td>Sciatica</td>\n",
       "      <td>`` work ! ! ! ``</td>\n",
       "      <td>9</td>\n",
       "      <td>13-Sep-09</td>\n",
       "      <td>46</td>\n",
       "    </tr>\n",
       "  </tbody>\n",
       "</table>\n",
       "</div>"
      ],
      "text/plain": [
       "       uniqueID        drugName                  condition  \\\n",
       "53761    159999       Tamoxifen  Breast Cancer, Prevention   \n",
       "53762    140714    Escitalopram                    Anxiety   \n",
       "53763    130945  Levonorgestrel              Birth Control   \n",
       "53764     47656      Tapentadol                       Pain   \n",
       "53765    113712       Arthrotec                   Sciatica   \n",
       "\n",
       "                                                  review  rating       date  \\\n",
       "53761  `` take tamoxifen 5 year . side effect severe ...      10  13-Sep-14   \n",
       "53762  `` 've take lexapro ( escitaploprgram ) since ...       9   8-Oct-16   \n",
       "53763  `` 'm marry , 34 year old kid . take pill hass...       8  15-Nov-10   \n",
       "53764  `` prescribe nucynta severe neck/shoulder pain...       1  28-Nov-11   \n",
       "53765                                   `` work ! ! ! ``       9  13-Sep-09   \n",
       "\n",
       "       usefulCount  \n",
       "53761           43  \n",
       "53762           11  \n",
       "53763            7  \n",
       "53764           20  \n",
       "53765           46  "
      ]
     },
     "execution_count": 12,
     "metadata": {},
     "output_type": "execute_result"
    }
   ],
   "source": [
    "# Test print same columns as before to see if the data has a more usable form after processing\n",
    "traindata.tail()"
   ]
  },
  {
   "cell_type": "code",
   "execution_count": 13,
   "metadata": {},
   "outputs": [
    {
     "data": {
      "text/plain": [
       "array([], dtype=int64)"
      ]
     },
     "execution_count": 13,
     "metadata": {},
     "output_type": "execute_result"
    }
   ],
   "source": [
    "## Create three categories for ratings (positive, neutral, negative)\n",
    "\n",
    "# label = 2, when rating = 7-10 (positive)\n",
    "# label = 1, when rating = 5-6 (neutral)\n",
    "# label = 0, when rating = 1-4 (negative)\n",
    "\n",
    "# Extracting the explanatory variables (x) and response variables (y=rating)\n",
    "\n",
    "train_x = traindata['review'].values.tolist()\n",
    "train_y = traindata['rating'].values\n",
    "for i in range(len(train_y)):\n",
    "    x = train_y[i]\n",
    "    if x >= 7:\n",
    "        train_y[i]=2 #reviews higher than 6 get labes 2, which stands for positive\n",
    "    elif x > 4:\n",
    "        train_y[i]=1 #reviews higher than 4 but lower than 7 get labes 1, which stands for neutral\n",
    "    else:\n",
    "        train_y[i]=0 #the rest (reviews lower than 5) are labelled 0, and are considered negative\n",
    "\n",
    "test_x = testdata['review'].values.tolist()\n",
    "test_y = testdata['rating'].values\n",
    "for i in range(len(test_y)):\n",
    "    x = test_y[i]\n",
    "    if x >= 7:\n",
    "        test_y[i]=2 \n",
    "    elif x > 4:\n",
    "        test_y[i]=1 \n",
    "    else:\n",
    "        test_y[i]=0 \n",
    "    \n",
    "# Check that the labels are correct by displaying the same tail of traindata as in cells above\n",
    "train_y[161292:]"
   ]
  },
  {
   "cell_type": "code",
   "execution_count": 14,
   "metadata": {},
   "outputs": [
    {
     "name": "stdout",
     "output_type": "stream",
     "text": [
      "Train sequences:\n",
      "[16, 27, 552, 7, 1335, 2192, 1958, 571, 29, 80, 282, 103, 43, 31, 406, 90, 1686, 3860, 1834, 37, 389, 39, 1340, 13, 11, 513, 1087, 34, 63, 16, 210, 71, 1109, 34, 44, 597, 351, 1834, 389]\n",
      "\n",
      "Train sequences after padding:\n",
      "[   0    0    0    0    0    0    0    0    0    0    0    0    0    0\n",
      "    0    0    0    0    0    0    0    0    0    0    0    0    0    0\n",
      "    0    0    0    0    0    0    0    0    0    0    0    0    0    0\n",
      "    0    0    0    0    0    0    0    0    0    0    0    0    0    0\n",
      "    0    0    0    0    0   16   27  552    7 1335 2192 1958  571   29\n",
      "   80  282  103   43   31  406   90 1686 3860 1834   37  389   39 1340\n",
      "   13   11  513 1087   34   63   16  210   71 1109   34   44  597  351\n",
      " 1834  389]\n"
     ]
    }
   ],
   "source": [
    "## Tokenize the traindata review contents\n",
    "\n",
    "# Initialize Tokenizer\n",
    "tokenizer = Tokenizer(num_words = 5000)\n",
    "tokenizer.fit_on_texts(train_x)\n",
    "\n",
    "# Convert reviews to integer sequences (according to the words indexed in the previous step)\n",
    "train_sequences = tokenizer.texts_to_sequences(train_x)\n",
    "test_sequences = tokenizer.texts_to_sequences(test_x)\n",
    "\n",
    "# Test print\n",
    "print(\"Train sequences:\")\n",
    "print(train_sequences[0])\n",
    "\n",
    "# The reviews are padded to have equal length\n",
    "maxlen = 100\n",
    "train_sequences = preprocessing.sequence.pad_sequences(train_sequences, maxlen = maxlen)\n",
    "test_sequences = preprocessing.sequence.pad_sequences(test_sequences, maxlen = maxlen)\n",
    "\n",
    "# Test print after padding\n",
    "print(\"\\nTrain sequences after padding:\")\n",
    "print(train_sequences[0])"
   ]
  },
  {
   "cell_type": "code",
   "execution_count": 15,
   "metadata": {},
   "outputs": [
    {
     "name": "stdout",
     "output_type": "stream",
     "text": [
      "Labels before one hot encoding:\n",
      "[]\n",
      "\n",
      "After one hot encoding:\n",
      "[]\n"
     ]
    }
   ],
   "source": [
    "# One hot encoding train and test labels (y-values)\n",
    "\n",
    "# Test print before one hot encoding\n",
    "print(\"Labels before one hot encoding:\")\n",
    "print(train_y[161292:])\n",
    "\n",
    "train_y = to_categorical(train_y)\n",
    "test_y = to_categorical(test_y)\n",
    "\n",
    "# Test print after one hot encoding\n",
    "print(\"\\nAfter one hot encoding:\")\n",
    "print(train_y[161292:])"
   ]
  },
  {
   "cell_type": "code",
   "execution_count": 16,
   "metadata": {},
   "outputs": [
    {
     "name": "stderr",
     "output_type": "stream",
     "text": [
      "u:\\Users\\jk026110\\tekstianalyysi\\env\\Lib\\site-packages\\keras\\src\\layers\\core\\embedding.py:90: UserWarning: Argument `input_length` is deprecated. Just remove it.\n",
      "  warnings.warn(\n"
     ]
    }
   ],
   "source": [
    "## Simple LSTM network that was selected as the final model\n",
    "\n",
    "# Create a sequential model including Embedding, LSTM and Dense layers\n",
    "model = Sequential()\n",
    "#NOTE - embedding layer to turn positive integers (indexes) into dense vectors of fixed size \"maxlen\" !needs to be the first layer\n",
    "model.add(Embedding(5000, 16, input_length = maxlen))\n",
    "model.add(LSTM(16, dropout = 0.2, recurrent_dropout = 0.2))\n",
    "#NOTE - output layer, needs to be the same size as number of classes\n",
    "model.add(Dense(3, activation = 'softmax')) \n",
    "\n",
    "# model.summary() - disabled for final run as the model can be seen in the code cell here as well."
   ]
  },
  {
   "cell_type": "code",
   "execution_count": 18,
   "metadata": {},
   "outputs": [
    {
     "name": "stdout",
     "output_type": "stream",
     "text": [
      "Weights for each class:\n",
      "{0: np.float64(1.3278506334741054), 1: np.float64(3.7113273969766), 2: np.float64(0.5056997742663657)}\n"
     ]
    }
   ],
   "source": [
    "# Compiling the models and calculating appropriate weights for the classes\n",
    "\n",
    "#categorical_crossentropy because of problem being multiclass\n",
    "model.compile(optimizer = 'rmsprop', loss = 'categorical_crossentropy', metrics = ['acc']) \n",
    "\n",
    "# Calculating class weights for setting weights during training\n",
    "# disabled after settling on final model as discussed further\n",
    "\n",
    "train_y_int = np.argmax(train_y, axis=1) #casting one-hot labels back to integer\n",
    "class_weights = class_weight.compute_class_weight(class_weight='balanced', classes=np.unique(train_y_int), y=train_y_int) #using sklearn.class_weight to calculate balanced weights\n",
    "dict_class_weights = dict(enumerate(class_weights)) #creating a dictionary for the weights\n",
    "\n",
    "#print the calculated class weights for each class\n",
    "print('Weights for each class:')\n",
    "print(dict_class_weights)"
   ]
  },
  {
   "cell_type": "code",
   "execution_count": null,
   "metadata": {},
   "outputs": [
    {
     "name": "stdout",
     "output_type": "stream",
     "text": [
      "Epoch 1/10\n",
      "\u001b[1m1345/1345\u001b[0m \u001b[32m━━━━━━━━━━━━━━━━━━━━\u001b[0m\u001b[37m\u001b[0m \u001b[1m24s\u001b[0m 16ms/step - acc: 0.6778 - loss: 0.7993 - val_acc: 0.7535 - val_loss: 0.6433\n",
      "Epoch 2/10\n",
      "\u001b[1m1345/1345\u001b[0m \u001b[32m━━━━━━━━━━━━━━━━━━━━\u001b[0m\u001b[37m\u001b[0m \u001b[1m23s\u001b[0m 17ms/step - acc: 0.7592 - loss: 0.6360 - val_acc: 0.7636 - val_loss: 0.6220\n",
      "Epoch 3/10\n",
      "\u001b[1m1345/1345\u001b[0m \u001b[32m━━━━━━━━━━━━━━━━━━━━\u001b[0m\u001b[37m\u001b[0m \u001b[1m20s\u001b[0m 15ms/step - acc: 0.7725 - loss: 0.6126 - val_acc: 0.7646 - val_loss: 0.6173\n",
      "Epoch 4/10\n",
      "\u001b[1m1345/1345\u001b[0m \u001b[32m━━━━━━━━━━━━━━━━━━━━\u001b[0m\u001b[37m\u001b[0m \u001b[1m20s\u001b[0m 15ms/step - acc: 0.7814 - loss: 0.5901 - val_acc: 0.7685 - val_loss: 0.6063\n",
      "Epoch 5/10\n",
      "\u001b[1m1345/1345\u001b[0m \u001b[32m━━━━━━━━━━━━━━━━━━━━\u001b[0m\u001b[37m\u001b[0m \u001b[1m22s\u001b[0m 16ms/step - acc: 0.7850 - loss: 0.5772 - val_acc: 0.7702 - val_loss: 0.5996\n",
      "Epoch 6/10\n",
      "\u001b[1m1345/1345\u001b[0m \u001b[32m━━━━━━━━━━━━━━━━━━━━\u001b[0m\u001b[37m\u001b[0m \u001b[1m21s\u001b[0m 16ms/step - acc: 0.7880 - loss: 0.5632 - val_acc: 0.7720 - val_loss: 0.5999\n",
      "Epoch 7/10\n",
      "\u001b[1m1345/1345\u001b[0m \u001b[32m━━━━━━━━━━━━━━━━━━━━\u001b[0m\u001b[37m\u001b[0m \u001b[1m21s\u001b[0m 16ms/step - acc: 0.7917 - loss: 0.5565 - val_acc: 0.7726 - val_loss: 0.5940\n",
      "Epoch 8/10\n",
      "\u001b[1m1345/1345\u001b[0m \u001b[32m━━━━━━━━━━━━━━━━━━━━\u001b[0m\u001b[37m\u001b[0m \u001b[1m22s\u001b[0m 16ms/step - acc: 0.7929 - loss: 0.5516 - val_acc: 0.7718 - val_loss: 0.5941\n",
      "Epoch 9/10\n",
      "\u001b[1m1345/1345\u001b[0m \u001b[32m━━━━━━━━━━━━━━━━━━━━\u001b[0m\u001b[37m\u001b[0m \u001b[1m21s\u001b[0m 16ms/step - acc: 0.7982 - loss: 0.5377 - val_acc: 0.7701 - val_loss: 0.5921\n",
      "Epoch 10/10\n",
      "\u001b[1m1345/1345\u001b[0m \u001b[32m━━━━━━━━━━━━━━━━━━━━\u001b[0m\u001b[37m\u001b[0m \u001b[1m22s\u001b[0m 16ms/step - acc: 0.7972 - loss: 0.5403 - val_acc: 0.7724 - val_loss: 0.5864\n"
     ]
    }
   ],
   "source": [
    "# Train the model by fitting the data\n",
    "\n",
    "# Settings for training\n",
    "epochs = 10 #this would be set higher when using callbacks to stop the training as setup\n",
    "patience = 0.1 * epochs\n",
    "callbackmethod = EarlyStopping(monitor='val_loss', mode='min', min_delta=0.01, verbose=1, patience=patience)\n",
    "\n",
    "# Training the model with weights\n",
    "history = model.fit(train_sequences, train_y, \n",
    "                    epochs = epochs,\n",
    "                    batch_size = 32, \n",
    "                    validation_split = 0.2)\n",
    "                    #callbacks=[callbackmethod]) - disabled for final run\n",
    "                    #class_weight = dict_class_weights - disabled after settling on final model as discussed further\n",
    "# 3min37sek"
   ]
  },
  {
   "cell_type": "code",
   "execution_count": 20,
   "metadata": {},
   "outputs": [
    {
     "data": {
      "image/png": "[encoded data removed]",
      "text/plain": [
       "<Figure size 1000x1000 with 1 Axes>"
      ]
     },
     "metadata": {},
     "output_type": "display_data"
    }
   ],
   "source": [
    "# Checking the the accuracy and loss graphs for the training done\n",
    "\n",
    "plt.figure(figsize=(10,10))\n",
    "\n",
    "acc = history.history['acc']\n",
    "val_acc = history.history['val_acc']\n",
    "loss = history.history['loss']\n",
    "val_loss = history.history['val_loss']\n",
    "epochs = range(1, len(loss)+1)\n",
    "\n",
    "plt.plot(epochs, acc, 'bo-', label = \"Training accuracy\")\n",
    "plt.plot(epochs, val_acc, 'b*--', alpha=0.5, label = \"Validation accuracy\")\n",
    "plt.plot(epochs, loss, 'ro-', label = \"Training loss\")\n",
    "plt.plot(epochs, val_loss, 'r*--', alpha=0.5, label = \"Validation loss\")\n",
    "plt.title('Training and validation accuracy with weights')\n",
    "plt.xlabel('epochs')\n",
    "plt.ylabel('accuracy/loss')\n",
    "plt.grid()\n",
    "plt.legend()\n",
    "\n",
    "plt.show()"
   ]
  },
  {
   "cell_type": "code",
   "execution_count": 21,
   "metadata": {},
   "outputs": [
    {
     "name": "stdout",
     "output_type": "stream",
     "text": [
      "\u001b[1m1681/1681\u001b[0m \u001b[32m━━━━━━━━━━━━━━━━━━━━\u001b[0m\u001b[37m\u001b[0m \u001b[1m7s\u001b[0m 4ms/step\n",
      "              precision    recall  f1-score   support\n",
      "\n",
      "           0       0.72      0.72      0.72     13497\n",
      "           1       0.47      0.06      0.10      4829\n",
      "           2       0.84      0.93      0.88     35440\n",
      "\n",
      "    accuracy                           0.80     53766\n",
      "   macro avg       0.68      0.57      0.57     53766\n",
      "weighted avg       0.77      0.80      0.77     53766\n",
      "\n"
     ]
    }
   ],
   "source": [
    "# Use the model to predict unseen test set and compare the results to known true labels\n",
    "\n",
    "# assigning predicted values (argmax used to convert one-hot back to int)\n",
    "predicted = np.argmax(model.predict(test_sequences), axis = 1)\n",
    "truevalue = np.argmax(test_y, axis = 1)\n",
    "\n",
    "# creating a classification report\n",
    "cr = classification_report(truevalue, predicted)\n",
    "\n",
    "print(cr)"
   ]
  },
  {
   "cell_type": "code",
   "execution_count": 22,
   "metadata": {},
   "outputs": [
    {
     "name": "stdout",
     "output_type": "stream",
     "text": [
      "[[ 9775  1675  2147]\n",
      " [  140   279   172]\n",
      " [ 3582  2875 33121]]\n"
     ]
    }
   ],
   "source": [
    "# Calculating the confusion matrix showing all predictions made for test set\n",
    "\n",
    "# creating a confusion matrix\n",
    "cm = confusion_matrix(truevalue, predicted).T\n",
    "print(cm)"
   ]
  },
  {
   "cell_type": "code",
   "execution_count": 23,
   "metadata": {},
   "outputs": [
    {
     "name": "stdout",
     "output_type": "stream",
     "text": [
      "Cohen's kappa (linear)    = 0.563\n",
      "Cohen's kappa (quadratic) = 0.657\n"
     ]
    }
   ],
   "source": [
    "# Calculating the cohen's kappa for test set predictions with linear and quadratic weights (weighted training)\n",
    "\n",
    "kappa = cohen_kappa_score(truevalue, predicted)\n",
    "print(f\"Cohen's kappa (linear)    = {kappa:.3f}\")\n",
    "quadkappa = cohen_kappa_score(truevalue, predicted, weights = 'quadratic')\n",
    "print(f\"Cohen's kappa (quadratic) = {quadkappa:.3f}\")"
   ]
  },
  {
   "cell_type": "code",
   "execution_count": 24,
   "metadata": {},
   "outputs": [
    {
     "name": "stdout",
     "output_type": "stream",
     "text": [
      "\u001b[1m1681/1681\u001b[0m \u001b[32m━━━━━━━━━━━━━━━━━━━━\u001b[0m\u001b[37m\u001b[0m \u001b[1m7s\u001b[0m 4ms/step - acc: 0.8137 - loss: 0.4997\n"
     ]
    },
    {
     "data": {
      "text/plain": [
       "[0.5194042325019836, 0.8030167818069458]"
      ]
     },
     "execution_count": 24,
     "metadata": {},
     "output_type": "execute_result"
    }
   ],
   "source": [
    "# Raw loss and accuracy calculated for the test set (weighted model)\n",
    "\n",
    "model.evaluate(test_sequences, test_y)"
   ]
  }
 ],
 "metadata": {
  "kernelspec": {
   "display_name": "env",
   "language": "python",
   "name": "python3"
  },
  "language_info": {
   "codemirror_mode": {
    "name": "ipython",
    "version": 3
   },
   "file_extension": ".py",
   "mimetype": "text/x-python",
   "name": "python",
   "nbconvert_exporter": "python",
   "pygments_lexer": "ipython3",
   "version": "3.12.8"
  }
 },
 "nbformat": 4,
 "nbformat_minor": 2
}
