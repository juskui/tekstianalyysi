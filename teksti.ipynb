{
 "cells": [
  {
   "cell_type": "code",
   "execution_count": 1,
   "metadata": {},
   "outputs": [
    {
     "name": "stderr",
     "output_type": "stream",
     "text": [
      "[nltk_data] Downloading package stopwords to\n",
      "[nltk_data]     U:\\Users\\jk026110\\AppData\\Roaming\\nltk_data...\n",
      "[nltk_data]   Package stopwords is already up-to-date!\n"
     ]
    },
    {
     "data": {
      "text/plain": [
       "True"
      ]
     },
     "execution_count": 1,
     "metadata": {},
     "output_type": "execute_result"
    }
   ],
   "source": [
    "import nltk\n",
    "from nltk.corpus import stopwords\n",
    "from nltk.stem import PorterStemmer\n",
    "from nltk.stem import WordNetLemmatizer\n",
    "nltk.download('stopwords')"
   ]
  },
  {
   "cell_type": "markdown",
   "metadata": {},
   "source": [
    "# 1. tekstin lataaminen ja käsittely"
   ]
  },
  {
   "cell_type": "code",
   "execution_count": 2,
   "metadata": {},
   "outputs": [
    {
     "name": "stdout",
     "output_type": "stream",
     "text": [
      "Chief Justice Roberts, President Carter, President Clinton, President Bush, President Obama, fellow Americans, and people of the world: Thank you.\n",
      "\n",
      "We, the citizens of America, are now joined in a great national effort to rebuild our country and restore its promise for all of our people. Together, we will determine the course of America and the world for many, many years to come. We will face challenges, we will confront hardships, but we will get the job done.\n",
      "\n",
      "Every 4 years, we gather on these steps to carry out the orderly and peaceful transfer of power, and we are grateful to President Obama and First Lady Michelle Obama for their gracious aid throughout this transition. They have been magnificent. Thank you.\n",
      "\n",
      "Today's ceremony, however, has very special meaning. Because today we are not merely transferring power from one administration to another or from one party to another, but we are transferring power from Washington, DC, and giving it back to you, the people.\n",
      "\n",
      "For too long, a small group in our Nation's Capital has reaped the rewards of Government while the people have borne the cost. Washington flourished, but the people did not share in its wealth. Politicians prospered, but the jobs left, and the factories closed. The establishment protected itself, but not the citizens of our country. Their victories have not been your victories; their triumphs have not been your triumphs; and while they celebrated in our Nation's Capital, there was little to celebrate for struggling families all across our land.\n",
      "\n",
      "That all changes, starting right here and right now, because this moment is your moment: It belongs to you. It belongs to everyone gathered here today and everyone watching all across America. This is your day. This is your celebration. And this, the United States of America, is your country.\n",
      "\n",
      "What truly matters is not which party controls our Government, but whether our Government is controlled by the people. January 20, 2017, will be remembered as the day the people became the rulers of this Nation again. The forgotten men and women of our country will be forgotten no longer. Everyone is listening to you now.\n",
      "\n",
      "You came by the tens of millions to become part of a historic movement the likes of which the world has never seen before. At the center of this movement is a crucial conviction: that a nation exists to serve its citizens. Americans want great schools for their children, safe neighborhoods for their families, and good jobs for themselves. These are just and reasonable demands of righteous people and a righteous public.\n",
      "\n",
      "But for too many of our citizens, a different reality exists: Mothers and children trapped in poverty in our inner cities; rusted-out factories scattered like tombstones across the landscape of our Nation; an education system, flush with cash, but which leaves our young and beautiful students deprived of all knowledge; and the crime and the gangs and the drugs that have stolen too many lives and robbed our country of so much unrealized potential.\n",
      "\n",
      "This American carnage stops right here and stops right now. We are one Nation, and their pain is our pain, their dreams are our dreams, and their success will be our success. We share one heart, one home, and one glorious destiny.\n",
      "\n",
      "The oath of office I take today is an oath of allegiance to all Americans.\n",
      "\n",
      "For many decades, we've enriched foreign industry at the expense of American industry, subsidized the armies of other countries while allowing for the very sad depletion of our military. We've defended other nations' borders while refusing to defend our own and spent trillions and trillions of dollars overseas while America's infrastructure has fallen into disrepair and decay. We've made other countries rich while the wealth, strength, and confidence of our country has dissipated over the horizon.\n",
      "\n",
      "One by one, the factories shuttered and left our shores, with not even a thought about the millions and millions of American workers that were left behind. The wealth of our middle class has been ripped from their homes and then redistributed all across the world.\n",
      "\n",
      "But that is the past. And now we are looking only to the future.\n",
      "\n",
      "We, assembled here today, are issuing a new decree to be heard in every city, in every foreign capital, and in every hall of power. From this day forward, a new vision will govern our land. From this this day forward, it's going to be only America first. America first.\n",
      "\n",
      "Every decision on trade, on taxes, on immigration, on foreign affairs, will be made to benefit American workers and American families.\n",
      "\n",
      "We must protect our borders from the ravages of other countries making our products, stealing our companies, and destroying our jobs. Protection will lead to great prosperity and strength. I will fight for you with every breath in my body, and I will never, ever let you down.\n",
      "\n",
      "America will start winning again, winning like never before. We will bring back our jobs. We will bring back our borders. We will bring back our wealth. And we will bring back our dreams.\n",
      "\n",
      "We will build new roads and highways and bridges and airports and tunnels and railways all across our wonderful Nation.\n",
      "\n",
      "We will get our people off of welfare and back to work, rebuilding our country with American hands and American labor. We will follow two simple rules: Buy American and hire American.\n",
      "\n",
      "We will seek friendship and good will with the nations of the world, but we do so with the understanding that it is the right of all nations to put their own interests first. We do not seek to impose our way of life on anyone, but rather to let it shine as an examplewe will shinefor everyone to follow.\n",
      "\n",
      "We will reinforce old alliances and form new ones and unite the civilized world against radical Islamic terrorism, which we will eradicate completely from the face of the Earth.\n",
      "\n",
      "At the bedrock of our politics will be a total allegiance to the United States of America, and through our loyalty to our country, we will rediscover our loyalty to each other. When you open your heart to patriotism, there is no room for prejudice. The Bible tells us, \"How good and pleasant it is when God's people live together in unity.\" We must speak our minds openly, debate our disagreements honestly, but always pursue solidarity. When America is united, America is totally unstoppable. There should be no fear: We are protected, and we will always be protected. We will be protected by the great men and women of our military and law enforcement, and most importantly, we will be protected by God.\n",
      "\n",
      "Finally, we must think big and dream even bigger. In America, we understand that a nation is only living as long as it is striving.\n",
      "\n",
      "We will no longer accept politicians who are all talk and no action, constantly complaining, but never doing anything about it. The time for empty talk is over. Now arrives the hour of action.\n",
      "\n",
      "Do not allow anyone to tell you that it cannot be done. No challenge can match the heart and fight and spirit of America. We will not fail. Our country will thrive and prosper again.\n",
      "\n",
      "We stand at the birth of a new millennium, ready to unlock the mysteries of space, to free the Earth from the miseries of disease, and to harness the energies, industries, and technologies of tomorrow. A new national pride will stir our souls, lift our sights, and heal our divisions.\n",
      "\n",
      "It's time to remember that old wisdom our soldiers will never forget: that whether we are Black or Brown or White, we all bleed the same red blood of patriots, we all enjoy the same glorious freedoms, and we all salute the same great American flag.\n",
      "\n",
      "And whether a child is born in the urban sprawl of Detroit or the windswept plains of Nebraska, they look up at the same night sky, they fill their heart with the same dreams, and they are infused with the breath of life by the same almighty Creator.\n",
      "\n",
      "So to all Americans in every city near and far, small and large, from mountain to mountain, from ocean to ocean, hear these words: You will never be ignored again. Your voice, your hopes, and your dreams will define our American destiny. And your courage and goodness and love will forever guide us along the way.\n",
      "\n",
      "Together, we will make America strong again. We will make America wealthy again. We will make America proud again. We will make America safe again.\n",
      "\n",
      "And, yes, together, we will make America great again. Thank you. God bless you, and God bless America. Thank you. God bless America.\n"
     ]
    }
   ],
   "source": [
    "with open('speeches/2017-Trump.txt', 'r', encoding='latin-1') as file:\n",
    "    text = file.read()\n",
    "print(text)"
   ]
  },
  {
   "cell_type": "code",
   "execution_count": 3,
   "metadata": {},
   "outputs": [
    {
     "name": "stdout",
     "output_type": "stream",
     "text": [
      "Chief Justice Roberts President Carter President Clinton President Bush President Obama fellow Americans and people of the world Thank you\n",
      "\n",
      "We the citizens of America are now joined in a great national effort to rebuild our country and restore its promise for all of our people Together we will determine the course of America and the world for many many years to come We will face challenges we will confront hardships but we will get the job done\n",
      "\n",
      "Every 4 years we gather on these steps to carry out the orderly and peaceful transfer of power and we are grateful to President Obama and First Lady Michelle Obama for their gracious aid throughout this transition They have been magnificent Thank you\n",
      "\n",
      "Todays ceremony however has very special meaning Because today we are not merely transferring power from one administration to another or from one party to another but we are transferring power from Washington DC and giving it back to you the people\n",
      "\n",
      "For too long a small group in our Nations Capital has reaped the rewards of Government while the people have borne the cost Washington flourished but the people did not share in its wealth Politicians prospered but the jobs left and the factories closed The establishment protected itself but not the citizens of our country Their victories have not been your victories their triumphs have not been your triumphs and while they celebrated in our Nations Capital there was little to celebrate for struggling families all across our land\n",
      "\n",
      "That all changes starting right here and right now because this moment is your moment It belongs to you It belongs to everyone gathered here today and everyone watching all across America This is your day This is your celebration And this the United States of America is your country\n",
      "\n",
      "What truly matters is not which party controls our Government but whether our Government is controlled by the people January 20 2017 will be remembered as the day the people became the rulers of this Nation again The forgotten men and women of our country will be forgotten no longer Everyone is listening to you now\n",
      "\n",
      "You came by the tens of millions to become part of a historic movement the likes of which the world has never seen before At the center of this movement is a crucial conviction that a nation exists to serve its citizens Americans want great schools for their children safe neighborhoods for their families and good jobs for themselves These are just and reasonable demands of righteous people and a righteous public\n",
      "\n",
      "But for too many of our citizens a different reality exists Mothers and children trapped in poverty in our inner cities rusted-out factories scattered like tombstones across the landscape of our Nation an education system flush with cash but which leaves our young and beautiful students deprived of all knowledge and the crime and the gangs and the drugs that have stolen too many lives and robbed our country of so much unrealized potential\n",
      "\n",
      "This American carnage stops right here and stops right now We are one Nation and their pain is our pain their dreams are our dreams and their success will be our success We share one heart one home and one glorious destiny\n",
      "\n",
      "The oath of office I take today is an oath of allegiance to all Americans\n",
      "\n",
      "For many decades weve enriched foreign industry at the expense of American industry subsidized the armies of other countries while allowing for the very sad depletion of our military Weve defended other nations borders while refusing to defend our own and spent trillions and trillions of dollars overseas while Americas infrastructure has fallen into disrepair and decay Weve made other countries rich while the wealth strength and confidence of our country has dissipated over the horizon\n",
      "\n",
      "One by one the factories shuttered and left our shores with not even a thought about the millions and millions of American workers that were left behind The wealth of our middle class has been ripped from their homes and then redistributed all across the world\n",
      "\n",
      "But that is the past And now we are looking only to the future\n",
      "\n",
      "We assembled here today are issuing a new decree to be heard in every city in every foreign capital and in every hall of power From this day forward a new vision will govern our land From this this day forward its going to be only America first America first\n",
      "\n",
      "Every decision on trade on taxes on immigration on foreign affairs will be made to benefit American workers and American families\n",
      "\n",
      "We must protect our borders from the ravages of other countries making our products stealing our companies and destroying our jobs Protection will lead to great prosperity and strength I will fight for you with every breath in my body and I will never ever let you down\n",
      "\n",
      "America will start winning again winning like never before We will bring back our jobs We will bring back our borders We will bring back our wealth And we will bring back our dreams\n",
      "\n",
      "We will build new roads and highways and bridges and airports and tunnels and railways all across our wonderful Nation\n",
      "\n",
      "We will get our people off of welfare and back to work rebuilding our country with American hands and American labor We will follow two simple rules Buy American and hire American\n",
      "\n",
      "We will seek friendship and good will with the nations of the world but we do so with the understanding that it is the right of all nations to put their own interests first We do not seek to impose our way of life on anyone but rather to let it shine as an examplewe will shinefor everyone to follow\n",
      "\n",
      "We will reinforce old alliances and form new ones and unite the civilized world against radical Islamic terrorism which we will eradicate completely from the face of the Earth\n",
      "\n",
      "At the bedrock of our politics will be a total allegiance to the United States of America and through our loyalty to our country we will rediscover our loyalty to each other When you open your heart to patriotism there is no room for prejudice The Bible tells us \"How good and pleasant it is when Gods people live together in unity\" We must speak our minds openly debate our disagreements honestly but always pursue solidarity When America is united America is totally unstoppable There should be no fear We are protected and we will always be protected We will be protected by the great men and women of our military and law enforcement and most importantly we will be protected by God\n",
      "\n",
      "Finally we must think big and dream even bigger In America we understand that a nation is only living as long as it is striving\n",
      "\n",
      "We will no longer accept politicians who are all talk and no action constantly complaining but never doing anything about it The time for empty talk is over Now arrives the hour of action\n",
      "\n",
      "Do not allow anyone to tell you that it cannot be done No challenge can match the heart and fight and spirit of America We will not fail Our country will thrive and prosper again\n",
      "\n",
      "We stand at the birth of a new millennium ready to unlock the mysteries of space to free the Earth from the miseries of disease and to harness the energies industries and technologies of tomorrow A new national pride will stir our souls lift our sights and heal our divisions\n",
      "\n",
      "Its time to remember that old wisdom our soldiers will never forget that whether we are Black or Brown or White we all bleed the same red blood of patriots we all enjoy the same glorious freedoms and we all salute the same great American flag\n",
      "\n",
      "And whether a child is born in the urban sprawl of Detroit or the windswept plains of Nebraska they look up at the same night sky they fill their heart with the same dreams and they are infused with the breath of life by the same almighty Creator\n",
      "\n",
      "So to all Americans in every city near and far small and large from mountain to mountain from ocean to ocean hear these words You will never be ignored again Your voice your hopes and your dreams will define our American destiny And your courage and goodness and love will forever guide us along the way\n",
      "\n",
      "Together we will make America strong again We will make America wealthy again We will make America proud again We will make America safe again\n",
      "\n",
      "And yes together we will make America great again Thank you God bless you and God bless America Thank you God bless America\n"
     ]
    }
   ],
   "source": [
    "for c in ['.',',',':',';',\"'\"]: # omat lisäys ,\"'\"\n",
    "    text = text.replace(c, '')\n",
    "print(text)"
   ]
  },
  {
   "cell_type": "code",
   "execution_count": 4,
   "metadata": {},
   "outputs": [
    {
     "name": "stdout",
     "output_type": "stream",
     "text": [
      "['chief', 'justice', 'roberts', 'president', 'carter', 'president', 'clinton', 'president', 'bush', 'president', 'obama', 'fellow', 'americans', 'and', 'people', 'of', 'the', 'world', 'thank', 'you', 'we', 'the', 'citizens', 'of', 'america', 'are', 'now', 'joined', 'in', 'a', 'great', 'national', 'effort', 'to', 'rebuild', 'our', 'country', 'and', 'restore', 'its', 'promise', 'for', 'all', 'of', 'our', 'people', 'together', 'we', 'will', 'determine', 'the', 'course', 'of', 'america', 'and', 'the', 'world', 'for', 'many', 'many', 'years', 'to', 'come', 'we', 'will', 'face', 'challenges', 'we', 'will', 'confront', 'hardships', 'but', 'we', 'will', 'get', 'the', 'job', 'done', 'every', 'years', 'we', 'gather', 'on', 'these', 'steps', 'to', 'carry', 'out', 'the', 'orderly', 'and', 'peaceful', 'transfer', 'of', 'power', 'and', 'we', 'are', 'grateful', 'to', 'president', 'obama', 'and', 'first', 'lady', 'michelle', 'obama', 'for', 'their', 'gracious', 'aid', 'throughout', 'this', 'transition', 'they', 'have', 'been', 'magnificent', 'thank', 'you', 'todays', 'ceremony', 'however', 'has', 'very', 'special', 'meaning', 'because', 'today', 'we', 'are', 'not', 'merely', 'transferring', 'power', 'from', 'one', 'administration', 'to', 'another', 'or', 'from', 'one', 'party', 'to', 'another', 'but', 'we', 'are', 'transferring', 'power', 'from', 'washington', 'dc', 'and', 'giving', 'it', 'back', 'to', 'you', 'the', 'people', 'for', 'too', 'long', 'a', 'small', 'group', 'in', 'our', 'nations', 'capital', 'has', 'reaped', 'the', 'rewards', 'of', 'government', 'while', 'the', 'people', 'have', 'borne', 'the', 'cost', 'washington', 'flourished', 'but', 'the', 'people', 'did', 'not', 'share', 'in', 'its', 'wealth', 'politicians', 'prospered', 'but', 'the', 'jobs', 'left', 'and', 'the', 'factories', 'closed', 'the', 'establishment', 'protected', 'itself', 'but', 'not', 'the', 'citizens', 'of', 'our', 'country', 'their', 'victories', 'have', 'not', 'been', 'your', 'victories', 'their', 'triumphs', 'have', 'not', 'been', 'your', 'triumphs', 'and', 'while', 'they', 'celebrated', 'in', 'our', 'nations', 'capital', 'there', 'was', 'little', 'to', 'celebrate', 'for', 'struggling', 'families', 'all', 'across', 'our', 'land', 'that', 'all', 'changes', 'starting', 'right', 'here', 'and', 'right', 'now', 'because', 'this', 'moment', 'is', 'your', 'moment', 'it', 'belongs', 'to', 'you', 'it', 'belongs', 'to', 'everyone', 'gathered', 'here', 'today', 'and', 'everyone', 'watching', 'all', 'across', 'america', 'this', 'is', 'your', 'day', 'this', 'is', 'your', 'celebration', 'and', 'this', 'the', 'united', 'states', 'of', 'america', 'is', 'your', 'country', 'what', 'truly', 'matters', 'is', 'not', 'which', 'party', 'controls', 'our', 'government', 'but', 'whether', 'our', 'government', 'is', 'controlled', 'by', 'the', 'people', 'january', 'will', 'be', 'remembered', 'as', 'the', 'day', 'the', 'people', 'became', 'the', 'rulers', 'of', 'this', 'nation', 'again', 'the', 'forgotten', 'men', 'and', 'women', 'of', 'our', 'country', 'will', 'be', 'forgotten', 'no', 'longer', 'everyone', 'is', 'listening', 'to', 'you', 'now', 'you', 'came', 'by', 'the', 'tens', 'of', 'millions', 'to', 'become', 'part', 'of', 'a', 'historic', 'movement', 'the', 'likes', 'of', 'which', 'the', 'world', 'has', 'never', 'seen', 'before', 'at', 'the', 'center', 'of', 'this', 'movement', 'is', 'a', 'crucial', 'conviction', 'that', 'a', 'nation', 'exists', 'to', 'serve', 'its', 'citizens', 'americans', 'want', 'great', 'schools', 'for', 'their', 'children', 'safe', 'neighborhoods', 'for', 'their', 'families', 'and', 'good', 'jobs', 'for', 'themselves', 'these', 'are', 'just', 'and', 'reasonable', 'demands', 'of', 'righteous', 'people', 'and', 'a', 'righteous', 'public', 'but', 'for', 'too', 'many', 'of', 'our', 'citizens', 'a', 'different', 'reality', 'exists', 'mothers', 'and', 'children', 'trapped', 'in', 'poverty', 'in', 'our', 'inner', 'cities', 'factories', 'scattered', 'like', 'tombstones', 'across', 'the', 'landscape', 'of', 'our', 'nation', 'an', 'education', 'system', 'flush', 'with', 'cash', 'but', 'which', 'leaves', 'our', 'young', 'and', 'beautiful', 'students', 'deprived', 'of', 'all', 'knowledge', 'and', 'the', 'crime', 'and', 'the', 'gangs', 'and', 'the', 'drugs', 'that', 'have', 'stolen', 'too', 'many', 'lives', 'and', 'robbed', 'our', 'country', 'of', 'so', 'much', 'unrealized', 'potential', 'this', 'american', 'carnage', 'stops', 'right', 'here', 'and', 'stops', 'right', 'now', 'we', 'are', 'one', 'nation', 'and', 'their', 'pain', 'is', 'our', 'pain', 'their', 'dreams', 'are', 'our', 'dreams', 'and', 'their', 'success', 'will', 'be', 'our', 'success', 'we', 'share', 'one', 'heart', 'one', 'home', 'and', 'one', 'glorious', 'destiny', 'the', 'oath', 'of', 'office', 'i', 'take', 'today', 'is', 'an', 'oath', 'of', 'allegiance', 'to', 'all', 'americans', 'for', 'many', 'decades', 'weve', 'enriched', 'foreign', 'industry', 'at', 'the', 'expense', 'of', 'american', 'industry', 'subsidized', 'the', 'armies', 'of', 'other', 'countries', 'while', 'allowing', 'for', 'the', 'very', 'sad', 'depletion', 'of', 'our', 'military', 'weve', 'defended', 'other', 'nations', 'borders', 'while', 'refusing', 'to', 'defend', 'our', 'own', 'and', 'spent', 'trillions', 'and', 'trillions', 'of', 'dollars', 'overseas', 'while', 'americas', 'infrastructure', 'has', 'fallen', 'into', 'disrepair', 'and', 'decay', 'weve', 'made', 'other', 'countries', 'rich', 'while', 'the', 'wealth', 'strength', 'and', 'confidence', 'of', 'our', 'country', 'has', 'dissipated', 'over', 'the', 'horizon', 'one', 'by', 'one', 'the', 'factories', 'shuttered', 'and', 'left', 'our', 'shores', 'with', 'not', 'even', 'a', 'thought', 'about', 'the', 'millions', 'and', 'millions', 'of', 'american', 'workers', 'that', 'were', 'left', 'behind', 'the', 'wealth', 'of', 'our', 'middle', 'class', 'has', 'been', 'ripped', 'from', 'their', 'homes', 'and', 'then', 'redistributed', 'all', 'across', 'the', 'world', 'but', 'that', 'is', 'the', 'past', 'and', 'now', 'we', 'are', 'looking', 'only', 'to', 'the', 'future', 'we', 'assembled', 'here', 'today', 'are', 'issuing', 'a', 'new', 'decree', 'to', 'be', 'heard', 'in', 'every', 'city', 'in', 'every', 'foreign', 'capital', 'and', 'in', 'every', 'hall', 'of', 'power', 'from', 'this', 'day', 'forward', 'a', 'new', 'vision', 'will', 'govern', 'our', 'land', 'from', 'this', 'this', 'day', 'forward', 'its', 'going', 'to', 'be', 'only', 'america', 'first', 'america', 'first', 'every', 'decision', 'on', 'trade', 'on', 'taxes', 'on', 'immigration', 'on', 'foreign', 'affairs', 'will', 'be', 'made', 'to', 'benefit', 'american', 'workers', 'and', 'american', 'families', 'we', 'must', 'protect', 'our', 'borders', 'from', 'the', 'ravages', 'of', 'other', 'countries', 'making', 'our', 'products', 'stealing', 'our', 'companies', 'and', 'destroying', 'our', 'jobs', 'protection', 'will', 'lead', 'to', 'great', 'prosperity', 'and', 'strength', 'i', 'will', 'fight', 'for', 'you', 'with', 'every', 'breath', 'in', 'my', 'body', 'and', 'i', 'will', 'never', 'ever', 'let', 'you', 'down', 'america', 'will', 'start', 'winning', 'again', 'winning', 'like', 'never', 'before', 'we', 'will', 'bring', 'back', 'our', 'jobs', 'we', 'will', 'bring', 'back', 'our', 'borders', 'we', 'will', 'bring', 'back', 'our', 'wealth', 'and', 'we', 'will', 'bring', 'back', 'our', 'dreams', 'we', 'will', 'build', 'new', 'roads', 'and', 'highways', 'and', 'bridges', 'and', 'airports', 'and', 'tunnels', 'and', 'railways', 'all', 'across', 'our', 'wonderful', 'nation', 'we', 'will', 'get', 'our', 'people', 'off', 'of', 'welfare', 'and', 'back', 'to', 'work', 'rebuilding', 'our', 'country', 'with', 'american', 'hands', 'and', 'american', 'labor', 'we', 'will', 'follow', 'two', 'simple', 'rules', 'buy', 'american', 'and', 'hire', 'american', 'we', 'will', 'seek', 'friendship', 'and', 'good', 'will', 'with', 'the', 'nations', 'of', 'the', 'world', 'but', 'we', 'do', 'so', 'with', 'the', 'understanding', 'that', 'it', 'is', 'the', 'right', 'of', 'all', 'nations', 'to', 'put', 'their', 'own', 'interests', 'first', 'we', 'do', 'not', 'seek', 'to', 'impose', 'our', 'way', 'of', 'life', 'on', 'anyone', 'but', 'rather', 'to', 'let', 'it', 'shine', 'as', 'an', 'will', 'everyone', 'to', 'follow', 'we', 'will', 'reinforce', 'old', 'alliances', 'and', 'form', 'new', 'ones', 'and', 'unite', 'the', 'civilized', 'world', 'against', 'radical', 'islamic', 'terrorism', 'which', 'we', 'will', 'eradicate', 'completely', 'from', 'the', 'face', 'of', 'the', 'earth', 'at', 'the', 'bedrock', 'of', 'our', 'politics', 'will', 'be', 'a', 'total', 'allegiance', 'to', 'the', 'united', 'states', 'of', 'america', 'and', 'through', 'our', 'loyalty', 'to', 'our', 'country', 'we', 'will', 'rediscover', 'our', 'loyalty', 'to', 'each', 'other', 'when', 'you', 'open', 'your', 'heart', 'to', 'patriotism', 'there', 'is', 'no', 'room', 'for', 'prejudice', 'the', 'bible', 'tells', 'us', 'good', 'and', 'pleasant', 'it', 'is', 'when', 'gods', 'people', 'live', 'together', 'in', 'we', 'must', 'speak', 'our', 'minds', 'openly', 'debate', 'our', 'disagreements', 'honestly', 'but', 'always', 'pursue', 'solidarity', 'when', 'america', 'is', 'united', 'america', 'is', 'totally', 'unstoppable', 'there', 'should', 'be', 'no', 'fear', 'we', 'are', 'protected', 'and', 'we', 'will', 'always', 'be', 'protected', 'we', 'will', 'be', 'protected', 'by', 'the', 'great', 'men', 'and', 'women', 'of', 'our', 'military', 'and', 'law', 'enforcement', 'and', 'most', 'importantly', 'we', 'will', 'be', 'protected', 'by', 'god', 'finally', 'we', 'must', 'think', 'big', 'and', 'dream', 'even', 'bigger', 'in', 'america', 'we', 'understand', 'that', 'a', 'nation', 'is', 'only', 'living', 'as', 'long', 'as', 'it', 'is', 'striving', 'we', 'will', 'no', 'longer', 'accept', 'politicians', 'who', 'are', 'all', 'talk', 'and', 'no', 'action', 'constantly', 'complaining', 'but', 'never', 'doing', 'anything', 'about', 'it', 'the', 'time', 'for', 'empty', 'talk', 'is', 'over', 'now', 'arrives', 'the', 'hour', 'of', 'action', 'do', 'not', 'allow', 'anyone', 'to', 'tell', 'you', 'that', 'it', 'cannot', 'be', 'done', 'no', 'challenge', 'can', 'match', 'the', 'heart', 'and', 'fight', 'and', 'spirit', 'of', 'america', 'we', 'will', 'not', 'fail', 'our', 'country', 'will', 'thrive', 'and', 'prosper', 'again', 'we', 'stand', 'at', 'the', 'birth', 'of', 'a', 'new', 'millennium', 'ready', 'to', 'unlock', 'the', 'mysteries', 'of', 'space', 'to', 'free', 'the', 'earth', 'from', 'the', 'miseries', 'of', 'disease', 'and', 'to', 'harness', 'the', 'energies', 'industries', 'and', 'technologies', 'of', 'tomorrow', 'a', 'new', 'national', 'pride', 'will', 'stir', 'our', 'souls', 'lift', 'our', 'sights', 'and', 'heal', 'our', 'divisions', 'its', 'time', 'to', 'remember', 'that', 'old', 'wisdom', 'our', 'soldiers', 'will', 'never', 'forget', 'that', 'whether', 'we', 'are', 'black', 'or', 'brown', 'or', 'white', 'we', 'all', 'bleed', 'the', 'same', 'red', 'blood', 'of', 'patriots', 'we', 'all', 'enjoy', 'the', 'same', 'glorious', 'freedoms', 'and', 'we', 'all', 'salute', 'the', 'same', 'great', 'american', 'flag', 'and', 'whether', 'a', 'child', 'is', 'born', 'in', 'the', 'urban', 'sprawl', 'of', 'detroit', 'or', 'the', 'windswept', 'plains', 'of', 'nebraska', 'they', 'look', 'up', 'at', 'the', 'same', 'night', 'sky', 'they', 'fill', 'their', 'heart', 'with', 'the', 'same', 'dreams', 'and', 'they', 'are', 'infused', 'with', 'the', 'breath', 'of', 'life', 'by', 'the', 'same', 'almighty', 'creator', 'so', 'to', 'all', 'americans', 'in', 'every', 'city', 'near', 'and', 'far', 'small', 'and', 'large', 'from', 'mountain', 'to', 'mountain', 'from', 'ocean', 'to', 'ocean', 'hear', 'these', 'words', 'you', 'will', 'never', 'be', 'ignored', 'again', 'your', 'voice', 'your', 'hopes', 'and', 'your', 'dreams', 'will', 'define', 'our', 'american', 'destiny', 'and', 'your', 'courage', 'and', 'goodness', 'and', 'love', 'will', 'forever', 'guide', 'us', 'along', 'the', 'way', 'together', 'we', 'will', 'make', 'america', 'strong', 'again', 'we', 'will', 'make', 'america', 'wealthy', 'again', 'we', 'will', 'make', 'america', 'proud', 'again', 'we', 'will', 'make', 'america', 'safe', 'again', 'and', 'yes', 'together', 'we', 'will', 'make', 'america', 'great', 'again', 'thank', 'you', 'god', 'bless', 'you', 'and', 'god', 'bless', 'america', 'thank', 'you', 'god', 'bless', 'america']\n"
     ]
    }
   ],
   "source": [
    "tokens = text.split()\n",
    "tokens=[token.lower() for token in tokens if token.isalpha()]\n",
    "print(tokens)"
   ]
  },
  {
   "cell_type": "code",
   "execution_count": 5,
   "metadata": {},
   "outputs": [
    {
     "name": "stdout",
     "output_type": "stream",
     "text": [
      "                         chief     1\n",
      "                       justice     1\n",
      "                       roberts     1\n",
      "                     president     5\n",
      "                        carter     1\n",
      "                       clinton     1\n",
      "                          bush     1\n",
      "                         obama     3\n",
      "                        fellow     1\n",
      "                     americans     4\n",
      "                           and    76\n",
      "                        people    10\n",
      "                            of    48\n",
      "                           the    71\n",
      "                         world     6\n",
      "                         thank     4\n",
      "                           you    14\n",
      "                            we    46\n",
      "                      citizens     4\n",
      "                       america    19\n",
      "                           are    13\n",
      "                           now     6\n",
      "                        joined     1\n",
      "                            in    14\n",
      "                             a    15\n",
      "                         great     6\n",
      "                      national     2\n",
      "                        effort     1\n",
      "                            to    37\n",
      "                       rebuild     1\n",
      "                           our    48\n",
      "                       country     9\n",
      "                       restore     1\n",
      "                           its     5\n",
      "                       promise     1\n",
      "                           for    14\n",
      "                           all    14\n",
      "                      together     4\n",
      "                          will    43\n",
      "                     determine     1\n",
      "                        course     1\n",
      "                          many     5\n",
      "                         years     2\n",
      "                          come     1\n",
      "                          face     2\n",
      "                    challenges     1\n",
      "                      confront     1\n",
      "                     hardships     1\n",
      "                           but    13\n",
      "                           get     2\n",
      "                           job     1\n",
      "                          done     2\n",
      "                         every     7\n",
      "                        gather     1\n",
      "                            on     6\n",
      "                         these     3\n",
      "                         steps     1\n",
      "                         carry     1\n",
      "                           out     1\n",
      "                       orderly     1\n",
      "                      peaceful     1\n",
      "                      transfer     1\n",
      "                         power     4\n",
      "                      grateful     1\n",
      "                         first     4\n",
      "                          lady     1\n",
      "                      michelle     1\n",
      "                         their    11\n",
      "                      gracious     1\n",
      "                           aid     1\n",
      "                    throughout     1\n",
      "                          this    11\n",
      "                    transition     1\n",
      "                          they     5\n",
      "                          have     5\n",
      "                          been     4\n",
      "                   magnificent     1\n",
      "                        todays     1\n",
      "                      ceremony     1\n",
      "                       however     1\n",
      "                           has     6\n",
      "                          very     2\n",
      "                       special     1\n",
      "                       meaning     1\n",
      "                       because     2\n",
      "                         today     4\n",
      "                           not    10\n",
      "                        merely     1\n",
      "                  transferring     2\n",
      "                          from    11\n",
      "                           one     8\n",
      "                administration     1\n",
      "                       another     2\n",
      "                            or     4\n",
      "                         party     2\n",
      "                    washington     2\n",
      "                            dc     1\n",
      "                        giving     1\n",
      "                            it     9\n",
      "                          back     6\n",
      "                           too     3\n",
      "                          long     2\n",
      "                         small     2\n",
      "                         group     1\n",
      "                       nations     5\n",
      "                       capital     3\n",
      "                        reaped     1\n",
      "                       rewards     1\n",
      "                    government     3\n",
      "                         while     6\n",
      "                         borne     1\n",
      "                          cost     1\n",
      "                    flourished     1\n",
      "                           did     1\n",
      "                         share     2\n",
      "                        wealth     4\n",
      "                   politicians     2\n",
      "                     prospered     1\n",
      "                          jobs     4\n",
      "                          left     3\n",
      "                     factories     3\n",
      "                        closed     1\n",
      "                 establishment     1\n",
      "                     protected     5\n",
      "                        itself     1\n",
      "                     victories     2\n",
      "                          your    11\n",
      "                      triumphs     2\n",
      "                    celebrated     1\n",
      "                         there     3\n",
      "                           was     1\n",
      "                        little     1\n",
      "                     celebrate     1\n",
      "                    struggling     1\n",
      "                      families     3\n",
      "                        across     5\n",
      "                          land     2\n",
      "                          that    10\n",
      "                       changes     1\n",
      "                      starting     1\n",
      "                         right     5\n",
      "                          here     4\n",
      "                        moment     2\n",
      "                            is    20\n",
      "                       belongs     2\n",
      "                      everyone     4\n",
      "                      gathered     1\n",
      "                      watching     1\n",
      "                           day     4\n",
      "                   celebration     1\n",
      "                        united     3\n",
      "                        states     2\n",
      "                          what     1\n",
      "                         truly     1\n",
      "                       matters     1\n",
      "                         which     4\n",
      "                      controls     1\n",
      "                       whether     3\n",
      "                    controlled     1\n",
      "                            by     6\n",
      "                       january     1\n",
      "                            be    13\n",
      "                    remembered     1\n",
      "                            as     4\n",
      "                        became     1\n",
      "                        rulers     1\n",
      "                        nation     6\n",
      "                         again     9\n",
      "                     forgotten     2\n",
      "                           men     2\n",
      "                         women     2\n",
      "                            no     6\n",
      "                        longer     2\n",
      "                     listening     1\n",
      "                          came     1\n",
      "                          tens     1\n",
      "                      millions     3\n",
      "                        become     1\n",
      "                          part     1\n",
      "                      historic     1\n",
      "                      movement     2\n",
      "                         likes     1\n",
      "                         never     6\n",
      "                          seen     1\n",
      "                        before     2\n",
      "                            at     5\n",
      "                        center     1\n",
      "                       crucial     1\n",
      "                    conviction     1\n",
      "                        exists     2\n",
      "                         serve     1\n",
      "                          want     1\n",
      "                       schools     1\n",
      "                      children     2\n",
      "                          safe     2\n",
      "                 neighborhoods     1\n",
      "                          good     3\n",
      "                    themselves     1\n",
      "                          just     1\n",
      "                    reasonable     1\n",
      "                       demands     1\n",
      "                     righteous     2\n",
      "                        public     1\n",
      "                     different     1\n",
      "                       reality     1\n",
      "                       mothers     1\n",
      "                       trapped     1\n",
      "                       poverty     1\n",
      "                         inner     1\n",
      "                        cities     1\n",
      "                     scattered     1\n",
      "                          like     2\n",
      "                    tombstones     1\n",
      "                     landscape     1\n",
      "                            an     3\n",
      "                     education     1\n",
      "                        system     1\n",
      "                         flush     1\n",
      "                          with     8\n",
      "                          cash     1\n",
      "                        leaves     1\n",
      "                         young     1\n",
      "                     beautiful     1\n",
      "                      students     1\n",
      "                      deprived     1\n",
      "                     knowledge     1\n",
      "                         crime     1\n",
      "                         gangs     1\n",
      "                         drugs     1\n",
      "                        stolen     1\n",
      "                         lives     1\n",
      "                        robbed     1\n",
      "                            so     3\n",
      "                          much     1\n",
      "                    unrealized     1\n",
      "                     potential     1\n",
      "                      american    11\n",
      "                       carnage     1\n",
      "                         stops     2\n",
      "                          pain     2\n",
      "                        dreams     5\n",
      "                       success     2\n",
      "                         heart     4\n",
      "                          home     1\n",
      "                      glorious     2\n",
      "                       destiny     2\n",
      "                          oath     2\n",
      "                        office     1\n",
      "                             i     3\n",
      "                          take     1\n",
      "                    allegiance     2\n",
      "                       decades     1\n",
      "                          weve     3\n",
      "                      enriched     1\n",
      "                       foreign     3\n",
      "                      industry     2\n",
      "                       expense     1\n",
      "                    subsidized     1\n",
      "                        armies     1\n",
      "                         other     5\n",
      "                     countries     3\n",
      "                      allowing     1\n",
      "                           sad     1\n",
      "                     depletion     1\n",
      "                      military     2\n",
      "                      defended     1\n",
      "                       borders     3\n",
      "                      refusing     1\n",
      "                        defend     1\n",
      "                           own     2\n",
      "                         spent     1\n",
      "                     trillions     2\n",
      "                       dollars     1\n",
      "                      overseas     1\n",
      "                      americas     1\n",
      "                infrastructure     1\n",
      "                        fallen     1\n",
      "                          into     1\n",
      "                     disrepair     1\n",
      "                         decay     1\n",
      "                          made     2\n",
      "                          rich     1\n",
      "                      strength     2\n",
      "                    confidence     1\n",
      "                    dissipated     1\n",
      "                          over     2\n",
      "                       horizon     1\n",
      "                     shuttered     1\n",
      "                        shores     1\n",
      "                          even     2\n",
      "                       thought     1\n",
      "                         about     2\n",
      "                       workers     2\n",
      "                          were     1\n",
      "                        behind     1\n",
      "                        middle     1\n",
      "                         class     1\n",
      "                        ripped     1\n",
      "                         homes     1\n",
      "                          then     1\n",
      "                 redistributed     1\n",
      "                          past     1\n",
      "                       looking     1\n",
      "                          only     3\n",
      "                        future     1\n",
      "                     assembled     1\n",
      "                       issuing     1\n",
      "                           new     6\n",
      "                        decree     1\n",
      "                         heard     1\n",
      "                          city     2\n",
      "                          hall     1\n",
      "                       forward     2\n",
      "                        vision     1\n",
      "                        govern     1\n",
      "                         going     1\n",
      "                      decision     1\n",
      "                         trade     1\n",
      "                         taxes     1\n",
      "                   immigration     1\n",
      "                       affairs     1\n",
      "                       benefit     1\n",
      "                          must     3\n",
      "                       protect     1\n",
      "                       ravages     1\n",
      "                        making     1\n",
      "                      products     1\n",
      "                      stealing     1\n",
      "                     companies     1\n",
      "                    destroying     1\n",
      "                    protection     1\n",
      "                          lead     1\n",
      "                    prosperity     1\n",
      "                         fight     2\n",
      "                        breath     2\n",
      "                            my     1\n",
      "                          body     1\n",
      "                          ever     1\n",
      "                           let     2\n",
      "                          down     1\n",
      "                         start     1\n",
      "                       winning     2\n",
      "                         bring     4\n",
      "                         build     1\n",
      "                         roads     1\n",
      "                      highways     1\n",
      "                       bridges     1\n",
      "                      airports     1\n",
      "                       tunnels     1\n",
      "                      railways     1\n",
      "                     wonderful     1\n",
      "                           off     1\n",
      "                       welfare     1\n",
      "                          work     1\n",
      "                    rebuilding     1\n",
      "                         hands     1\n",
      "                         labor     1\n",
      "                        follow     2\n",
      "                           two     1\n",
      "                        simple     1\n",
      "                         rules     1\n",
      "                           buy     1\n",
      "                          hire     1\n",
      "                          seek     2\n",
      "                    friendship     1\n",
      "                            do     3\n",
      "                 understanding     1\n",
      "                           put     1\n",
      "                     interests     1\n",
      "                        impose     1\n",
      "                           way     2\n",
      "                          life     2\n",
      "                        anyone     2\n",
      "                        rather     1\n",
      "                         shine     1\n",
      "                     reinforce     1\n",
      "                           old     2\n",
      "                     alliances     1\n",
      "                          form     1\n",
      "                          ones     1\n",
      "                         unite     1\n",
      "                     civilized     1\n",
      "                       against     1\n",
      "                       radical     1\n",
      "                       islamic     1\n",
      "                     terrorism     1\n",
      "                     eradicate     1\n",
      "                    completely     1\n",
      "                         earth     2\n",
      "                       bedrock     1\n",
      "                      politics     1\n",
      "                         total     1\n",
      "                       through     1\n",
      "                       loyalty     2\n",
      "                    rediscover     1\n",
      "                          each     1\n",
      "                          when     3\n",
      "                          open     1\n",
      "                    patriotism     1\n",
      "                          room     1\n",
      "                     prejudice     1\n",
      "                         bible     1\n",
      "                         tells     1\n",
      "                            us     2\n",
      "                      pleasant     1\n",
      "                          gods     1\n",
      "                          live     1\n",
      "                         speak     1\n",
      "                         minds     1\n",
      "                        openly     1\n",
      "                        debate     1\n",
      "                 disagreements     1\n",
      "                      honestly     1\n",
      "                        always     2\n",
      "                        pursue     1\n",
      "                    solidarity     1\n",
      "                       totally     1\n",
      "                   unstoppable     1\n",
      "                        should     1\n",
      "                          fear     1\n",
      "                           law     1\n",
      "                   enforcement     1\n",
      "                          most     1\n",
      "                   importantly     1\n",
      "                           god     4\n",
      "                       finally     1\n",
      "                         think     1\n",
      "                           big     1\n",
      "                         dream     1\n",
      "                        bigger     1\n",
      "                    understand     1\n",
      "                        living     1\n",
      "                      striving     1\n",
      "                        accept     1\n",
      "                           who     1\n",
      "                          talk     2\n",
      "                        action     2\n",
      "                    constantly     1\n",
      "                   complaining     1\n",
      "                         doing     1\n",
      "                      anything     1\n",
      "                          time     2\n",
      "                         empty     1\n",
      "                       arrives     1\n",
      "                          hour     1\n",
      "                         allow     1\n",
      "                          tell     1\n",
      "                        cannot     1\n",
      "                     challenge     1\n",
      "                           can     1\n",
      "                         match     1\n",
      "                        spirit     1\n",
      "                          fail     1\n",
      "                        thrive     1\n",
      "                       prosper     1\n",
      "                         stand     1\n",
      "                         birth     1\n",
      "                    millennium     1\n",
      "                         ready     1\n",
      "                        unlock     1\n",
      "                     mysteries     1\n",
      "                         space     1\n",
      "                          free     1\n",
      "                      miseries     1\n",
      "                       disease     1\n",
      "                       harness     1\n",
      "                      energies     1\n",
      "                    industries     1\n",
      "                  technologies     1\n",
      "                      tomorrow     1\n",
      "                         pride     1\n",
      "                          stir     1\n",
      "                         souls     1\n",
      "                          lift     1\n",
      "                        sights     1\n",
      "                          heal     1\n",
      "                     divisions     1\n",
      "                      remember     1\n",
      "                        wisdom     1\n",
      "                      soldiers     1\n",
      "                        forget     1\n",
      "                         black     1\n",
      "                         brown     1\n",
      "                         white     1\n",
      "                         bleed     1\n",
      "                          same     6\n",
      "                           red     1\n",
      "                         blood     1\n",
      "                      patriots     1\n",
      "                         enjoy     1\n",
      "                      freedoms     1\n",
      "                        salute     1\n",
      "                          flag     1\n",
      "                         child     1\n",
      "                          born     1\n",
      "                         urban     1\n",
      "                        sprawl     1\n",
      "                       detroit     1\n",
      "                     windswept     1\n",
      "                        plains     1\n",
      "                      nebraska     1\n",
      "                          look     1\n",
      "                            up     1\n",
      "                         night     1\n",
      "                           sky     1\n",
      "                          fill     1\n",
      "                       infused     1\n",
      "                      almighty     1\n",
      "                       creator     1\n",
      "                          near     1\n",
      "                           far     1\n",
      "                         large     1\n",
      "                      mountain     2\n",
      "                         ocean     2\n",
      "                          hear     1\n",
      "                         words     1\n",
      "                       ignored     1\n",
      "                         voice     1\n",
      "                         hopes     1\n",
      "                        define     1\n",
      "                       courage     1\n",
      "                      goodness     1\n",
      "                          love     1\n",
      "                       forever     1\n",
      "                         guide     1\n",
      "                         along     1\n",
      "                          make     5\n",
      "                        strong     1\n",
      "                       wealthy     1\n",
      "                         proud     1\n",
      "                           yes     1\n",
      "                         bless     3\n"
     ]
    }
   ],
   "source": [
    "freq = nltk.FreqDist(tokens) \n",
    "for key,val in freq.items(): \n",
    "    print (\"%30s %5d\" % (str(key), val))\n"
   ]
  },
  {
   "cell_type": "code",
   "execution_count": 6,
   "metadata": {},
   "outputs": [
    {
     "data": {
      "text/plain": [
       "[('and', 76),\n",
       " ('the', 71),\n",
       " ('of', 48),\n",
       " ('our', 48),\n",
       " ('we', 46),\n",
       " ('will', 43),\n",
       " ('to', 37),\n",
       " ('is', 20),\n",
       " ('america', 19),\n",
       " ('a', 15)]"
      ]
     },
     "execution_count": 6,
     "metadata": {},
     "output_type": "execute_result"
    }
   ],
   "source": [
    "freq.most_common(10)"
   ]
  },
  {
   "cell_type": "markdown",
   "metadata": {},
   "source": [
    "# 2. pysäytyssanat"
   ]
  },
  {
   "cell_type": "code",
   "execution_count": 7,
   "metadata": {},
   "outputs": [
    {
     "name": "stdout",
     "output_type": "stream",
     "text": [
      "['i', 'me', 'my', 'myself', 'we', 'our', 'ours', 'ourselves', 'you', \"you're\", \"you've\", \"you'll\", \"you'd\", 'your', 'yours', 'yourself', 'yourselves', 'he', 'him', 'his', 'himself', 'she', \"she's\", 'her', 'hers', 'herself', 'it', \"it's\", 'its', 'itself', 'they', 'them', 'their', 'theirs', 'themselves', 'what', 'which', 'who', 'whom', 'this', 'that', \"that'll\", 'these', 'those', 'am', 'is', 'are', 'was', 'were', 'be', 'been', 'being', 'have', 'has', 'had', 'having', 'do', 'does', 'did', 'doing', 'a', 'an', 'the', 'and', 'but', 'if', 'or', 'because', 'as', 'until', 'while', 'of', 'at', 'by', 'for', 'with', 'about', 'against', 'between', 'into', 'through', 'during', 'before', 'after', 'above', 'below', 'to', 'from', 'up', 'down', 'in', 'out', 'on', 'off', 'over', 'under', 'again', 'further', 'then', 'once', 'here', 'there', 'when', 'where', 'why', 'how', 'all', 'any', 'both', 'each', 'few', 'more', 'most', 'other', 'some', 'such', 'no', 'nor', 'not', 'only', 'own', 'same', 'so', 'than', 'too', 'very', 's', 't', 'can', 'will', 'just', 'don', \"don't\", 'should', \"should've\", 'now', 'd', 'll', 'm', 'o', 're', 've', 'y', 'ain', 'aren', \"aren't\", 'couldn', \"couldn't\", 'didn', \"didn't\", 'doesn', \"doesn't\", 'hadn', \"hadn't\", 'hasn', \"hasn't\", 'haven', \"haven't\", 'isn', \"isn't\", 'ma', 'mightn', \"mightn't\", 'mustn', \"mustn't\", 'needn', \"needn't\", 'shan', \"shan't\", 'shouldn', \"shouldn't\", 'wasn', \"wasn't\", 'weren', \"weren't\", 'won', \"won't\", 'wouldn', \"wouldn't\"]\n"
     ]
    }
   ],
   "source": [
    "#löytyymyös suomeksi\n",
    "stop_words = stopwords.words(\"english\")\n",
    "print(stop_words)"
   ]
  },
  {
   "cell_type": "code",
   "execution_count": 8,
   "metadata": {},
   "outputs": [
    {
     "name": "stdout",
     "output_type": "stream",
     "text": [
      "['chief', 'justice', 'roberts', 'president', 'carter', 'president', 'clinton', 'president', 'bush', 'president', 'obama', 'fellow', 'americans', 'people', 'world', 'thank', 'citizens', 'america', 'joined', 'great', 'national', 'effort', 'rebuild', 'country', 'restore', 'promise', 'people', 'together', 'determine', 'course', 'america', 'world', 'many', 'many', 'years', 'come', 'face', 'challenges', 'confront', 'hardships', 'get', 'job', 'done', 'every', 'years', 'gather', 'steps', 'carry', 'orderly', 'peaceful', 'transfer', 'power', 'grateful', 'president', 'obama', 'first', 'lady', 'michelle', 'obama', 'gracious', 'aid', 'throughout', 'transition', 'magnificent', 'thank', 'todays', 'ceremony', 'however', 'special', 'meaning', 'today', 'merely', 'transferring', 'power', 'one', 'administration', 'another', 'one', 'party', 'another', 'transferring', 'power', 'washington', 'dc', 'giving', 'back', 'people', 'long', 'small', 'group', 'nations', 'capital', 'reaped', 'rewards', 'government', 'people', 'borne', 'cost', 'washington', 'flourished', 'people', 'share', 'wealth', 'politicians', 'prospered', 'jobs', 'left', 'factories', 'closed', 'establishment', 'protected', 'citizens', 'country', 'victories', 'victories', 'triumphs', 'triumphs', 'celebrated', 'nations', 'capital', 'little', 'celebrate', 'struggling', 'families', 'across', 'land', 'changes', 'starting', 'right', 'right', 'moment', 'moment', 'belongs', 'belongs', 'everyone', 'gathered', 'today', 'everyone', 'watching', 'across', 'america', 'day', 'celebration', 'united', 'states', 'america', 'country', 'truly', 'matters', 'party', 'controls', 'government', 'whether', 'government', 'controlled', 'people', 'january', 'remembered', 'day', 'people', 'became', 'rulers', 'nation', 'forgotten', 'men', 'women', 'country', 'forgotten', 'longer', 'everyone', 'listening', 'came', 'tens', 'millions', 'become', 'part', 'historic', 'movement', 'likes', 'world', 'never', 'seen', 'center', 'movement', 'crucial', 'conviction', 'nation', 'exists', 'serve', 'citizens', 'americans', 'want', 'great', 'schools', 'children', 'safe', 'neighborhoods', 'families', 'good', 'jobs', 'reasonable', 'demands', 'righteous', 'people', 'righteous', 'public', 'many', 'citizens', 'different', 'reality', 'exists', 'mothers', 'children', 'trapped', 'poverty', 'inner', 'cities', 'factories', 'scattered', 'like', 'tombstones', 'across', 'landscape', 'nation', 'education', 'system', 'flush', 'cash', 'leaves', 'young', 'beautiful', 'students', 'deprived', 'knowledge', 'crime', 'gangs', 'drugs', 'stolen', 'many', 'lives', 'robbed', 'country', 'much', 'unrealized', 'potential', 'american', 'carnage', 'stops', 'right', 'stops', 'right', 'one', 'nation', 'pain', 'pain', 'dreams', 'dreams', 'success', 'success', 'share', 'one', 'heart', 'one', 'home', 'one', 'glorious', 'destiny', 'oath', 'office', 'take', 'today', 'oath', 'allegiance', 'americans', 'many', 'decades', 'weve', 'enriched', 'foreign', 'industry', 'expense', 'american', 'industry', 'subsidized', 'armies', 'countries', 'allowing', 'sad', 'depletion', 'military', 'weve', 'defended', 'nations', 'borders', 'refusing', 'defend', 'spent', 'trillions', 'trillions', 'dollars', 'overseas', 'americas', 'infrastructure', 'fallen', 'disrepair', 'decay', 'weve', 'made', 'countries', 'rich', 'wealth', 'strength', 'confidence', 'country', 'dissipated', 'horizon', 'one', 'one', 'factories', 'shuttered', 'left', 'shores', 'even', 'thought', 'millions', 'millions', 'american', 'workers', 'left', 'behind', 'wealth', 'middle', 'class', 'ripped', 'homes', 'redistributed', 'across', 'world', 'past', 'looking', 'future', 'assembled', 'today', 'issuing', 'new', 'decree', 'heard', 'every', 'city', 'every', 'foreign', 'capital', 'every', 'hall', 'power', 'day', 'forward', 'new', 'vision', 'govern', 'land', 'day', 'forward', 'going', 'america', 'first', 'america', 'first', 'every', 'decision', 'trade', 'taxes', 'immigration', 'foreign', 'affairs', 'made', 'benefit', 'american', 'workers', 'american', 'families', 'must', 'protect', 'borders', 'ravages', 'countries', 'making', 'products', 'stealing', 'companies', 'destroying', 'jobs', 'protection', 'lead', 'great', 'prosperity', 'strength', 'fight', 'every', 'breath', 'body', 'never', 'ever', 'let', 'america', 'start', 'winning', 'winning', 'like', 'never', 'bring', 'back', 'jobs', 'bring', 'back', 'borders', 'bring', 'back', 'wealth', 'bring', 'back', 'dreams', 'build', 'new', 'roads', 'highways', 'bridges', 'airports', 'tunnels', 'railways', 'across', 'wonderful', 'nation', 'get', 'people', 'welfare', 'back', 'work', 'rebuilding', 'country', 'american', 'hands', 'american', 'labor', 'follow', 'two', 'simple', 'rules', 'buy', 'american', 'hire', 'american', 'seek', 'friendship', 'good', 'nations', 'world', 'understanding', 'right', 'nations', 'put', 'interests', 'first', 'seek', 'impose', 'way', 'life', 'anyone', 'rather', 'let', 'shine', 'everyone', 'follow', 'reinforce', 'old', 'alliances', 'form', 'new', 'ones', 'unite', 'civilized', 'world', 'radical', 'islamic', 'terrorism', 'eradicate', 'completely', 'face', 'earth', 'bedrock', 'politics', 'total', 'allegiance', 'united', 'states', 'america', 'loyalty', 'country', 'rediscover', 'loyalty', 'open', 'heart', 'patriotism', 'room', 'prejudice', 'bible', 'tells', 'us', 'good', 'pleasant', 'gods', 'people', 'live', 'together', 'must', 'speak', 'minds', 'openly', 'debate', 'disagreements', 'honestly', 'always', 'pursue', 'solidarity', 'america', 'united', 'america', 'totally', 'unstoppable', 'fear', 'protected', 'always', 'protected', 'protected', 'great', 'men', 'women', 'military', 'law', 'enforcement', 'importantly', 'protected', 'god', 'finally', 'must', 'think', 'big', 'dream', 'even', 'bigger', 'america', 'understand', 'nation', 'living', 'long', 'striving', 'longer', 'accept', 'politicians', 'talk', 'action', 'constantly', 'complaining', 'never', 'anything', 'time', 'empty', 'talk', 'arrives', 'hour', 'action', 'allow', 'anyone', 'tell', 'cannot', 'done', 'challenge', 'match', 'heart', 'fight', 'spirit', 'america', 'fail', 'country', 'thrive', 'prosper', 'stand', 'birth', 'new', 'millennium', 'ready', 'unlock', 'mysteries', 'space', 'free', 'earth', 'miseries', 'disease', 'harness', 'energies', 'industries', 'technologies', 'tomorrow', 'new', 'national', 'pride', 'stir', 'souls', 'lift', 'sights', 'heal', 'divisions', 'time', 'remember', 'old', 'wisdom', 'soldiers', 'never', 'forget', 'whether', 'black', 'brown', 'white', 'bleed', 'red', 'blood', 'patriots', 'enjoy', 'glorious', 'freedoms', 'salute', 'great', 'american', 'flag', 'whether', 'child', 'born', 'urban', 'sprawl', 'detroit', 'windswept', 'plains', 'nebraska', 'look', 'night', 'sky', 'fill', 'heart', 'dreams', 'infused', 'breath', 'life', 'almighty', 'creator', 'americans', 'every', 'city', 'near', 'far', 'small', 'large', 'mountain', 'mountain', 'ocean', 'ocean', 'hear', 'words', 'never', 'ignored', 'voice', 'hopes', 'dreams', 'define', 'american', 'destiny', 'courage', 'goodness', 'love', 'forever', 'guide', 'us', 'along', 'way', 'together', 'make', 'america', 'strong', 'make', 'america', 'wealthy', 'make', 'america', 'proud', 'make', 'america', 'safe', 'yes', 'together', 'make', 'america', 'great', 'thank', 'god', 'bless', 'god', 'bless', 'america', 'thank', 'god', 'bless', 'america']\n"
     ]
    }
   ],
   "source": [
    "ctokens = tokens.copy()\n",
    "for token in tokens:\n",
    "    if token in stop_words:\n",
    "        ctokens.remove(token)\n",
    "\n",
    "print(ctokens)"
   ]
  },
  {
   "cell_type": "code",
   "execution_count": 9,
   "metadata": {},
   "outputs": [
    {
     "name": "stdout",
     "output_type": "stream",
     "text": [
      "                         chief     1\n",
      "                       justice     1\n",
      "                       roberts     1\n",
      "                     president     5\n",
      "                        carter     1\n",
      "                       clinton     1\n",
      "                          bush     1\n",
      "                         obama     3\n",
      "                        fellow     1\n",
      "                     americans     4\n",
      "                        people    10\n",
      "                         world     6\n",
      "                         thank     4\n",
      "                      citizens     4\n",
      "                       america    19\n",
      "                        joined     1\n",
      "                         great     6\n",
      "                      national     2\n",
      "                        effort     1\n",
      "                       rebuild     1\n",
      "                       country     9\n",
      "                       restore     1\n",
      "                       promise     1\n",
      "                      together     4\n",
      "                     determine     1\n",
      "                        course     1\n",
      "                          many     5\n",
      "                         years     2\n",
      "                          come     1\n",
      "                          face     2\n",
      "                    challenges     1\n",
      "                      confront     1\n",
      "                     hardships     1\n",
      "                           get     2\n",
      "                           job     1\n",
      "                          done     2\n",
      "                         every     7\n",
      "                        gather     1\n",
      "                         steps     1\n",
      "                         carry     1\n",
      "                       orderly     1\n",
      "                      peaceful     1\n",
      "                      transfer     1\n",
      "                         power     4\n",
      "                      grateful     1\n",
      "                         first     4\n",
      "                          lady     1\n",
      "                      michelle     1\n",
      "                      gracious     1\n",
      "                           aid     1\n",
      "                    throughout     1\n",
      "                    transition     1\n",
      "                   magnificent     1\n",
      "                        todays     1\n",
      "                      ceremony     1\n",
      "                       however     1\n",
      "                       special     1\n",
      "                       meaning     1\n",
      "                         today     4\n",
      "                        merely     1\n",
      "                  transferring     2\n",
      "                           one     8\n",
      "                administration     1\n",
      "                       another     2\n",
      "                         party     2\n",
      "                    washington     2\n",
      "                            dc     1\n",
      "                        giving     1\n",
      "                          back     6\n",
      "                          long     2\n",
      "                         small     2\n",
      "                         group     1\n",
      "                       nations     5\n",
      "                       capital     3\n",
      "                        reaped     1\n",
      "                       rewards     1\n",
      "                    government     3\n",
      "                         borne     1\n",
      "                          cost     1\n",
      "                    flourished     1\n",
      "                         share     2\n",
      "                        wealth     4\n",
      "                   politicians     2\n",
      "                     prospered     1\n",
      "                          jobs     4\n",
      "                          left     3\n",
      "                     factories     3\n",
      "                        closed     1\n",
      "                 establishment     1\n",
      "                     protected     5\n",
      "                     victories     2\n",
      "                      triumphs     2\n",
      "                    celebrated     1\n",
      "                        little     1\n",
      "                     celebrate     1\n",
      "                    struggling     1\n",
      "                      families     3\n",
      "                        across     5\n",
      "                          land     2\n",
      "                       changes     1\n",
      "                      starting     1\n",
      "                         right     5\n",
      "                        moment     2\n",
      "                       belongs     2\n",
      "                      everyone     4\n",
      "                      gathered     1\n",
      "                      watching     1\n",
      "                           day     4\n",
      "                   celebration     1\n",
      "                        united     3\n",
      "                        states     2\n",
      "                         truly     1\n",
      "                       matters     1\n",
      "                      controls     1\n",
      "                       whether     3\n",
      "                    controlled     1\n",
      "                       january     1\n",
      "                    remembered     1\n",
      "                        became     1\n",
      "                        rulers     1\n",
      "                        nation     6\n",
      "                     forgotten     2\n",
      "                           men     2\n",
      "                         women     2\n",
      "                        longer     2\n",
      "                     listening     1\n",
      "                          came     1\n",
      "                          tens     1\n",
      "                      millions     3\n",
      "                        become     1\n",
      "                          part     1\n",
      "                      historic     1\n",
      "                      movement     2\n",
      "                         likes     1\n",
      "                         never     6\n",
      "                          seen     1\n",
      "                        center     1\n",
      "                       crucial     1\n",
      "                    conviction     1\n",
      "                        exists     2\n",
      "                         serve     1\n",
      "                          want     1\n",
      "                       schools     1\n",
      "                      children     2\n",
      "                          safe     2\n",
      "                 neighborhoods     1\n",
      "                          good     3\n",
      "                    reasonable     1\n",
      "                       demands     1\n",
      "                     righteous     2\n",
      "                        public     1\n",
      "                     different     1\n",
      "                       reality     1\n",
      "                       mothers     1\n",
      "                       trapped     1\n",
      "                       poverty     1\n",
      "                         inner     1\n",
      "                        cities     1\n",
      "                     scattered     1\n",
      "                          like     2\n",
      "                    tombstones     1\n",
      "                     landscape     1\n",
      "                     education     1\n",
      "                        system     1\n",
      "                         flush     1\n",
      "                          cash     1\n",
      "                        leaves     1\n",
      "                         young     1\n",
      "                     beautiful     1\n",
      "                      students     1\n",
      "                      deprived     1\n",
      "                     knowledge     1\n",
      "                         crime     1\n",
      "                         gangs     1\n",
      "                         drugs     1\n",
      "                        stolen     1\n",
      "                         lives     1\n",
      "                        robbed     1\n",
      "                          much     1\n",
      "                    unrealized     1\n",
      "                     potential     1\n",
      "                      american    11\n",
      "                       carnage     1\n",
      "                         stops     2\n",
      "                          pain     2\n",
      "                        dreams     5\n",
      "                       success     2\n",
      "                         heart     4\n",
      "                          home     1\n",
      "                      glorious     2\n",
      "                       destiny     2\n",
      "                          oath     2\n",
      "                        office     1\n",
      "                          take     1\n",
      "                    allegiance     2\n",
      "                       decades     1\n",
      "                          weve     3\n",
      "                      enriched     1\n",
      "                       foreign     3\n",
      "                      industry     2\n",
      "                       expense     1\n",
      "                    subsidized     1\n",
      "                        armies     1\n",
      "                     countries     3\n",
      "                      allowing     1\n",
      "                           sad     1\n",
      "                     depletion     1\n",
      "                      military     2\n",
      "                      defended     1\n",
      "                       borders     3\n",
      "                      refusing     1\n",
      "                        defend     1\n",
      "                         spent     1\n",
      "                     trillions     2\n",
      "                       dollars     1\n",
      "                      overseas     1\n",
      "                      americas     1\n",
      "                infrastructure     1\n",
      "                        fallen     1\n",
      "                     disrepair     1\n",
      "                         decay     1\n",
      "                          made     2\n",
      "                          rich     1\n",
      "                      strength     2\n",
      "                    confidence     1\n",
      "                    dissipated     1\n",
      "                       horizon     1\n",
      "                     shuttered     1\n",
      "                        shores     1\n",
      "                          even     2\n",
      "                       thought     1\n",
      "                       workers     2\n",
      "                        behind     1\n",
      "                        middle     1\n",
      "                         class     1\n",
      "                        ripped     1\n",
      "                         homes     1\n",
      "                 redistributed     1\n",
      "                          past     1\n",
      "                       looking     1\n",
      "                        future     1\n",
      "                     assembled     1\n",
      "                       issuing     1\n",
      "                           new     6\n",
      "                        decree     1\n",
      "                         heard     1\n",
      "                          city     2\n",
      "                          hall     1\n",
      "                       forward     2\n",
      "                        vision     1\n",
      "                        govern     1\n",
      "                         going     1\n",
      "                      decision     1\n",
      "                         trade     1\n",
      "                         taxes     1\n",
      "                   immigration     1\n",
      "                       affairs     1\n",
      "                       benefit     1\n",
      "                          must     3\n",
      "                       protect     1\n",
      "                       ravages     1\n",
      "                        making     1\n",
      "                      products     1\n",
      "                      stealing     1\n",
      "                     companies     1\n",
      "                    destroying     1\n",
      "                    protection     1\n",
      "                          lead     1\n",
      "                    prosperity     1\n",
      "                         fight     2\n",
      "                        breath     2\n",
      "                          body     1\n",
      "                          ever     1\n",
      "                           let     2\n",
      "                         start     1\n",
      "                       winning     2\n",
      "                         bring     4\n",
      "                         build     1\n",
      "                         roads     1\n",
      "                      highways     1\n",
      "                       bridges     1\n",
      "                      airports     1\n",
      "                       tunnels     1\n",
      "                      railways     1\n",
      "                     wonderful     1\n",
      "                       welfare     1\n",
      "                          work     1\n",
      "                    rebuilding     1\n",
      "                         hands     1\n",
      "                         labor     1\n",
      "                        follow     2\n",
      "                           two     1\n",
      "                        simple     1\n",
      "                         rules     1\n",
      "                           buy     1\n",
      "                          hire     1\n",
      "                          seek     2\n",
      "                    friendship     1\n",
      "                 understanding     1\n",
      "                           put     1\n",
      "                     interests     1\n",
      "                        impose     1\n",
      "                           way     2\n",
      "                          life     2\n",
      "                        anyone     2\n",
      "                        rather     1\n",
      "                         shine     1\n",
      "                     reinforce     1\n",
      "                           old     2\n",
      "                     alliances     1\n",
      "                          form     1\n",
      "                          ones     1\n",
      "                         unite     1\n",
      "                     civilized     1\n",
      "                       radical     1\n",
      "                       islamic     1\n",
      "                     terrorism     1\n",
      "                     eradicate     1\n",
      "                    completely     1\n",
      "                         earth     2\n",
      "                       bedrock     1\n",
      "                      politics     1\n",
      "                         total     1\n",
      "                       loyalty     2\n",
      "                    rediscover     1\n",
      "                          open     1\n",
      "                    patriotism     1\n",
      "                          room     1\n",
      "                     prejudice     1\n",
      "                         bible     1\n",
      "                         tells     1\n",
      "                            us     2\n",
      "                      pleasant     1\n",
      "                          gods     1\n",
      "                          live     1\n",
      "                         speak     1\n",
      "                         minds     1\n",
      "                        openly     1\n",
      "                        debate     1\n",
      "                 disagreements     1\n",
      "                      honestly     1\n",
      "                        always     2\n",
      "                        pursue     1\n",
      "                    solidarity     1\n",
      "                       totally     1\n",
      "                   unstoppable     1\n",
      "                          fear     1\n",
      "                           law     1\n",
      "                   enforcement     1\n",
      "                   importantly     1\n",
      "                           god     4\n",
      "                       finally     1\n",
      "                         think     1\n",
      "                           big     1\n",
      "                         dream     1\n",
      "                        bigger     1\n",
      "                    understand     1\n",
      "                        living     1\n",
      "                      striving     1\n",
      "                        accept     1\n",
      "                          talk     2\n",
      "                        action     2\n",
      "                    constantly     1\n",
      "                   complaining     1\n",
      "                      anything     1\n",
      "                          time     2\n",
      "                         empty     1\n",
      "                       arrives     1\n",
      "                          hour     1\n",
      "                         allow     1\n",
      "                          tell     1\n",
      "                        cannot     1\n",
      "                     challenge     1\n",
      "                         match     1\n",
      "                        spirit     1\n",
      "                          fail     1\n",
      "                        thrive     1\n",
      "                       prosper     1\n",
      "                         stand     1\n",
      "                         birth     1\n",
      "                    millennium     1\n",
      "                         ready     1\n",
      "                        unlock     1\n",
      "                     mysteries     1\n",
      "                         space     1\n",
      "                          free     1\n",
      "                      miseries     1\n",
      "                       disease     1\n",
      "                       harness     1\n",
      "                      energies     1\n",
      "                    industries     1\n",
      "                  technologies     1\n",
      "                      tomorrow     1\n",
      "                         pride     1\n",
      "                          stir     1\n",
      "                         souls     1\n",
      "                          lift     1\n",
      "                        sights     1\n",
      "                          heal     1\n",
      "                     divisions     1\n",
      "                      remember     1\n",
      "                        wisdom     1\n",
      "                      soldiers     1\n",
      "                        forget     1\n",
      "                         black     1\n",
      "                         brown     1\n",
      "                         white     1\n",
      "                         bleed     1\n",
      "                           red     1\n",
      "                         blood     1\n",
      "                      patriots     1\n",
      "                         enjoy     1\n",
      "                      freedoms     1\n",
      "                        salute     1\n",
      "                          flag     1\n",
      "                         child     1\n",
      "                          born     1\n",
      "                         urban     1\n",
      "                        sprawl     1\n",
      "                       detroit     1\n",
      "                     windswept     1\n",
      "                        plains     1\n",
      "                      nebraska     1\n",
      "                          look     1\n",
      "                         night     1\n",
      "                           sky     1\n",
      "                          fill     1\n",
      "                       infused     1\n",
      "                      almighty     1\n",
      "                       creator     1\n",
      "                          near     1\n",
      "                           far     1\n",
      "                         large     1\n",
      "                      mountain     2\n",
      "                         ocean     2\n",
      "                          hear     1\n",
      "                         words     1\n",
      "                       ignored     1\n",
      "                         voice     1\n",
      "                         hopes     1\n",
      "                        define     1\n",
      "                       courage     1\n",
      "                      goodness     1\n",
      "                          love     1\n",
      "                       forever     1\n",
      "                         guide     1\n",
      "                         along     1\n",
      "                          make     5\n",
      "                        strong     1\n",
      "                       wealthy     1\n",
      "                         proud     1\n",
      "                           yes     1\n",
      "                         bless     3\n"
     ]
    },
    {
     "data": {
      "text/plain": [
       "[('america', 19),\n",
       " ('american', 11),\n",
       " ('people', 10),\n",
       " ('country', 9),\n",
       " ('one', 8),\n",
       " ('every', 7),\n",
       " ('world', 6),\n",
       " ('great', 6),\n",
       " ('back', 6),\n",
       " ('nation', 6)]"
      ]
     },
     "execution_count": 9,
     "metadata": {},
     "output_type": "execute_result"
    }
   ],
   "source": [
    "import seaborn as sns\n",
    "import pandas as pd\n",
    "\n",
    "freq2 = nltk.FreqDist(ctokens) \n",
    "for key,val in freq2.items(): \n",
    "    print (\"%30s %5d\" % (str(key), val))\n",
    "\n",
    "freq2.most_common(10)\n"
   ]
  },
  {
   "cell_type": "code",
   "execution_count": 10,
   "metadata": {},
   "outputs": [
    {
     "data": {
      "application/vnd.plotly.v1+json": {
       "config": {
        "plotlyServerURL": "https://plot.ly"
       },
       "data": [
        {
         "branchvalues": "total",
         "domain": {
          "x": [
           0,
           1
          ],
          "y": [
           0,
           1
          ]
         },
         "hovertemplate": "labels=%{label}<br>Count=%{value}<br>parent=%{parent}<br>id=%{id}<extra></extra>",
         "ids": [
          "across",
          "america",
          "american",
          "americans",
          "back",
          "bring",
          "capital",
          "citizens",
          "country",
          "day",
          "dreams",
          "every",
          "everyone",
          "factories",
          "families",
          "first",
          "god",
          "government",
          "great",
          "heart",
          "jobs",
          "left",
          "make",
          "many",
          "nation",
          "nations",
          "never",
          "new",
          "obama",
          "one",
          "people",
          "power",
          "president",
          "protected",
          "right",
          "thank",
          "today",
          "together",
          "wealth",
          "world"
         ],
         "labels": [
          "across",
          "america",
          "american",
          "americans",
          "back",
          "bring",
          "capital",
          "citizens",
          "country",
          "day",
          "dreams",
          "every",
          "everyone",
          "factories",
          "families",
          "first",
          "god",
          "government",
          "great",
          "heart",
          "jobs",
          "left",
          "make",
          "many",
          "nation",
          "nations",
          "never",
          "new",
          "obama",
          "one",
          "people",
          "power",
          "president",
          "protected",
          "right",
          "thank",
          "today",
          "together",
          "wealth",
          "world"
         ],
         "name": "",
         "parents": [
          "",
          "",
          "",
          "",
          "",
          "",
          "",
          "",
          "",
          "",
          "",
          "",
          "",
          "",
          "",
          "",
          "",
          "",
          "",
          "",
          "",
          "",
          "",
          "",
          "",
          "",
          "",
          "",
          "",
          "",
          "",
          "",
          "",
          "",
          "",
          "",
          "",
          "",
          "",
          ""
         ],
         "type": "treemap",
         "values": [
          5,
          19,
          11,
          4,
          6,
          4,
          3,
          4,
          9,
          4,
          5,
          7,
          4,
          3,
          3,
          4,
          4,
          3,
          6,
          4,
          4,
          3,
          5,
          5,
          6,
          5,
          6,
          6,
          3,
          8,
          10,
          4,
          5,
          5,
          5,
          4,
          4,
          4,
          4,
          6
         ]
        }
       ],
       "layout": {
        "legend": {
         "tracegroupgap": 0
        },
        "template": {
         "data": {
          "bar": [
           {
            "error_x": {
             "color": "#2a3f5f"
            },
            "error_y": {
             "color": "#2a3f5f"
            },
            "marker": {
             "line": {
              "color": "#E5ECF6",
              "width": 0.5
             },
             "pattern": {
              "fillmode": "overlay",
              "size": 10,
              "solidity": 0.2
             }
            },
            "type": "bar"
           }
          ],
          "barpolar": [
           {
            "marker": {
             "line": {
              "color": "#E5ECF6",
              "width": 0.5
             },
             "pattern": {
              "fillmode": "overlay",
              "size": 10,
              "solidity": 0.2
             }
            },
            "type": "barpolar"
           }
          ],
          "carpet": [
           {
            "aaxis": {
             "endlinecolor": "#2a3f5f",
             "gridcolor": "white",
             "linecolor": "white",
             "minorgridcolor": "white",
             "startlinecolor": "#2a3f5f"
            },
            "baxis": {
             "endlinecolor": "#2a3f5f",
             "gridcolor": "white",
             "linecolor": "white",
             "minorgridcolor": "white",
             "startlinecolor": "#2a3f5f"
            },
            "type": "carpet"
           }
          ],
          "choropleth": [
           {
            "colorbar": {
             "outlinewidth": 0,
             "ticks": ""
            },
            "type": "choropleth"
           }
          ],
          "contour": [
           {
            "colorbar": {
             "outlinewidth": 0,
             "ticks": ""
            },
            "colorscale": [
             [
              0,
              "#0d0887"
             ],
             [
              0.1111111111111111,
              "#46039f"
             ],
             [
              0.2222222222222222,
              "#7201a8"
             ],
             [
              0.3333333333333333,
              "#9c179e"
             ],
             [
              0.4444444444444444,
              "#bd3786"
             ],
             [
              0.5555555555555556,
              "#d8576b"
             ],
             [
              0.6666666666666666,
              "#ed7953"
             ],
             [
              0.7777777777777778,
              "#fb9f3a"
             ],
             [
              0.8888888888888888,
              "#fdca26"
             ],
             [
              1,
              "#f0f921"
             ]
            ],
            "type": "contour"
           }
          ],
          "contourcarpet": [
           {
            "colorbar": {
             "outlinewidth": 0,
             "ticks": ""
            },
            "type": "contourcarpet"
           }
          ],
          "heatmap": [
           {
            "colorbar": {
             "outlinewidth": 0,
             "ticks": ""
            },
            "colorscale": [
             [
              0,
              "#0d0887"
             ],
             [
              0.1111111111111111,
              "#46039f"
             ],
             [
              0.2222222222222222,
              "#7201a8"
             ],
             [
              0.3333333333333333,
              "#9c179e"
             ],
             [
              0.4444444444444444,
              "#bd3786"
             ],
             [
              0.5555555555555556,
              "#d8576b"
             ],
             [
              0.6666666666666666,
              "#ed7953"
             ],
             [
              0.7777777777777778,
              "#fb9f3a"
             ],
             [
              0.8888888888888888,
              "#fdca26"
             ],
             [
              1,
              "#f0f921"
             ]
            ],
            "type": "heatmap"
           }
          ],
          "heatmapgl": [
           {
            "colorbar": {
             "outlinewidth": 0,
             "ticks": ""
            },
            "colorscale": [
             [
              0,
              "#0d0887"
             ],
             [
              0.1111111111111111,
              "#46039f"
             ],
             [
              0.2222222222222222,
              "#7201a8"
             ],
             [
              0.3333333333333333,
              "#9c179e"
             ],
             [
              0.4444444444444444,
              "#bd3786"
             ],
             [
              0.5555555555555556,
              "#d8576b"
             ],
             [
              0.6666666666666666,
              "#ed7953"
             ],
             [
              0.7777777777777778,
              "#fb9f3a"
             ],
             [
              0.8888888888888888,
              "#fdca26"
             ],
             [
              1,
              "#f0f921"
             ]
            ],
            "type": "heatmapgl"
           }
          ],
          "histogram": [
           {
            "marker": {
             "pattern": {
              "fillmode": "overlay",
              "size": 10,
              "solidity": 0.2
             }
            },
            "type": "histogram"
           }
          ],
          "histogram2d": [
           {
            "colorbar": {
             "outlinewidth": 0,
             "ticks": ""
            },
            "colorscale": [
             [
              0,
              "#0d0887"
             ],
             [
              0.1111111111111111,
              "#46039f"
             ],
             [
              0.2222222222222222,
              "#7201a8"
             ],
             [
              0.3333333333333333,
              "#9c179e"
             ],
             [
              0.4444444444444444,
              "#bd3786"
             ],
             [
              0.5555555555555556,
              "#d8576b"
             ],
             [
              0.6666666666666666,
              "#ed7953"
             ],
             [
              0.7777777777777778,
              "#fb9f3a"
             ],
             [
              0.8888888888888888,
              "#fdca26"
             ],
             [
              1,
              "#f0f921"
             ]
            ],
            "type": "histogram2d"
           }
          ],
          "histogram2dcontour": [
           {
            "colorbar": {
             "outlinewidth": 0,
             "ticks": ""
            },
            "colorscale": [
             [
              0,
              "#0d0887"
             ],
             [
              0.1111111111111111,
              "#46039f"
             ],
             [
              0.2222222222222222,
              "#7201a8"
             ],
             [
              0.3333333333333333,
              "#9c179e"
             ],
             [
              0.4444444444444444,
              "#bd3786"
             ],
             [
              0.5555555555555556,
              "#d8576b"
             ],
             [
              0.6666666666666666,
              "#ed7953"
             ],
             [
              0.7777777777777778,
              "#fb9f3a"
             ],
             [
              0.8888888888888888,
              "#fdca26"
             ],
             [
              1,
              "#f0f921"
             ]
            ],
            "type": "histogram2dcontour"
           }
          ],
          "mesh3d": [
           {
            "colorbar": {
             "outlinewidth": 0,
             "ticks": ""
            },
            "type": "mesh3d"
           }
          ],
          "parcoords": [
           {
            "line": {
             "colorbar": {
              "outlinewidth": 0,
              "ticks": ""
             }
            },
            "type": "parcoords"
           }
          ],
          "pie": [
           {
            "automargin": true,
            "type": "pie"
           }
          ],
          "scatter": [
           {
            "fillpattern": {
             "fillmode": "overlay",
             "size": 10,
             "solidity": 0.2
            },
            "type": "scatter"
           }
          ],
          "scatter3d": [
           {
            "line": {
             "colorbar": {
              "outlinewidth": 0,
              "ticks": ""
             }
            },
            "marker": {
             "colorbar": {
              "outlinewidth": 0,
              "ticks": ""
             }
            },
            "type": "scatter3d"
           }
          ],
          "scattercarpet": [
           {
            "marker": {
             "colorbar": {
              "outlinewidth": 0,
              "ticks": ""
             }
            },
            "type": "scattercarpet"
           }
          ],
          "scattergeo": [
           {
            "marker": {
             "colorbar": {
              "outlinewidth": 0,
              "ticks": ""
             }
            },
            "type": "scattergeo"
           }
          ],
          "scattergl": [
           {
            "marker": {
             "colorbar": {
              "outlinewidth": 0,
              "ticks": ""
             }
            },
            "type": "scattergl"
           }
          ],
          "scattermapbox": [
           {
            "marker": {
             "colorbar": {
              "outlinewidth": 0,
              "ticks": ""
             }
            },
            "type": "scattermapbox"
           }
          ],
          "scatterpolar": [
           {
            "marker": {
             "colorbar": {
              "outlinewidth": 0,
              "ticks": ""
             }
            },
            "type": "scatterpolar"
           }
          ],
          "scatterpolargl": [
           {
            "marker": {
             "colorbar": {
              "outlinewidth": 0,
              "ticks": ""
             }
            },
            "type": "scatterpolargl"
           }
          ],
          "scatterternary": [
           {
            "marker": {
             "colorbar": {
              "outlinewidth": 0,
              "ticks": ""
             }
            },
            "type": "scatterternary"
           }
          ],
          "surface": [
           {
            "colorbar": {
             "outlinewidth": 0,
             "ticks": ""
            },
            "colorscale": [
             [
              0,
              "#0d0887"
             ],
             [
              0.1111111111111111,
              "#46039f"
             ],
             [
              0.2222222222222222,
              "#7201a8"
             ],
             [
              0.3333333333333333,
              "#9c179e"
             ],
             [
              0.4444444444444444,
              "#bd3786"
             ],
             [
              0.5555555555555556,
              "#d8576b"
             ],
             [
              0.6666666666666666,
              "#ed7953"
             ],
             [
              0.7777777777777778,
              "#fb9f3a"
             ],
             [
              0.8888888888888888,
              "#fdca26"
             ],
             [
              1,
              "#f0f921"
             ]
            ],
            "type": "surface"
           }
          ],
          "table": [
           {
            "cells": {
             "fill": {
              "color": "#EBF0F8"
             },
             "line": {
              "color": "white"
             }
            },
            "header": {
             "fill": {
              "color": "#C8D4E3"
             },
             "line": {
              "color": "white"
             }
            },
            "type": "table"
           }
          ]
         },
         "layout": {
          "annotationdefaults": {
           "arrowcolor": "#2a3f5f",
           "arrowhead": 0,
           "arrowwidth": 1
          },
          "autotypenumbers": "strict",
          "coloraxis": {
           "colorbar": {
            "outlinewidth": 0,
            "ticks": ""
           }
          },
          "colorscale": {
           "diverging": [
            [
             0,
             "#8e0152"
            ],
            [
             0.1,
             "#c51b7d"
            ],
            [
             0.2,
             "#de77ae"
            ],
            [
             0.3,
             "#f1b6da"
            ],
            [
             0.4,
             "#fde0ef"
            ],
            [
             0.5,
             "#f7f7f7"
            ],
            [
             0.6,
             "#e6f5d0"
            ],
            [
             0.7,
             "#b8e186"
            ],
            [
             0.8,
             "#7fbc41"
            ],
            [
             0.9,
             "#4d9221"
            ],
            [
             1,
             "#276419"
            ]
           ],
           "sequential": [
            [
             0,
             "#0d0887"
            ],
            [
             0.1111111111111111,
             "#46039f"
            ],
            [
             0.2222222222222222,
             "#7201a8"
            ],
            [
             0.3333333333333333,
             "#9c179e"
            ],
            [
             0.4444444444444444,
             "#bd3786"
            ],
            [
             0.5555555555555556,
             "#d8576b"
            ],
            [
             0.6666666666666666,
             "#ed7953"
            ],
            [
             0.7777777777777778,
             "#fb9f3a"
            ],
            [
             0.8888888888888888,
             "#fdca26"
            ],
            [
             1,
             "#f0f921"
            ]
           ],
           "sequentialminus": [
            [
             0,
             "#0d0887"
            ],
            [
             0.1111111111111111,
             "#46039f"
            ],
            [
             0.2222222222222222,
             "#7201a8"
            ],
            [
             0.3333333333333333,
             "#9c179e"
            ],
            [
             0.4444444444444444,
             "#bd3786"
            ],
            [
             0.5555555555555556,
             "#d8576b"
            ],
            [
             0.6666666666666666,
             "#ed7953"
            ],
            [
             0.7777777777777778,
             "#fb9f3a"
            ],
            [
             0.8888888888888888,
             "#fdca26"
            ],
            [
             1,
             "#f0f921"
            ]
           ]
          },
          "colorway": [
           "#636efa",
           "#EF553B",
           "#00cc96",
           "#ab63fa",
           "#FFA15A",
           "#19d3f3",
           "#FF6692",
           "#B6E880",
           "#FF97FF",
           "#FECB52"
          ],
          "font": {
           "color": "#2a3f5f"
          },
          "geo": {
           "bgcolor": "white",
           "lakecolor": "white",
           "landcolor": "#E5ECF6",
           "showlakes": true,
           "showland": true,
           "subunitcolor": "white"
          },
          "hoverlabel": {
           "align": "left"
          },
          "hovermode": "closest",
          "mapbox": {
           "style": "light"
          },
          "paper_bgcolor": "white",
          "plot_bgcolor": "#E5ECF6",
          "polar": {
           "angularaxis": {
            "gridcolor": "white",
            "linecolor": "white",
            "ticks": ""
           },
           "bgcolor": "#E5ECF6",
           "radialaxis": {
            "gridcolor": "white",
            "linecolor": "white",
            "ticks": ""
           }
          },
          "scene": {
           "xaxis": {
            "backgroundcolor": "#E5ECF6",
            "gridcolor": "white",
            "gridwidth": 2,
            "linecolor": "white",
            "showbackground": true,
            "ticks": "",
            "zerolinecolor": "white"
           },
           "yaxis": {
            "backgroundcolor": "#E5ECF6",
            "gridcolor": "white",
            "gridwidth": 2,
            "linecolor": "white",
            "showbackground": true,
            "ticks": "",
            "zerolinecolor": "white"
           },
           "zaxis": {
            "backgroundcolor": "#E5ECF6",
            "gridcolor": "white",
            "gridwidth": 2,
            "linecolor": "white",
            "showbackground": true,
            "ticks": "",
            "zerolinecolor": "white"
           }
          },
          "shapedefaults": {
           "line": {
            "color": "#2a3f5f"
           }
          },
          "ternary": {
           "aaxis": {
            "gridcolor": "white",
            "linecolor": "white",
            "ticks": ""
           },
           "baxis": {
            "gridcolor": "white",
            "linecolor": "white",
            "ticks": ""
           },
           "bgcolor": "#E5ECF6",
           "caxis": {
            "gridcolor": "white",
            "linecolor": "white",
            "ticks": ""
           }
          },
          "title": {
           "x": 0.05
          },
          "xaxis": {
           "automargin": true,
           "gridcolor": "white",
           "linecolor": "white",
           "ticks": "",
           "title": {
            "standoff": 15
           },
           "zerolinecolor": "white",
           "zerolinewidth": 2
          },
          "yaxis": {
           "automargin": true,
           "gridcolor": "white",
           "linecolor": "white",
           "ticks": "",
           "title": {
            "standoff": 15
           },
           "zerolinecolor": "white",
           "zerolinewidth": 2
          }
         }
        },
        "title": {
         "text": "Most Common Words"
        }
       }
      }
     },
     "metadata": {},
     "output_type": "display_data"
    }
   ],
   "source": [
    "import plotly.express as px\n",
    "\n",
    "# Create a dataframe for the most common words\n",
    "common_words_df = pd.DataFrame(freq2.most_common(40), columns=['Word', 'Count'])\n",
    "\n",
    "# Create a treeplot\n",
    "fig = px.treemap(common_words_df, path=['Word'], values='Count', title='Most Common Words')\n",
    "fig.show()"
   ]
  },
  {
   "cell_type": "markdown",
   "metadata": {},
   "source": [
    "# 3. Sanan vartalo"
   ]
  },
  {
   "cell_type": "code",
   "execution_count": 11,
   "metadata": {},
   "outputs": [
    {
     "name": "stdout",
     "output_type": "stream",
     "text": [
      "['chief', 'justic', 'robert', 'presid', 'carter', 'presid', 'clinton', 'presid', 'bush', 'presid', 'obama', 'fellow', 'american', 'peopl', 'world', 'thank', 'citizen', 'america', 'join', 'great', 'nation', 'effort', 'rebuild', 'countri', 'restor', 'promis', 'peopl', 'togeth', 'determin', 'cours', 'america', 'world', 'mani', 'mani', 'year', 'come', 'face', 'challeng', 'confront', 'hardship', 'get', 'job', 'done', 'everi', 'year', 'gather', 'step', 'carri', 'orderli', 'peac', 'transfer', 'power', 'grate', 'presid', 'obama', 'first', 'ladi', 'michel', 'obama', 'graciou', 'aid', 'throughout', 'transit', 'magnific', 'thank', 'today', 'ceremoni', 'howev', 'special', 'mean', 'today', 'mere', 'transfer', 'power', 'one', 'administr', 'anoth', 'one', 'parti', 'anoth', 'transfer', 'power', 'washington', 'dc', 'give', 'back', 'peopl', 'long', 'small', 'group', 'nation', 'capit', 'reap', 'reward', 'govern', 'peopl', 'born', 'cost', 'washington', 'flourish', 'peopl', 'share', 'wealth', 'politician', 'prosper', 'job', 'left', 'factori', 'close', 'establish', 'protect', 'citizen', 'countri', 'victori', 'victori', 'triumph', 'triumph', 'celebr', 'nation', 'capit', 'littl', 'celebr', 'struggl', 'famili', 'across', 'land', 'chang', 'start', 'right', 'right', 'moment', 'moment', 'belong', 'belong', 'everyon', 'gather', 'today', 'everyon', 'watch', 'across', 'america', 'day', 'celebr', 'unit', 'state', 'america', 'countri', 'truli', 'matter', 'parti', 'control', 'govern', 'whether', 'govern', 'control', 'peopl', 'januari', 'rememb', 'day', 'peopl', 'becam', 'ruler', 'nation', 'forgotten', 'men', 'women', 'countri', 'forgotten', 'longer', 'everyon', 'listen', 'came', 'ten', 'million', 'becom', 'part', 'histor', 'movement', 'like', 'world', 'never', 'seen', 'center', 'movement', 'crucial', 'convict', 'nation', 'exist', 'serv', 'citizen', 'american', 'want', 'great', 'school', 'children', 'safe', 'neighborhood', 'famili', 'good', 'job', 'reason', 'demand', 'righteou', 'peopl', 'righteou', 'public', 'mani', 'citizen', 'differ', 'realiti', 'exist', 'mother', 'children', 'trap', 'poverti', 'inner', 'citi', 'factori', 'scatter', 'like', 'tombston', 'across', 'landscap', 'nation', 'educ', 'system', 'flush', 'cash', 'leav', 'young', 'beauti', 'student', 'depriv', 'knowledg', 'crime', 'gang', 'drug', 'stolen', 'mani', 'live', 'rob', 'countri', 'much', 'unreal', 'potenti', 'american', 'carnag', 'stop', 'right', 'stop', 'right', 'one', 'nation', 'pain', 'pain', 'dream', 'dream', 'success', 'success', 'share', 'one', 'heart', 'one', 'home', 'one', 'gloriou', 'destini', 'oath', 'offic', 'take', 'today', 'oath', 'allegi', 'american', 'mani', 'decad', 'weve', 'enrich', 'foreign', 'industri', 'expens', 'american', 'industri', 'subsid', 'armi', 'countri', 'allow', 'sad', 'deplet', 'militari', 'weve', 'defend', 'nation', 'border', 'refus', 'defend', 'spent', 'trillion', 'trillion', 'dollar', 'oversea', 'america', 'infrastructur', 'fallen', 'disrepair', 'decay', 'weve', 'made', 'countri', 'rich', 'wealth', 'strength', 'confid', 'countri', 'dissip', 'horizon', 'one', 'one', 'factori', 'shutter', 'left', 'shore', 'even', 'thought', 'million', 'million', 'american', 'worker', 'left', 'behind', 'wealth', 'middl', 'class', 'rip', 'home', 'redistribut', 'across', 'world', 'past', 'look', 'futur', 'assembl', 'today', 'issu', 'new', 'decre', 'heard', 'everi', 'citi', 'everi', 'foreign', 'capit', 'everi', 'hall', 'power', 'day', 'forward', 'new', 'vision', 'govern', 'land', 'day', 'forward', 'go', 'america', 'first', 'america', 'first', 'everi', 'decis', 'trade', 'tax', 'immigr', 'foreign', 'affair', 'made', 'benefit', 'american', 'worker', 'american', 'famili', 'must', 'protect', 'border', 'ravag', 'countri', 'make', 'product', 'steal', 'compani', 'destroy', 'job', 'protect', 'lead', 'great', 'prosper', 'strength', 'fight', 'everi', 'breath', 'bodi', 'never', 'ever', 'let', 'america', 'start', 'win', 'win', 'like', 'never', 'bring', 'back', 'job', 'bring', 'back', 'border', 'bring', 'back', 'wealth', 'bring', 'back', 'dream', 'build', 'new', 'road', 'highway', 'bridg', 'airport', 'tunnel', 'railway', 'across', 'wonder', 'nation', 'get', 'peopl', 'welfar', 'back', 'work', 'rebuild', 'countri', 'american', 'hand', 'american', 'labor', 'follow', 'two', 'simpl', 'rule', 'buy', 'american', 'hire', 'american', 'seek', 'friendship', 'good', 'nation', 'world', 'understand', 'right', 'nation', 'put', 'interest', 'first', 'seek', 'impos', 'way', 'life', 'anyon', 'rather', 'let', 'shine', 'everyon', 'follow', 'reinforc', 'old', 'allianc', 'form', 'new', 'one', 'unit', 'civil', 'world', 'radic', 'islam', 'terror', 'erad', 'complet', 'face', 'earth', 'bedrock', 'polit', 'total', 'allegi', 'unit', 'state', 'america', 'loyalti', 'countri', 'rediscov', 'loyalti', 'open', 'heart', 'patriot', 'room', 'prejudic', 'bibl', 'tell', 'us', 'good', 'pleasant', 'god', 'peopl', 'live', 'togeth', 'must', 'speak', 'mind', 'openli', 'debat', 'disagr', 'honestli', 'alway', 'pursu', 'solidar', 'america', 'unit', 'america', 'total', 'unstopp', 'fear', 'protect', 'alway', 'protect', 'protect', 'great', 'men', 'women', 'militari', 'law', 'enforc', 'importantli', 'protect', 'god', 'final', 'must', 'think', 'big', 'dream', 'even', 'bigger', 'america', 'understand', 'nation', 'live', 'long', 'strive', 'longer', 'accept', 'politician', 'talk', 'action', 'constantli', 'complain', 'never', 'anyth', 'time', 'empti', 'talk', 'arriv', 'hour', 'action', 'allow', 'anyon', 'tell', 'cannot', 'done', 'challeng', 'match', 'heart', 'fight', 'spirit', 'america', 'fail', 'countri', 'thrive', 'prosper', 'stand', 'birth', 'new', 'millennium', 'readi', 'unlock', 'mysteri', 'space', 'free', 'earth', 'miseri', 'diseas', 'har', 'energi', 'industri', 'technolog', 'tomorrow', 'new', 'nation', 'pride', 'stir', 'soul', 'lift', 'sight', 'heal', 'divis', 'time', 'rememb', 'old', 'wisdom', 'soldier', 'never', 'forget', 'whether', 'black', 'brown', 'white', 'bleed', 'red', 'blood', 'patriot', 'enjoy', 'gloriou', 'freedom', 'salut', 'great', 'american', 'flag', 'whether', 'child', 'born', 'urban', 'sprawl', 'detroit', 'windswept', 'plain', 'nebraska', 'look', 'night', 'sky', 'fill', 'heart', 'dream', 'infus', 'breath', 'life', 'almighti', 'creator', 'american', 'everi', 'citi', 'near', 'far', 'small', 'larg', 'mountain', 'mountain', 'ocean', 'ocean', 'hear', 'word', 'never', 'ignor', 'voic', 'hope', 'dream', 'defin', 'american', 'destini', 'courag', 'good', 'love', 'forev', 'guid', 'us', 'along', 'way', 'togeth', 'make', 'america', 'strong', 'make', 'america', 'wealthi', 'make', 'america', 'proud', 'make', 'america', 'safe', 'ye', 'togeth', 'make', 'america', 'great', 'thank', 'god', 'bless', 'god', 'bless', 'america', 'thank', 'god', 'bless', 'america']\n"
     ]
    }
   ],
   "source": [
    "stemmer = PorterStemmer()\n",
    "for i in range(len(ctokens)):\n",
    "    ctokens[i] = stemmer.stem(ctokens[i])\n",
    "print(ctokens)"
   ]
  },
  {
   "cell_type": "markdown",
   "metadata": {},
   "source": [
    "# 4. Sanan perusmuoto"
   ]
  },
  {
   "cell_type": "code",
   "execution_count": 12,
   "metadata": {},
   "outputs": [
    {
     "name": "stdout",
     "output_type": "stream",
     "text": [
      "['chief', 'justic', 'robert', 'presid', 'carter', 'presid', 'clinton', 'presid', 'bush', 'presid', 'obama', 'fellow', 'american', 'peopl', 'world', 'thank', 'citizen', 'america', 'join', 'great', 'nation', 'effort', 'rebuild', 'countri', 'restor', 'promis', 'peopl', 'togeth', 'determin', 'cours', 'america', 'world', 'mani', 'mani', 'year', 'come', 'face', 'challeng', 'confront', 'hardship', 'get', 'job', 'done', 'everi', 'year', 'gather', 'step', 'carri', 'orderli', 'peac', 'transfer', 'power', 'grate', 'presid', 'obama', 'first', 'ladi', 'michel', 'obama', 'graciou', 'aid', 'throughout', 'transit', 'magnific', 'thank', 'today', 'ceremoni', 'howev', 'special', 'mean', 'today', 'mere', 'transfer', 'power', 'one', 'administr', 'anoth', 'one', 'parti', 'anoth', 'transfer', 'power', 'washington', 'dc', 'give', 'back', 'peopl', 'long', 'small', 'group', 'nation', 'capit', 'reap', 'reward', 'govern', 'peopl', 'born', 'cost', 'washington', 'flourish', 'peopl', 'share', 'wealth', 'politician', 'prosper', 'job', 'left', 'factori', 'close', 'establish', 'protect', 'citizen', 'countri', 'victori', 'victori', 'triumph', 'triumph', 'celebr', 'nation', 'capit', 'littl', 'celebr', 'struggl', 'famili', 'across', 'land', 'chang', 'start', 'right', 'right', 'moment', 'moment', 'belong', 'belong', 'everyon', 'gather', 'today', 'everyon', 'watch', 'across', 'america', 'day', 'celebr', 'unit', 'state', 'america', 'countri', 'truli', 'matter', 'parti', 'control', 'govern', 'whether', 'govern', 'control', 'peopl', 'januari', 'rememb', 'day', 'peopl', 'becam', 'ruler', 'nation', 'forgotten', 'men', 'woman', 'countri', 'forgotten', 'longer', 'everyon', 'listen', 'came', 'ten', 'million', 'becom', 'part', 'histor', 'movement', 'like', 'world', 'never', 'seen', 'center', 'movement', 'crucial', 'convict', 'nation', 'exist', 'serv', 'citizen', 'american', 'want', 'great', 'school', 'child', 'safe', 'neighborhood', 'famili', 'good', 'job', 'reason', 'demand', 'righteou', 'peopl', 'righteou', 'public', 'mani', 'citizen', 'differ', 'realiti', 'exist', 'mother', 'child', 'trap', 'poverti', 'inner', 'citi', 'factori', 'scatter', 'like', 'tombston', 'across', 'landscap', 'nation', 'educ', 'system', 'flush', 'cash', 'leav', 'young', 'beauti', 'student', 'depriv', 'knowledg', 'crime', 'gang', 'drug', 'stolen', 'mani', 'live', 'rob', 'countri', 'much', 'unreal', 'potenti', 'american', 'carnag', 'stop', 'right', 'stop', 'right', 'one', 'nation', 'pain', 'pain', 'dream', 'dream', 'success', 'success', 'share', 'one', 'heart', 'one', 'home', 'one', 'gloriou', 'destini', 'oath', 'offic', 'take', 'today', 'oath', 'allegi', 'american', 'mani', 'decad', 'weve', 'enrich', 'foreign', 'industri', 'expens', 'american', 'industri', 'subsid', 'armi', 'countri', 'allow', 'sad', 'deplet', 'militari', 'weve', 'defend', 'nation', 'border', 'refus', 'defend', 'spent', 'trillion', 'trillion', 'dollar', 'oversea', 'america', 'infrastructur', 'fallen', 'disrepair', 'decay', 'weve', 'made', 'countri', 'rich', 'wealth', 'strength', 'confid', 'countri', 'dissip', 'horizon', 'one', 'one', 'factori', 'shutter', 'left', 'shore', 'even', 'thought', 'million', 'million', 'american', 'worker', 'left', 'behind', 'wealth', 'middl', 'class', 'rip', 'home', 'redistribut', 'across', 'world', 'past', 'look', 'futur', 'assembl', 'today', 'issu', 'new', 'decre', 'heard', 'everi', 'citi', 'everi', 'foreign', 'capit', 'everi', 'hall', 'power', 'day', 'forward', 'new', 'vision', 'govern', 'land', 'day', 'forward', 'go', 'america', 'first', 'america', 'first', 'everi', 'decis', 'trade', 'tax', 'immigr', 'foreign', 'affair', 'made', 'benefit', 'american', 'worker', 'american', 'famili', 'must', 'protect', 'border', 'ravag', 'countri', 'make', 'product', 'steal', 'compani', 'destroy', 'job', 'protect', 'lead', 'great', 'prosper', 'strength', 'fight', 'everi', 'breath', 'bodi', 'never', 'ever', 'let', 'america', 'start', 'win', 'win', 'like', 'never', 'bring', 'back', 'job', 'bring', 'back', 'border', 'bring', 'back', 'wealth', 'bring', 'back', 'dream', 'build', 'new', 'road', 'highway', 'bridg', 'airport', 'tunnel', 'railway', 'across', 'wonder', 'nation', 'get', 'peopl', 'welfar', 'back', 'work', 'rebuild', 'countri', 'american', 'hand', 'american', 'labor', 'follow', 'two', 'simpl', 'rule', 'buy', 'american', 'hire', 'american', 'seek', 'friendship', 'good', 'nation', 'world', 'understand', 'right', 'nation', 'put', 'interest', 'first', 'seek', 'impos', 'way', 'life', 'anyon', 'rather', 'let', 'shine', 'everyon', 'follow', 'reinforc', 'old', 'allianc', 'form', 'new', 'one', 'unit', 'civil', 'world', 'radic', 'islam', 'terror', 'erad', 'complet', 'face', 'earth', 'bedrock', 'polit', 'total', 'allegi', 'unit', 'state', 'america', 'loyalti', 'countri', 'rediscov', 'loyalti', 'open', 'heart', 'patriot', 'room', 'prejudic', 'bibl', 'tell', 'u', 'good', 'pleasant', 'god', 'peopl', 'live', 'togeth', 'must', 'speak', 'mind', 'openli', 'debat', 'disagr', 'honestli', 'alway', 'pursu', 'solidar', 'america', 'unit', 'america', 'total', 'unstopp', 'fear', 'protect', 'alway', 'protect', 'protect', 'great', 'men', 'woman', 'militari', 'law', 'enforc', 'importantli', 'protect', 'god', 'final', 'must', 'think', 'big', 'dream', 'even', 'bigger', 'america', 'understand', 'nation', 'live', 'long', 'strive', 'longer', 'accept', 'politician', 'talk', 'action', 'constantli', 'complain', 'never', 'anyth', 'time', 'empti', 'talk', 'arriv', 'hour', 'action', 'allow', 'anyon', 'tell', 'cannot', 'done', 'challeng', 'match', 'heart', 'fight', 'spirit', 'america', 'fail', 'countri', 'thrive', 'prosper', 'stand', 'birth', 'new', 'millennium', 'readi', 'unlock', 'mysteri', 'space', 'free', 'earth', 'miseri', 'diseas', 'har', 'energi', 'industri', 'technolog', 'tomorrow', 'new', 'nation', 'pride', 'stir', 'soul', 'lift', 'sight', 'heal', 'divis', 'time', 'rememb', 'old', 'wisdom', 'soldier', 'never', 'forget', 'whether', 'black', 'brown', 'white', 'bleed', 'red', 'blood', 'patriot', 'enjoy', 'gloriou', 'freedom', 'salut', 'great', 'american', 'flag', 'whether', 'child', 'born', 'urban', 'sprawl', 'detroit', 'windswept', 'plain', 'nebraska', 'look', 'night', 'sky', 'fill', 'heart', 'dream', 'infus', 'breath', 'life', 'almighti', 'creator', 'american', 'everi', 'citi', 'near', 'far', 'small', 'larg', 'mountain', 'mountain', 'ocean', 'ocean', 'hear', 'word', 'never', 'ignor', 'voic', 'hope', 'dream', 'defin', 'american', 'destini', 'courag', 'good', 'love', 'forev', 'guid', 'u', 'along', 'way', 'togeth', 'make', 'america', 'strong', 'make', 'america', 'wealthi', 'make', 'america', 'proud', 'make', 'america', 'safe', 'ye', 'togeth', 'make', 'america', 'great', 'thank', 'god', 'bless', 'god', 'bless', 'america', 'thank', 'god', 'bless', 'america']\n"
     ]
    }
   ],
   "source": [
    "# nltk.download('wordnet')\n",
    "\n",
    "lemmatizer = WordNetLemmatizer()\n",
    "for i in range(len(ctokens)):\n",
    "    ctokens[i] = lemmatizer.lemmatize(ctokens[i])\n",
    "\n",
    "print(ctokens)"
   ]
  },
  {
   "cell_type": "code",
   "execution_count": 13,
   "metadata": {},
   "outputs": [
    {
     "name": "stdout",
     "output_type": "stream",
     "text": [
      "['a+', 'abound', 'abounds', 'abundance', 'abundant', 'accessable', 'accessible', 'acclaim', 'acclaimed', 'acclamation', 'accolade', 'accolades', 'accommodative', 'accomodative', 'accomplish', 'accomplished', 'accomplishment', 'accomplishments', 'accurate', 'accurately', 'achievable', 'achievement', 'achievements', 'achievible', 'acumen', 'adaptable', 'adaptive', 'adequate', 'adjustable', 'admirable', 'admirably', 'admiration', 'admire', 'admirer', 'admiring', 'admiringly', 'adorable', 'adore', 'adored', 'adorer', 'adoring', 'adoringly', 'adroit', 'adroitly', 'adulate', 'adulation', 'adulatory', 'advanced', 'advantage', 'advantageous', 'advantageously', 'advantages', 'adventuresome', 'adventurous', 'advocate', 'advocated', 'advocates', 'affability', 'affable', 'affably', 'affectation', 'affection', 'affectionate', 'affinity', 'affirm', 'affirmation', 'affirmative', 'affluence', 'affluent', 'afford', 'affordable', 'affordably', 'afordable', 'agile', 'agilely', 'agility', 'agreeable', 'agreeableness', 'agreeably', 'all-around', 'alluring', 'alluringly', 'altruistic', 'altruistically', 'amaze', 'amazed', 'amazement', 'amazes', 'amazing', 'amazingly', 'ambitious', 'ambitiously', 'ameliorate', 'amenable', 'amenity', 'amiability', 'amiabily', 'amiable', 'amicability', 'amicable', 'amicably', 'amity', 'ample', 'amply', 'amuse', 'amusing', 'amusingly', 'angel', 'angelic', 'apotheosis', 'appeal', 'appealing', 'applaud', 'appreciable', 'appreciate', 'appreciated', 'appreciates', 'appreciative', 'appreciatively', 'appropriate', 'approval', 'approve', 'ardent', 'ardently', 'ardor', 'articulate', 'aspiration', 'aspirations', 'aspire', 'assurance', 'assurances', 'assure', 'assuredly', 'assuring', 'astonish', 'astonished', 'astonishing', 'astonishingly', 'astonishment', 'astound', 'astounded', 'astounding', 'astoundingly', 'astutely', 'attentive', 'attraction', 'attractive', 'attractively', 'attune', 'audible', 'audibly', 'auspicious', 'authentic', 'authoritative', 'autonomous', 'available', 'aver', 'avid', 'avidly', 'award', 'awarded', 'awards', 'awe', 'awed', 'awesome', 'awesomely', 'awesomeness', 'awestruck', 'awsome', 'backbone', 'balanced', 'bargain', 'beauteous', 'beautiful', 'beautifullly', 'beautifully', 'beautify', 'beauty', 'beckon', 'beckoned', 'beckoning', 'beckons', 'believable', 'believeable', 'beloved', 'benefactor', 'beneficent', 'beneficial', 'beneficially', 'beneficiary', 'benefit', 'benefits', 'benevolence', 'benevolent', 'benifits', 'best', 'best-known', 'best-performing', 'best-selling', 'better', 'better-known', 'better-than-expected', 'beutifully', 'blameless', 'bless', 'blessing', 'bliss', 'blissful', 'blissfully', 'blithe', 'blockbuster', 'bloom', 'blossom', 'bolster', 'bonny', 'bonus', 'bonuses', 'boom', 'booming', 'boost', 'boundless', 'bountiful', 'brainiest', 'brainy', 'brand-new', 'brave', 'bravery', 'bravo', 'breakthrough', 'breakthroughs', 'breathlessness', 'breathtaking', 'breathtakingly', 'breeze', 'bright', 'brighten', 'brighter', 'brightest', 'brilliance', 'brilliances', 'brilliant', 'brilliantly', 'brisk', 'brotherly', 'bullish', 'buoyant', 'cajole', 'calm', 'calming', 'calmness', 'capability', 'capable', 'capably', 'captivate', 'captivating', 'carefree', 'cashback', 'cashbacks', 'catchy', 'celebrate', 'celebrated', 'celebration', 'celebratory', 'champ', 'champion', 'charisma', 'charismatic', 'charitable', 'charm', 'charming', 'charmingly', 'chaste', 'cheaper', 'cheapest', 'cheer', 'cheerful', 'cheery', 'cherish', 'cherished', 'cherub', 'chic', 'chivalrous', 'chivalry', 'civility', 'civilize', 'clarity', 'classic', 'classy', 'clean', 'cleaner', 'cleanest', 'cleanliness', 'cleanly', 'clear', 'clear-cut', 'cleared', 'clearer', 'clearly', 'clears', 'clever', 'cleverly', 'cohere', 'coherence', 'coherent', 'cohesive', 'colorful', 'comely', 'comfort', 'comfortable', 'comfortably', 'comforting', 'comfy', 'commend', 'commendable', 'commendably', 'commitment', 'commodious', 'compact', 'compactly', 'compassion', 'compassionate', 'compatible', 'competitive', 'complement', 'complementary', 'complemented', 'complements', 'compliant', 'compliment', 'complimentary', 'comprehensive', 'conciliate', 'conciliatory', 'concise', 'confidence', 'confident', 'congenial', 'congratulate', 'congratulation', 'congratulations', 'congratulatory', 'conscientious', 'considerate', 'consistent', 'consistently', 'constructive', 'consummate', 'contentment', 'continuity', 'contrasty', 'contribution', 'convenience', 'convenient', 'conveniently', 'convience', 'convienient', 'convient', 'convincing', 'convincingly', 'cool', 'coolest', 'cooperative', 'cooperatively', 'cornerstone', 'correct', 'correctly', 'cost-effective', 'cost-saving', 'counter-attack', 'counter-attacks', 'courage', 'courageous', 'courageously', 'courageousness', 'courteous', 'courtly', 'covenant', 'cozy', 'creative', 'credence', 'credible', 'crisp', 'crisper', 'cure', 'cure-all', 'cushy', 'cute', 'cuteness', 'danke', 'danken', 'daring', 'daringly', 'darling', 'dashing', 'dauntless', 'dawn', 'dazzle', 'dazzled', 'dazzling', 'dead-cheap', 'dead-on', 'decency', 'decent', 'decisive', 'decisiveness', 'dedicated', 'defeat', 'defeated', 'defeating', 'defeats', 'defender', 'deference', 'deft', 'deginified', 'delectable', 'delicacy', 'delicate', 'delicious', 'delight', 'delighted', 'delightful', 'delightfully', 'delightfulness', 'dependable', 'dependably', 'deservedly', 'deserving', 'desirable', 'desiring', 'desirous', 'destiny', 'detachable', 'devout', 'dexterous', 'dexterously', 'dextrous', 'dignified', 'dignify', 'dignity', 'diligence', 'diligent', 'diligently', 'diplomatic', 'dirt-cheap', 'distinction', 'distinctive', 'distinguished', 'diversified', 'divine', 'divinely', 'dominate', 'dominated', 'dominates', 'dote', 'dotingly', 'doubtless', 'dreamland', 'dumbfounded', 'dumbfounding', 'dummy-proof', 'durable', 'dynamic', 'eager', 'eagerly', 'eagerness', 'earnest', 'earnestly', 'earnestness', 'ease', 'eased', 'eases', 'easier', 'easiest', 'easiness', 'easing', 'easy', 'easy-to-use', 'easygoing', 'ebullience', 'ebullient', 'ebulliently', 'ecenomical', 'economical', 'ecstasies', 'ecstasy', 'ecstatic', 'ecstatically', 'edify', 'educated', 'effective', 'effectively', 'effectiveness', 'effectual', 'efficacious', 'efficient', 'efficiently', 'effortless', 'effortlessly', 'effusion', 'effusive', 'effusively', 'effusiveness', 'elan', 'elate', 'elated', 'elatedly', 'elation', 'electrify', 'elegance', 'elegant', 'elegantly', 'elevate', 'elite', 'eloquence', 'eloquent', 'eloquently', 'embolden', 'eminence', 'eminent', 'empathize', 'empathy', 'empower', 'empowerment', 'enchant', 'enchanted', 'enchanting', 'enchantingly', 'encourage', 'encouragement', 'encouraging', 'encouragingly', 'endear', 'endearing', 'endorse', 'endorsed', 'endorsement', 'endorses', 'endorsing', 'energetic', 'energize', 'energy-efficient', 'energy-saving', 'engaging', 'engrossing', 'enhance', 'enhanced', 'enhancement', 'enhances', 'enjoy', 'enjoyable', 'enjoyably', 'enjoyed', 'enjoying', 'enjoyment', 'enjoys', 'enlighten', 'enlightenment', 'enliven', 'ennoble', 'enough', 'enrapt', 'enrapture', 'enraptured', 'enrich', 'enrichment', 'enterprising', 'entertain', 'entertaining', 'entertains', 'enthral', 'enthrall', 'enthralled', 'enthuse', 'enthusiasm', 'enthusiast', 'enthusiastic', 'enthusiastically', 'entice', 'enticed', 'enticing', 'enticingly', 'entranced', 'entrancing', 'entrust', 'enviable', 'enviably', 'envious', 'enviously', 'enviousness', 'envy', 'equitable', 'ergonomical', 'err-free', 'erudite', 'ethical', 'eulogize', 'euphoria', 'euphoric', 'euphorically', 'evaluative', 'evenly', 'eventful', 'everlasting', 'evocative', 'exalt', 'exaltation', 'exalted', 'exaltedly', 'exalting', 'exaltingly', 'examplar', 'examplary', 'excallent', 'exceed', 'exceeded', 'exceeding', 'exceedingly', 'exceeds', 'excel', 'exceled', 'excelent', 'excellant', 'excelled', 'excellence', 'excellency', 'excellent', 'excellently', 'excels', 'exceptional', 'exceptionally', 'excite', 'excited', 'excitedly', 'excitedness', 'excitement', 'excites', 'exciting', 'excitingly', 'exellent', 'exemplar', 'exemplary', 'exhilarate', 'exhilarating', 'exhilaratingly', 'exhilaration', 'exonerate', 'expansive', 'expeditiously', 'expertly', 'exquisite', 'exquisitely', 'extol', 'extoll', 'extraordinarily', 'extraordinary', 'exuberance', 'exuberant', 'exuberantly', 'exult', 'exultant', 'exultation', 'exultingly', 'eye-catch', 'eye-catching', 'eyecatch', 'eyecatching', 'fabulous', 'fabulously', 'facilitate', 'fair', 'fairly', 'fairness', 'faith', 'faithful', 'faithfully', 'faithfulness', 'fame', 'famed', 'famous', 'famously', 'fancier', 'fancinating', 'fancy', 'fanfare', 'fans', 'fantastic', 'fantastically', 'fascinate', 'fascinating', 'fascinatingly', 'fascination', 'fashionable', 'fashionably', 'fast', 'fast-growing', 'fast-paced', 'faster', 'fastest', 'fastest-growing', 'faultless', 'fav', 'fave', 'favor', 'favorable', 'favored', 'favorite', 'favorited', 'favour', 'fearless', 'fearlessly', 'feasible', 'feasibly', 'feat', 'feature-rich', 'fecilitous', 'feisty', 'felicitate', 'felicitous', 'felicity', 'fertile', 'fervent', 'fervently', 'fervid', 'fervidly', 'fervor', 'festive', 'fidelity', 'fiery', 'fine', 'fine-looking', 'finely', 'finer', 'finest', 'firmer', 'first-class', 'first-in-class', 'first-rate', 'flashy', 'flatter', 'flattering', 'flatteringly', 'flawless', 'flawlessly', 'flexibility', 'flexible', 'flourish', 'flourishing', 'fluent', 'flutter', 'fond', 'fondly', 'fondness', 'foolproof', 'foremost', 'foresight', 'formidable', 'fortitude', 'fortuitous', 'fortuitously', 'fortunate', 'fortunately', 'fortune', 'fragrant', 'free', 'freed', 'freedom', 'freedoms', 'fresh', 'fresher', 'freshest', 'friendliness', 'friendly', 'frolic', 'frugal', 'fruitful', 'ftw', 'fulfillment', 'fun', 'futurestic', 'futuristic', 'gaiety', 'gaily', 'gain', 'gained', 'gainful', 'gainfully', 'gaining', 'gains', 'gallant', 'gallantly', 'galore', 'geekier', 'geeky', 'gem', 'gems', 'generosity', 'generous', 'generously', 'genial', 'genius', 'gentle', 'gentlest', 'genuine', 'gifted', 'glad', 'gladden', 'gladly', 'gladness', 'glamorous', 'glee', 'gleeful', 'gleefully', 'glimmer', 'glimmering', 'glisten', 'glistening', 'glitter', 'glitz', 'glorify', 'glorious', 'gloriously', 'glory', 'glow', 'glowing', 'glowingly', 'god-given', 'god-send', 'godlike', 'godsend', 'gold', 'golden', 'good', 'goodly', 'goodness', 'goodwill', 'goood', 'gooood', 'gorgeous', 'gorgeously', 'grace', 'graceful', 'gracefully', 'gracious', 'graciously', 'graciousness', 'grand', 'grandeur', 'grateful', 'gratefully', 'gratification', 'gratified', 'gratifies', 'gratify', 'gratifying', 'gratifyingly', 'gratitude', 'great', 'greatest', 'greatness', 'grin', 'groundbreaking', 'guarantee', 'guidance', 'guiltless', 'gumption', 'gush', 'gusto', 'gutsy', 'hail', 'halcyon', 'hale', 'hallmark', 'hallmarks', 'hallowed', 'handier', 'handily', 'hands-down', 'handsome', 'handsomely', 'handy', 'happier', 'happily', 'happiness', 'happy', 'hard-working', 'hardier', 'hardy', 'harmless', 'harmonious', 'harmoniously', 'harmonize', 'harmony', 'headway', 'heal', 'healthful', 'healthy', 'hearten', 'heartening', 'heartfelt', 'heartily', 'heartwarming', 'heaven', 'heavenly', 'helped', 'helpful', 'helping', 'hero', 'heroic', 'heroically', 'heroine', 'heroize', 'heros', 'high-quality', 'high-spirited', 'hilarious', 'holy', 'homage', 'honest', 'honesty', 'honor', 'honorable', 'honored', 'honoring', 'hooray', 'hopeful', 'hospitable', 'hot', 'hotcake', 'hotcakes', 'hottest', 'hug', 'humane', 'humble', 'humility', 'humor', 'humorous', 'humorously', 'humour', 'humourous', 'ideal', 'idealize', 'ideally', 'idol', 'idolize', 'idolized', 'idyllic', 'illuminate', 'illuminati', 'illuminating', 'illumine', 'illustrious', 'ilu', 'imaculate', 'imaginative', 'immaculate', 'immaculately', 'immense', 'impartial', 'impartiality', 'impartially', 'impassioned', 'impeccable', 'impeccably', 'important', 'impress', 'impressed', 'impresses', 'impressive', 'impressively', 'impressiveness', 'improve', 'improved', 'improvement', 'improvements', 'improves', 'improving', 'incredible', 'incredibly', 'indebted', 'individualized', 'indulgence', 'indulgent', 'industrious', 'inestimable', 'inestimably', 'inexpensive', 'infallibility', 'infallible', 'infallibly', 'influential', 'ingenious', 'ingeniously', 'ingenuity', 'ingenuous', 'ingenuously', 'innocuous', 'innovation', 'innovative', 'inpressed', 'insightful', 'insightfully', 'inspiration', 'inspirational', 'inspire', 'inspiring', 'instantly', 'instructive', 'instrumental', 'integral', 'integrated', 'intelligence', 'intelligent', 'intelligible', 'interesting', 'interests', 'intimacy', 'intimate', 'intricate', 'intrigue', 'intriguing', 'intriguingly', 'intuitive', 'invaluable', 'invaluablely', 'inventive', 'invigorate', 'invigorating', 'invincibility', 'invincible', 'inviolable', 'inviolate', 'invulnerable', 'irreplaceable', 'irreproachable', 'irresistible', 'irresistibly', 'issue-free', 'jaw-droping', 'jaw-dropping', 'jollify', 'jolly', 'jovial', 'joy', 'joyful', 'joyfully', 'joyous', 'joyously', 'jubilant', 'jubilantly', 'jubilate', 'jubilation', 'jubiliant', 'judicious', 'justly', 'keen', 'keenly', 'keenness', 'kid-friendly', 'kindliness', 'kindly', 'kindness', 'knowledgeable', 'kudos', 'large-capacity', 'laud', 'laudable', 'laudably', 'lavish', 'lavishly', 'law-abiding', 'lawful', 'lawfully', 'lead', 'leading', 'leads', 'lean', 'led', 'legendary', 'leverage', 'levity', 'liberate', 'liberation', 'liberty', 'lifesaver', 'light-hearted', 'lighter', 'likable', 'like', 'liked', 'likes', 'liking', 'lionhearted', 'lively', 'logical', 'long-lasting', 'lovable', 'lovably', 'love', 'loved', 'loveliness', 'lovely', 'lover', 'loves', 'loving', 'low-cost', 'low-price', 'low-priced', 'low-risk', 'lower-priced', 'loyal', 'loyalty', 'lucid', 'lucidly', 'luck', 'luckier', 'luckiest', 'luckiness', 'lucky', 'lucrative', 'luminous', 'lush', 'luster', 'lustrous', 'luxuriant', 'luxuriate', 'luxurious', 'luxuriously', 'luxury', 'lyrical', 'magic', 'magical', 'magnanimous', 'magnanimously', 'magnificence', 'magnificent', 'magnificently', 'majestic', 'majesty', 'manageable', 'maneuverable', 'marvel', 'marveled', 'marvelled', 'marvellous', 'marvelous', 'marvelously', 'marvelousness', 'marvels', 'master', 'masterful', 'masterfully', 'masterpiece', 'masterpieces', 'masters', 'mastery', 'matchless', 'mature', 'maturely', 'maturity', 'meaningful', 'memorable', 'merciful', 'mercifully', 'mercy', 'merit', 'meritorious', 'merrily', 'merriment', 'merriness', 'merry', 'mesmerize', 'mesmerized', 'mesmerizes', 'mesmerizing', 'mesmerizingly', 'meticulous', 'meticulously', 'mightily', 'mighty', 'mind-blowing', 'miracle', 'miracles', 'miraculous', 'miraculously', 'miraculousness', 'modern', 'modest', 'modesty', 'momentous', 'monumental', 'monumentally', 'morality', 'motivated', 'multi-purpose', 'navigable', 'neat', 'neatest', 'neatly', 'nice', 'nicely', 'nicer', 'nicest', 'nifty', 'nimble', 'noble', 'nobly', 'noiseless', 'non-violence', 'non-violent', 'notably', 'noteworthy', 'nourish', 'nourishing', 'nourishment', 'novelty', 'nurturing', 'oasis', 'obsession', 'obsessions', 'obtainable', 'openly', 'openness', 'optimal', 'optimism', 'optimistic', 'opulent', 'orderly', 'originality', 'outdo', 'outdone', 'outperform', 'outperformed', 'outperforming', 'outperforms', 'outshine', 'outshone', 'outsmart', 'outstanding', 'outstandingly', 'outstrip', 'outwit', 'ovation', 'overjoyed', 'overtake', 'overtaken', 'overtakes', 'overtaking', 'overtook', 'overture', 'pain-free', 'painless', 'painlessly', 'palatial', 'pamper', 'pampered', 'pamperedly', 'pamperedness', 'pampers', 'panoramic', 'paradise', 'paramount', 'pardon', 'passion', 'passionate', 'passionately', 'patience', 'patient', 'patiently', 'patriot', 'patriotic', 'peace', 'peaceable', 'peaceful', 'peacefully', 'peacekeepers', 'peach', 'peerless', 'pep', 'pepped', 'pepping', 'peppy', 'peps', 'perfect', 'perfection', 'perfectly', 'permissible', 'perseverance', 'persevere', 'personages', 'personalized', 'phenomenal', 'phenomenally', 'picturesque', 'piety', 'pinnacle', 'playful', 'playfully', 'pleasant', 'pleasantly', 'pleased', 'pleases', 'pleasing', 'pleasingly', 'pleasurable', 'pleasurably', 'pleasure', 'plentiful', 'pluses', 'plush', 'plusses', 'poetic', 'poeticize', 'poignant', 'poise', 'poised', 'polished', 'polite', 'politeness', 'popular', 'portable', 'posh', 'positive', 'positively', 'positives', 'powerful', 'powerfully', 'praise', 'praiseworthy', 'praising', 'pre-eminent', 'precious', 'precise', 'precisely', 'preeminent', 'prefer', 'preferable', 'preferably', 'prefered', 'preferes', 'preferring', 'prefers', 'premier', 'prestige', 'prestigious', 'prettily', 'pretty', 'priceless', 'pride', 'principled', 'privilege', 'privileged', 'prize', 'proactive', 'problem-free', 'problem-solver', 'prodigious', 'prodigiously', 'prodigy', 'productive', 'productively', 'proficient', 'proficiently', 'profound', 'profoundly', 'profuse', 'profusion', 'progress', 'progressive', 'prolific', 'prominence', 'prominent', 'promise', 'promised', 'promises', 'promising', 'promoter', 'prompt', 'promptly', 'proper', 'properly', 'propitious', 'propitiously', 'pros', 'prosper', 'prosperity', 'prosperous', 'prospros', 'protect', 'protection', 'protective', 'proud', 'proven', 'proves', 'providence', 'proving', 'prowess', 'prudence', 'prudent', 'prudently', 'punctual', 'pure', 'purify', 'purposeful', 'quaint', 'qualified', 'qualify', 'quicker', 'quiet', 'quieter', 'radiance', 'radiant', 'rapid', 'rapport', 'rapt', 'rapture', 'raptureous', 'raptureously', 'rapturous', 'rapturously', 'rational', 'razor-sharp', 'reachable', 'readable', 'readily', 'ready', 'reaffirm', 'reaffirmation', 'realistic', 'realizable', 'reasonable', 'reasonably', 'reasoned', 'reassurance', 'reassure', 'receptive', 'reclaim', 'recomend', 'recommend', 'recommendation', 'recommendations', 'recommended', 'reconcile', 'reconciliation', 'record-setting', 'recover', 'recovery', 'rectification', 'rectify', 'rectifying', 'redeem', 'redeeming', 'redemption', 'refine', 'refined', 'refinement', 'reform', 'reformed', 'reforming', 'reforms', 'refresh', 'refreshed', 'refreshing', 'refund', 'refunded', 'regal', 'regally', 'regard', 'rejoice', 'rejoicing', 'rejoicingly', 'rejuvenate', 'rejuvenated', 'rejuvenating', 'relaxed', 'relent', 'reliable', 'reliably', 'relief', 'relish', 'remarkable', 'remarkably', 'remedy', 'remission', 'remunerate', 'renaissance', 'renewed', 'renown', 'renowned', 'replaceable', 'reputable', 'reputation', 'resilient', 'resolute', 'resound', 'resounding', 'resourceful', 'resourcefulness', 'respect', 'respectable', 'respectful', 'respectfully', 'respite', 'resplendent', 'responsibly', 'responsive', 'restful', 'restored', 'restructure', 'restructured', 'restructuring', 'retractable', 'revel', 'revelation', 'revere', 'reverence', 'reverent', 'reverently', 'revitalize', 'revival', 'revive', 'revives', 'revolutionary', 'revolutionize', 'revolutionized', 'revolutionizes', 'reward', 'rewarding', 'rewardingly', 'rich', 'richer', 'richly', 'richness', 'right', 'righten', 'righteous', 'righteously', 'righteousness', 'rightful', 'rightfully', 'rightly', 'rightness', 'risk-free', 'robust', 'rock-star', 'rock-stars', 'rockstar', 'rockstars', 'romantic', 'romantically', 'romanticize', 'roomier', 'roomy', 'rosy', 'safe', 'safely', 'sagacity', 'sagely', 'saint', 'saintliness', 'saintly', 'salutary', 'salute', 'sane', 'satisfactorily', 'satisfactory', 'satisfied', 'satisfies', 'satisfy', 'satisfying', 'satisified', 'saver', 'savings', 'savior', 'savvy', 'scenic', 'seamless', 'seasoned', 'secure', 'securely', 'selective', 'self-determination', 'self-respect', 'self-satisfaction', 'self-sufficiency', 'self-sufficient', 'sensation', 'sensational', 'sensationally', 'sensations', 'sensible', 'sensibly', 'sensitive', 'serene', 'serenity', 'sexy', 'sharp', 'sharper', 'sharpest', 'shimmering', 'shimmeringly', 'shine', 'shiny', 'significant', 'silent', 'simpler', 'simplest', 'simplified', 'simplifies', 'simplify', 'simplifying', 'sincere', 'sincerely', 'sincerity', 'skill', 'skilled', 'skillful', 'skillfully', 'slammin', 'sleek', 'slick', 'smart', 'smarter', 'smartest', 'smartly', 'smile', 'smiles', 'smiling', 'smilingly', 'smitten', 'smooth', 'smoother', 'smoothes', 'smoothest', 'smoothly', 'snappy', 'snazzy', 'sociable', 'soft', 'softer', 'solace', 'solicitous', 'solicitously', 'solid', 'solidarity', 'soothe', 'soothingly', 'sophisticated', 'soulful', 'soundly', 'soundness', 'spacious', 'sparkle', 'sparkling', 'spectacular', 'spectacularly', 'speedily', 'speedy', 'spellbind', 'spellbinding', 'spellbindingly', 'spellbound', 'spirited', 'spiritual', 'splendid', 'splendidly', 'splendor', 'spontaneous', 'sporty', 'spotless', 'sprightly', 'stability', 'stabilize', 'stable', 'stainless', 'standout', 'state-of-the-art', 'stately', 'statuesque', 'staunch', 'staunchly', 'staunchness', 'steadfast', 'steadfastly', 'steadfastness', 'steadiest', 'steadiness', 'steady', 'stellar', 'stellarly', 'stimulate', 'stimulates', 'stimulating', 'stimulative', 'stirringly', 'straighten', 'straightforward', 'streamlined', 'striking', 'strikingly', 'striving', 'strong', 'stronger', 'strongest', 'stunned', 'stunning', 'stunningly', 'stupendous', 'stupendously', 'sturdier', 'sturdy', 'stylish', 'stylishly', 'stylized', 'suave', 'suavely', 'sublime', 'subsidize', 'subsidized', 'subsidizes', 'subsidizing', 'substantive', 'succeed', 'succeeded', 'succeeding', 'succeeds', 'succes', 'success', 'successes', 'successful', 'successfully', 'suffice', 'sufficed', 'suffices', 'sufficient', 'sufficiently', 'suitable', 'sumptuous', 'sumptuously', 'sumptuousness', 'super', 'superb', 'superbly', 'superior', 'superiority', 'supple', 'support', 'supported', 'supporter', 'supporting', 'supportive', 'supports', 'supremacy', 'supreme', 'supremely', 'supurb', 'supurbly', 'surmount', 'surpass', 'surreal', 'survival', 'survivor', 'sustainability', 'sustainable', 'swank', 'swankier', 'swankiest', 'swanky', 'sweeping', 'sweet', 'sweeten', 'sweetheart', 'sweetly', 'sweetness', 'swift', 'swiftness', 'talent', 'talented', 'talents', 'tantalize', 'tantalizing', 'tantalizingly', 'tempt', 'tempting', 'temptingly', 'tenacious', 'tenaciously', 'tenacity', 'tender', 'tenderly', 'terrific', 'terrifically', 'thank', 'thankful', 'thinner', 'thoughtful', 'thoughtfully', 'thoughtfulness', 'thrift', 'thrifty', 'thrill', 'thrilled', 'thrilling', 'thrillingly', 'thrills', 'thrive', 'thriving', 'thumb-up', 'thumbs-up', 'tickle', 'tidy', 'time-honored', 'timely', 'tingle', 'titillate', 'titillating', 'titillatingly', 'togetherness', 'tolerable', 'toll-free', 'top', 'top-notch', 'top-quality', 'topnotch', 'tops', 'tough', 'tougher', 'toughest', 'traction', 'tranquil', 'tranquility', 'transparent', 'treasure', 'tremendously', 'trendy', 'triumph', 'triumphal', 'triumphant', 'triumphantly', 'trivially', 'trophy', 'trouble-free', 'trump', 'trumpet', 'trust', 'trusted', 'trusting', 'trustingly', 'trustworthiness', 'trustworthy', 'trusty', 'truthful', 'truthfully', 'truthfulness', 'twinkly', 'ultra-crisp', 'unabashed', 'unabashedly', 'unaffected', 'unassailable', 'unbeatable', 'unbiased', 'unbound', 'uncomplicated', 'unconditional', 'undamaged', 'undaunted', 'understandable', 'undisputable', 'undisputably', 'undisputed', 'unencumbered', 'unequivocal', 'unequivocally', 'unfazed', 'unfettered', 'unforgettable', 'unity', 'unlimited', 'unmatched', 'unparalleled', 'unquestionable', 'unquestionably', 'unreal', 'unrestricted', 'unrivaled', 'unselfish', 'unwavering', 'upbeat', 'upgradable', 'upgradeable', 'upgraded', 'upheld', 'uphold', 'uplift', 'uplifting', 'upliftingly', 'upliftment', 'upscale', 'usable', 'useable', 'useful', 'user-friendly', 'user-replaceable', 'valiant', 'valiantly', 'valor', 'valuable', 'variety', 'venerate', 'verifiable', 'veritable', 'versatile', 'versatility', 'vibrant', 'vibrantly', 'victorious', 'victory', 'viewable', 'vigilance', 'vigilant', 'virtue', 'virtuous', 'virtuously', 'visionary', 'vivacious', 'vivid', 'vouch', 'vouchsafe', 'warm', 'warmer', 'warmhearted', 'warmly', 'warmth', 'wealthy', 'welcome', 'well', 'well-backlit', 'well-balanced', 'well-behaved', 'well-being', 'well-bred', 'well-connected', 'well-educated', 'well-established', 'well-informed', 'well-intentioned', 'well-known', 'well-made', 'well-managed', 'well-mannered', 'well-positioned', 'well-received', 'well-regarded', 'well-rounded', 'well-run', 'well-wishers', 'wellbeing', 'whoa', 'wholeheartedly', 'wholesome', 'whooa', 'whoooa', 'wieldy', 'willing', 'willingly', 'willingness', 'win', 'windfall', 'winnable', 'winner', 'winners', 'winning', 'wins', 'wisdom', 'wise', 'wisely', 'witty', 'won', 'wonder', 'wonderful', 'wonderfully', 'wonderous', 'wonderously', 'wonders', 'wondrous', 'woo', 'work', 'workable', 'worked', 'works', 'world-famous', 'worth', 'worth-while', 'worthiness', 'worthwhile', 'worthy', 'wow', 'wowed', 'wowing', 'wows', 'yay', 'youthful', 'zeal', 'zenith', 'zest', 'zippy']\n"
     ]
    }
   ],
   "source": [
    "with open('positive-words.txt', 'r') as file:\n",
    "    pos = file.read().split()\n",
    "print(pos)"
   ]
  },
  {
   "cell_type": "code",
   "execution_count": 14,
   "metadata": {},
   "outputs": [
    {
     "name": "stdout",
     "output_type": "stream",
     "text": [
      "['2-faced', '2-faces', 'abnormal', 'abolish', 'abominable', 'abominably', 'abominate', 'abomination', 'abort', 'aborted', 'aborts', 'abrade', 'abrasive', 'abrupt', 'abruptly', 'abscond', 'absence', 'absent-minded', 'absentee', 'absurd', 'absurdity', 'absurdly', 'absurdness', 'abuse', 'abused', 'abuses', 'abusive', 'abysmal', 'abysmally', 'abyss', 'accidental', 'accost', 'accursed', 'accusation', 'accusations', 'accuse', 'accuses', 'accusing', 'accusingly', 'acerbate', 'acerbic', 'acerbically', 'ache', 'ached', 'aches', 'achey', 'aching', 'acrid', 'acridly', 'acridness', 'acrimonious', 'acrimoniously', 'acrimony', 'adamant', 'adamantly', 'addict', 'addicted', 'addicting', 'addicts', 'admonish', 'admonisher', 'admonishingly', 'admonishment', 'admonition', 'adulterate', 'adulterated', 'adulteration', 'adulterier', 'adversarial', 'adversary', 'adverse', 'adversity', 'afflict', 'affliction', 'afflictive', 'affront', 'afraid', 'aggravate', 'aggravating', 'aggravation', 'aggression', 'aggressive', 'aggressiveness', 'aggressor', 'aggrieve', 'aggrieved', 'aggrivation', 'aghast', 'agonies', 'agonize', 'agonizing', 'agonizingly', 'agony', 'aground', 'ail', 'ailing', 'ailment', 'aimless', 'alarm', 'alarmed', 'alarming', 'alarmingly', 'alienate', 'alienated', 'alienation', 'allegation', 'allegations', 'allege', 'allergic', 'allergies', 'allergy', 'aloof', 'altercation', 'ambiguity', 'ambiguous', 'ambivalence', 'ambivalent', 'ambush', 'amiss', 'amputate', 'anarchism', 'anarchist', 'anarchistic', 'anarchy', 'anemic', 'anger', 'angrily', 'angriness', 'angry', 'anguish', 'animosity', 'annihilate', 'annihilation', 'annoy', 'annoyance', 'annoyances', 'annoyed', 'annoying', 'annoyingly', 'annoys', 'anomalous', 'anomaly', 'antagonism', 'antagonist', 'antagonistic', 'antagonize', 'anti-', 'anti-american', 'anti-israeli', 'anti-occupation', 'anti-proliferation', 'anti-semites', 'anti-social', 'anti-us', 'anti-white', 'antipathy', 'antiquated', 'antithetical', 'anxieties', 'anxiety', 'anxious', 'anxiously', 'anxiousness', 'apathetic', 'apathetically', 'apathy', 'apocalypse', 'apocalyptic', 'apologist', 'apologists', 'appal', 'appall', 'appalled', 'appalling', 'appallingly', 'apprehension', 'apprehensions', 'apprehensive', 'apprehensively', 'arbitrary', 'arcane', 'archaic', 'arduous', 'arduously', 'argumentative', 'arrogance', 'arrogant', 'arrogantly', 'ashamed', 'asinine', 'asininely', 'asinininity', 'askance', 'asperse', 'aspersion', 'aspersions', 'assail', 'assassin', 'assassinate', 'assault', 'assult', 'astray', 'asunder', 'atrocious', 'atrocities', 'atrocity', 'atrophy', 'attack', 'attacks', 'audacious', 'audaciously', 'audaciousness', 'audacity', 'audiciously', 'austere', 'authoritarian', 'autocrat', 'autocratic', 'avalanche', 'avarice', 'avaricious', 'avariciously', 'avenge', 'averse', 'aversion', 'aweful', 'awful', 'awfully', 'awfulness', 'awkward', 'awkwardness', 'ax', 'babble', 'back-logged', 'back-wood', 'back-woods', 'backache', 'backaches', 'backaching', 'backbite', 'backbiting', 'backward', 'backwardness', 'backwood', 'backwoods', 'bad', 'badly', 'baffle', 'baffled', 'bafflement', 'baffling', 'bait', 'balk', 'banal', 'banalize', 'bane', 'banish', 'banishment', 'bankrupt', 'barbarian', 'barbaric', 'barbarically', 'barbarity', 'barbarous', 'barbarously', 'barren', 'baseless', 'bash', 'bashed', 'bashful', 'bashing', 'bastard', 'bastards', 'battered', 'battering', 'batty', 'bearish', 'beastly', 'bedlam', 'bedlamite', 'befoul', 'beg', 'beggar', 'beggarly', 'begging', 'beguile', 'belabor', 'belated', 'beleaguer', 'belie', 'belittle', 'belittled', 'belittling', 'bellicose', 'belligerence', 'belligerent', 'belligerently', 'bemoan', 'bemoaning', 'bemused', 'bent', 'berate', 'bereave', 'bereavement', 'bereft', 'berserk', 'beseech', 'beset', 'besiege', 'besmirch', 'bestial', 'betray', 'betrayal', 'betrayals', 'betrayer', 'betraying', 'betrays', 'bewail', 'beware', 'bewilder', 'bewildered', 'bewildering', 'bewilderingly', 'bewilderment', 'bewitch', 'bias', 'biased', 'biases', 'bicker', 'bickering', 'bid-rigging', 'bigotries', 'bigotry', 'bitch', 'bitchy', 'biting', 'bitingly', 'bitter', 'bitterly', 'bitterness', 'bizarre', 'blab', 'blabber', 'blackmail', 'blah', 'blame', 'blameworthy', 'bland', 'blandish', 'blaspheme', 'blasphemous', 'blasphemy', 'blasted', 'blatant', 'blatantly', 'blather', 'bleak', 'bleakly', 'bleakness', 'bleed', 'bleeding', 'bleeds', 'blemish', 'blind', 'blinding', 'blindingly', 'blindside', 'blister', 'blistering', 'bloated', 'blockage', 'blockhead', 'bloodshed', 'bloodthirsty', 'bloody', 'blotchy', 'blow', 'blunder', 'blundering', 'blunders', 'blunt', 'blur', 'bluring', 'blurred', 'blurring', 'blurry', 'blurs', 'blurt', 'boastful', 'boggle', 'bogus', 'boil', 'boiling', 'boisterous', 'bomb', 'bombard', 'bombardment', 'bombastic', 'bondage', 'bonkers', 'bore', 'bored', 'boredom', 'bores', 'boring', 'botch', 'bother', 'bothered', 'bothering', 'bothers', 'bothersome', 'bowdlerize', 'boycott', 'braggart', 'bragger', 'brainless', 'brainwash', 'brash', 'brashly', 'brashness', 'brat', 'bravado', 'brazen', 'brazenly', 'brazenness', 'breach', 'break', 'break-up', 'break-ups', 'breakdown', 'breaking', 'breaks', 'breakup', 'breakups', 'bribery', 'brimstone', 'bristle', 'brittle', 'broke', 'broken', 'broken-hearted', 'brood', 'browbeat', 'bruise', 'bruised', 'bruises', 'bruising', 'brusque', 'brutal', 'brutalising', 'brutalities', 'brutality', 'brutalize', 'brutalizing', 'brutally', 'brute', 'brutish', 'bs', 'buckle', 'bug', 'bugging', 'buggy', 'bugs', 'bulkier', 'bulkiness', 'bulky', 'bulkyness', 'bull****', 'bull----', 'bullies', 'bullshit', 'bullshyt', 'bully', 'bullying', 'bullyingly', 'bum', 'bump', 'bumped', 'bumping', 'bumpping', 'bumps', 'bumpy', 'bungle', 'bungler', 'bungling', 'bunk', 'burden', 'burdensome', 'burdensomely', 'burn', 'burned', 'burning', 'burns', 'bust', 'busts', 'busybody', 'butcher', 'butchery', 'buzzing', 'byzantine', 'cackle', 'calamities', 'calamitous', 'calamitously', 'calamity', 'callous', 'calumniate', 'calumniation', 'calumnies', 'calumnious', 'calumniously', 'calumny', 'cancer', 'cancerous', 'cannibal', 'cannibalize', 'capitulate', 'capricious', 'capriciously', 'capriciousness', 'capsize', 'careless', 'carelessness', 'caricature', 'carnage', 'carp', 'cartoonish', 'cash-strapped', 'castigate', 'castrated', 'casualty', 'cataclysm', 'cataclysmal', 'cataclysmic', 'cataclysmically', 'catastrophe', 'catastrophes', 'catastrophic', 'catastrophically', 'catastrophies', 'caustic', 'caustically', 'cautionary', 'cave', 'censure', 'chafe', 'chaff', 'chagrin', 'challenging', 'chaos', 'chaotic', 'chasten', 'chastise', 'chastisement', 'chatter', 'chatterbox', 'cheap', 'cheapen', 'cheaply', 'cheat', 'cheated', 'cheater', 'cheating', 'cheats', 'checkered', 'cheerless', 'cheesy', 'chide', 'childish', 'chill', 'chilly', 'chintzy', 'choke', 'choleric', 'choppy', 'chore', 'chronic', 'chunky', 'clamor', 'clamorous', 'clash', 'cliche', 'cliched', 'clique', 'clog', 'clogged', 'clogs', 'cloud', 'clouding', 'cloudy', 'clueless', 'clumsy', 'clunky', 'coarse', 'cocky', 'coerce', 'coercion', 'coercive', 'cold', 'coldly', 'collapse', 'collude', 'collusion', 'combative', 'combust', 'comical', 'commiserate', 'commonplace', 'commotion', 'commotions', 'complacent', 'complain', 'complained', 'complaining', 'complains', 'complaint', 'complaints', 'complex', 'complicated', 'complication', 'complicit', 'compulsion', 'compulsive', 'concede', 'conceded', 'conceit', 'conceited', 'concen', 'concens', 'concern', 'concerned', 'concerns', 'concession', 'concessions', 'condemn', 'condemnable', 'condemnation', 'condemned', 'condemns', 'condescend', 'condescending', 'condescendingly', 'condescension', 'confess', 'confession', 'confessions', 'confined', 'conflict', 'conflicted', 'conflicting', 'conflicts', 'confound', 'confounded', 'confounding', 'confront', 'confrontation', 'confrontational', 'confuse', 'confused', 'confuses', 'confusing', 'confusion', 'confusions', 'congested', 'congestion', 'cons', 'conscons', 'conservative', 'conspicuous', 'conspicuously', 'conspiracies', 'conspiracy', 'conspirator', 'conspiratorial', 'conspire', 'consternation', 'contagious', 'contaminate', 'contaminated', 'contaminates', 'contaminating', 'contamination', 'contempt', 'contemptible', 'contemptuous', 'contemptuously', 'contend', 'contention', 'contentious', 'contort', 'contortions', 'contradict', 'contradiction', 'contradictory', 'contrariness', 'contravene', 'contrive', 'contrived', 'controversial', 'controversy', 'convoluted', 'corrode', 'corrosion', 'corrosions', 'corrosive', 'corrupt', 'corrupted', 'corrupting', 'corruption', 'corrupts', 'corruptted', 'costlier', 'costly', 'counter-productive', 'counterproductive', 'coupists', 'covetous', 'coward', 'cowardly', 'crabby', 'crack', 'cracked', 'cracks', 'craftily', 'craftly', 'crafty', 'cramp', 'cramped', 'cramping', 'cranky', 'crap', 'crappy', 'craps', 'crash', 'crashed', 'crashes', 'crashing', 'crass', 'craven', 'cravenly', 'craze', 'crazily', 'craziness', 'crazy', 'creak', 'creaking', 'creaks', 'credulous', 'creep', 'creeping', 'creeps', 'creepy', 'crept', 'crime', 'criminal', 'cringe', 'cringed', 'cringes', 'cripple', 'crippled', 'cripples', 'crippling', 'crisis', 'critic', 'critical', 'criticism', 'criticisms', 'criticize', 'criticized', 'criticizing', 'critics', 'cronyism', 'crook', 'crooked', 'crooks', 'crowded', 'crowdedness', 'crude', 'cruel', 'crueler', 'cruelest', 'cruelly', 'cruelness', 'cruelties', 'cruelty', 'crumble', 'crumbling', 'crummy', 'crumple', 'crumpled', 'crumples', 'crush', 'crushed', 'crushing', 'cry', 'culpable', 'culprit', 'cumbersome', 'cunt', 'cunts', 'cuplrit', 'curse', 'cursed', 'curses', 'curt', 'cuss', 'cussed', 'cutthroat', 'cynical', 'cynicism', 'd*mn', 'damage', 'damaged', 'damages', 'damaging', 'damn', 'damnable', 'damnably', 'damnation', 'damned', 'damning', 'damper', 'danger', 'dangerous', 'dangerousness', 'dark', 'darken', 'darkened', 'darker', 'darkness', 'dastard', 'dastardly', 'daunt', 'daunting', 'dauntingly', 'dawdle', 'daze', 'dazed', 'dead', 'deadbeat', 'deadlock', 'deadly', 'deadweight', 'deaf', 'dearth', 'death', 'debacle', 'debase', 'debasement', 'debaser', 'debatable', 'debauch', 'debaucher', 'debauchery', 'debilitate', 'debilitating', 'debility', 'debt', 'debts', 'decadence', 'decadent', 'decay', 'decayed', 'deceit', 'deceitful', 'deceitfully', 'deceitfulness', 'deceive', 'deceiver', 'deceivers', 'deceiving', 'deception', 'deceptive', 'deceptively', 'declaim', 'decline', 'declines', 'declining', 'decrement', 'decrepit', 'decrepitude', 'decry', 'defamation', 'defamations', 'defamatory', 'defame', 'defect', 'defective', 'defects', 'defensive', 'defiance', 'defiant', 'defiantly', 'deficiencies', 'deficiency', 'deficient', 'defile', 'defiler', 'deform', 'deformed', 'defrauding', 'defunct', 'defy', 'degenerate', 'degenerately', 'degeneration', 'degradation', 'degrade', 'degrading', 'degradingly', 'dehumanization', 'dehumanize', 'deign', 'deject', 'dejected', 'dejectedly', 'dejection', 'delay', 'delayed', 'delaying', 'delays', 'delinquency', 'delinquent', 'delirious', 'delirium', 'delude', 'deluded', 'deluge', 'delusion', 'delusional', 'delusions', 'demean', 'demeaning', 'demise', 'demolish', 'demolisher', 'demon', 'demonic', 'demonize', 'demonized', 'demonizes', 'demonizing', 'demoralize', 'demoralizing', 'demoralizingly', 'denial', 'denied', 'denies', 'denigrate', 'denounce', 'dense', 'dent', 'dented', 'dents', 'denunciate', 'denunciation', 'denunciations', 'deny', 'denying', 'deplete', 'deplorable', 'deplorably', 'deplore', 'deploring', 'deploringly', 'deprave', 'depraved', 'depravedly', 'deprecate', 'depress', 'depressed', 'depressing', 'depressingly', 'depression', 'depressions', 'deprive', 'deprived', 'deride', 'derision', 'derisive', 'derisively', 'derisiveness', 'derogatory', 'desecrate', 'desert', 'desertion', 'desiccate', 'desiccated', 'desititute', 'desolate', 'desolately', 'desolation', 'despair', 'despairing', 'despairingly', 'desperate', 'desperately', 'desperation', 'despicable', 'despicably', 'despise', 'despised', 'despoil', 'despoiler', 'despondence', 'despondency', 'despondent', 'despondently', 'despot', 'despotic', 'despotism', 'destabilisation', 'destains', 'destitute', 'destitution', 'destroy', 'destroyer', 'destruction', 'destructive', 'desultory', 'deter', 'deteriorate', 'deteriorating', 'deterioration', 'deterrent', 'detest', 'detestable', 'detestably', 'detested', 'detesting', 'detests', 'detract', 'detracted', 'detracting', 'detraction', 'detracts', 'detriment', 'detrimental', 'devastate', 'devastated', 'devastates', 'devastating', 'devastatingly', 'devastation', 'deviate', 'deviation', 'devil', 'devilish', 'devilishly', 'devilment', 'devilry', 'devious', 'deviously', 'deviousness', 'devoid', 'diabolic', 'diabolical', 'diabolically', 'diametrically', 'diappointed', 'diatribe', 'diatribes', 'dick', 'dictator', 'dictatorial', 'die', 'die-hard', 'died', 'dies', 'difficult', 'difficulties', 'difficulty', 'diffidence', 'dilapidated', 'dilemma', 'dilly-dally', 'dim', 'dimmer', 'din', 'ding', 'dings', 'dinky', 'dire', 'direly', 'direness', 'dirt', 'dirtbag', 'dirtbags', 'dirts', 'dirty', 'disable', 'disabled', 'disaccord', 'disadvantage', 'disadvantaged', 'disadvantageous', 'disadvantages', 'disaffect', 'disaffected', 'disaffirm', 'disagree', 'disagreeable', 'disagreeably', 'disagreed', 'disagreeing', 'disagreement', 'disagrees', 'disallow', 'disapointed', 'disapointing', 'disapointment', 'disappoint', 'disappointed', 'disappointing', 'disappointingly', 'disappointment', 'disappointments', 'disappoints', 'disapprobation', 'disapproval', 'disapprove', 'disapproving', 'disarm', 'disarray', 'disaster', 'disasterous', 'disastrous', 'disastrously', 'disavow', 'disavowal', 'disbelief', 'disbelieve', 'disbeliever', 'disclaim', 'discombobulate', 'discomfit', 'discomfititure', 'discomfort', 'discompose', 'disconcert', 'disconcerted', 'disconcerting', 'disconcertingly', 'disconsolate', 'disconsolately', 'disconsolation', 'discontent', 'discontented', 'discontentedly', 'discontinued', 'discontinuity', 'discontinuous', 'discord', 'discordance', 'discordant', 'discountenance', 'discourage', 'discouragement', 'discouraging', 'discouragingly', 'discourteous', 'discourteously', 'discoutinous', 'discredit', 'discrepant', 'discriminate', 'discrimination', 'discriminatory', 'disdain', 'disdained', 'disdainful', 'disdainfully', 'disfavor', 'disgrace', 'disgraced', 'disgraceful', 'disgracefully', 'disgruntle', 'disgruntled', 'disgust', 'disgusted', 'disgustedly', 'disgustful', 'disgustfully', 'disgusting', 'disgustingly', 'dishearten', 'disheartening', 'dishearteningly', 'dishonest', 'dishonestly', 'dishonesty', 'dishonor', 'dishonorable', 'dishonorablely', 'disillusion', 'disillusioned', 'disillusionment', 'disillusions', 'disinclination', 'disinclined', 'disingenuous', 'disingenuously', 'disintegrate', 'disintegrated', 'disintegrates', 'disintegration', 'disinterest', 'disinterested', 'dislike', 'disliked', 'dislikes', 'disliking', 'dislocated', 'disloyal', 'disloyalty', 'dismal', 'dismally', 'dismalness', 'dismay', 'dismayed', 'dismaying', 'dismayingly', 'dismissive', 'dismissively', 'disobedience', 'disobedient', 'disobey', 'disoobedient', 'disorder', 'disordered', 'disorderly', 'disorganized', 'disorient', 'disoriented', 'disown', 'disparage', 'disparaging', 'disparagingly', 'dispensable', 'dispirit', 'dispirited', 'dispiritedly', 'dispiriting', 'displace', 'displaced', 'displease', 'displeased', 'displeasing', 'displeasure', 'disproportionate', 'disprove', 'disputable', 'dispute', 'disputed', 'disquiet', 'disquieting', 'disquietingly', 'disquietude', 'disregard', 'disregardful', 'disreputable', 'disrepute', 'disrespect', 'disrespectable', 'disrespectablity', 'disrespectful', 'disrespectfully', 'disrespectfulness', 'disrespecting', 'disrupt', 'disruption', 'disruptive', 'diss', 'dissapointed', 'dissappointed', 'dissappointing', 'dissatisfaction', 'dissatisfactory', 'dissatisfied', 'dissatisfies', 'dissatisfy', 'dissatisfying', 'dissed', 'dissemble', 'dissembler', 'dissension', 'dissent', 'dissenter', 'dissention', 'disservice', 'disses', 'dissidence', 'dissident', 'dissidents', 'dissing', 'dissocial', 'dissolute', 'dissolution', 'dissonance', 'dissonant', 'dissonantly', 'dissuade', 'dissuasive', 'distains', 'distaste', 'distasteful', 'distastefully', 'distort', 'distorted', 'distortion', 'distorts', 'distract', 'distracting', 'distraction', 'distraught', 'distraughtly', 'distraughtness', 'distress', 'distressed', 'distressing', 'distressingly', 'distrust', 'distrustful', 'distrusting', 'disturb', 'disturbance', 'disturbed', 'disturbing', 'disturbingly', 'disunity', 'disvalue', 'divergent', 'divisive', 'divisively', 'divisiveness', 'dizzing', 'dizzingly', 'dizzy', 'doddering', 'dodgey', 'dogged', 'doggedly', 'dogmatic', 'doldrums', 'domineer', 'domineering', 'donside', 'doom', 'doomed', 'doomsday', 'dope', 'doubt', 'doubtful', 'doubtfully', 'doubts', 'douchbag', 'douchebag', 'douchebags', 'downbeat', 'downcast', 'downer', 'downfall', 'downfallen', 'downgrade', 'downhearted', 'downheartedly', 'downhill', 'downside', 'downsides', 'downturn', 'downturns', 'drab', 'draconian', 'draconic', 'drag', 'dragged', 'dragging', 'dragoon', 'drags', 'drain', 'drained', 'draining', 'drains', 'drastic', 'drastically', 'drawback', 'drawbacks', 'dread', 'dreadful', 'dreadfully', 'dreadfulness', 'dreary', 'dripped', 'dripping', 'drippy', 'drips', 'drones', 'droop', 'droops', 'drop-out', 'drop-outs', 'dropout', 'dropouts', 'drought', 'drowning', 'drunk', 'drunkard', 'drunken', 'dubious', 'dubiously', 'dubitable', 'dud', 'dull', 'dullard', 'dumb', 'dumbfound', 'dump', 'dumped', 'dumping', 'dumps', 'dunce', 'dungeon', 'dungeons', 'dupe', 'dust', 'dusty', 'dwindling', 'dying', 'earsplitting', 'eccentric', 'eccentricity', 'effigy', 'effrontery', 'egocentric', 'egomania', 'egotism', 'egotistical', 'egotistically', 'egregious', 'egregiously', 'election-rigger', 'elimination', 'emaciated', 'emasculate', 'embarrass', 'embarrassing', 'embarrassingly', 'embarrassment', 'embattled', 'embroil', 'embroiled', 'embroilment', 'emergency', 'emphatic', 'emphatically', 'emptiness', 'encroach', 'encroachment', 'endanger', 'enemies', 'enemy', 'enervate', 'enfeeble', 'enflame', 'engulf', 'enjoin', 'enmity', 'enrage', 'enraged', 'enraging', 'enslave', 'entangle', 'entanglement', 'entrap', 'entrapment', 'envious', 'enviously', 'enviousness', 'epidemic', 'equivocal', 'erase', 'erode', 'erodes', 'erosion', 'err', 'errant', 'erratic', 'erratically', 'erroneous', 'erroneously', 'error', 'errors', 'eruptions', 'escapade', 'eschew', 'estranged', 'evade', 'evasion', 'evasive', 'evil', 'evildoer', 'evils', 'eviscerate', 'exacerbate', 'exagerate', 'exagerated', 'exagerates', 'exaggerate', 'exaggeration', 'exasperate', 'exasperated', 'exasperating', 'exasperatingly', 'exasperation', 'excessive', 'excessively', 'exclusion', 'excoriate', 'excruciating', 'excruciatingly', 'excuse', 'excuses', 'execrate', 'exhaust', 'exhausted', 'exhaustion', 'exhausts', 'exhorbitant', 'exhort', 'exile', 'exorbitant', 'exorbitantance', 'exorbitantly', 'expel', 'expensive', 'expire', 'expired', 'explode', 'exploit', 'exploitation', 'explosive', 'expropriate', 'expropriation', 'expulse', 'expunge', 'exterminate', 'extermination', 'extinguish', 'extort', 'extortion', 'extraneous', 'extravagance', 'extravagant', 'extravagantly', 'extremism', 'extremist', 'extremists', 'eyesore', 'f**k', 'fabricate', 'fabrication', 'facetious', 'facetiously', 'fail', 'failed', 'failing', 'fails', 'failure', 'failures', 'faint', 'fainthearted', 'faithless', 'fake', 'fall', 'fallacies', 'fallacious', 'fallaciously', 'fallaciousness', 'fallacy', 'fallen', 'falling', 'fallout', 'falls', 'false', 'falsehood', 'falsely', 'falsify', 'falter', 'faltered', 'famine', 'famished', 'fanatic', 'fanatical', 'fanatically', 'fanaticism', 'fanatics', 'fanciful', 'far-fetched', 'farce', 'farcical', 'farcical-yet-provocative', 'farcically', 'farfetched', 'fascism', 'fascist', 'fastidious', 'fastidiously', 'fastuous', 'fat', 'fat-cat', 'fat-cats', 'fatal', 'fatalistic', 'fatalistically', 'fatally', 'fatcat', 'fatcats', 'fateful', 'fatefully', 'fathomless', 'fatigue', 'fatigued', 'fatique', 'fatty', 'fatuity', 'fatuous', 'fatuously', 'fault', 'faults', 'faulty', 'fawningly', 'faze', 'fear', 'fearful', 'fearfully', 'fears', 'fearsome', 'feckless', 'feeble', 'feeblely', 'feebleminded', 'feign', 'feint', 'fell', 'felon', 'felonious', 'ferociously', 'ferocity', 'fetid', 'fever', 'feverish', 'fevers', 'fiasco', 'fib', 'fibber', 'fickle', 'fiction', 'fictional', 'fictitious', 'fidget', 'fidgety', 'fiend', 'fiendish', 'fierce', 'figurehead', 'filth', 'filthy', 'finagle', 'finicky', 'fissures', 'fist', 'flabbergast', 'flabbergasted', 'flagging', 'flagrant', 'flagrantly', 'flair', 'flairs', 'flak', 'flake', 'flakey', 'flakieness', 'flaking', 'flaky', 'flare', 'flares', 'flareup', 'flareups', 'flat-out', 'flaunt', 'flaw', 'flawed', 'flaws', 'flee', 'fleed', 'fleeing', 'fleer', 'flees', 'fleeting', 'flicering', 'flicker', 'flickering', 'flickers', 'flighty', 'flimflam', 'flimsy', 'flirt', 'flirty', 'floored', 'flounder', 'floundering', 'flout', 'fluster', 'foe', 'fool', 'fooled', 'foolhardy', 'foolish', 'foolishly', 'foolishness', 'forbid', 'forbidden', 'forbidding', 'forceful', 'foreboding', 'forebodingly', 'forfeit', 'forged', 'forgetful', 'forgetfully', 'forgetfulness', 'forlorn', 'forlornly', 'forsake', 'forsaken', 'forswear', 'foul', 'foully', 'foulness', 'fractious', 'fractiously', 'fracture', 'fragile', 'fragmented', 'frail', 'frantic', 'frantically', 'franticly', 'fraud', 'fraudulent', 'fraught', 'frazzle', 'frazzled', 'freak', 'freaking', 'freakish', 'freakishly', 'freaks', 'freeze', 'freezes', 'freezing', 'frenetic', 'frenetically', 'frenzied', 'frenzy', 'fret', 'fretful', 'frets', 'friction', 'frictions', 'fried', 'friggin', 'frigging', 'fright', 'frighten', 'frightening', 'frighteningly', 'frightful', 'frightfully', 'frigid', 'frost', 'frown', 'froze', 'frozen', 'fruitless', 'fruitlessly', 'frustrate', 'frustrated', 'frustrates', 'frustrating', 'frustratingly', 'frustration', 'frustrations', 'fuck', 'fucking', 'fudge', 'fugitive', 'full-blown', 'fulminate', 'fumble', 'fume', 'fumes', 'fundamentalism', 'funky', 'funnily', 'funny', 'furious', 'furiously', 'furor', 'fury', 'fuss', 'fussy', 'fustigate', 'fusty', 'futile', 'futilely', 'futility', 'fuzzy', 'gabble', 'gaff', 'gaffe', 'gainsay', 'gainsayer', 'gall', 'galling', 'gallingly', 'galls', 'gangster', 'gape', 'garbage', 'garish', 'gasp', 'gauche', 'gaudy', 'gawk', 'gawky', 'geezer', 'genocide', 'get-rich', 'ghastly', 'ghetto', 'ghosting', 'gibber', 'gibberish', 'gibe', 'giddy', 'gimmick', 'gimmicked', 'gimmicking', 'gimmicks', 'gimmicky', 'glare', 'glaringly', 'glib', 'glibly', 'glitch', 'glitches', 'gloatingly', 'gloom', 'gloomy', 'glower', 'glum', 'glut', 'gnawing', 'goad', 'goading', 'god-awful', 'goof', 'goofy', 'goon', 'gossip', 'graceless', 'gracelessly', 'graft', 'grainy', 'grapple', 'grate', 'grating', 'gravely', 'greasy', 'greed', 'greedy', 'grief', 'grievance', 'grievances', 'grieve', 'grieving', 'grievous', 'grievously', 'grim', 'grimace', 'grind', 'gripe', 'gripes', 'grisly', 'gritty', 'gross', 'grossly', 'grotesque', 'grouch', 'grouchy', 'groundless', 'grouse', 'growl', 'grudge', 'grudges', 'grudging', 'grudgingly', 'gruesome', 'gruesomely', 'gruff', 'grumble', 'grumpier', 'grumpiest', 'grumpily', 'grumpish', 'grumpy', 'guile', 'guilt', 'guiltily', 'guilty', 'gullible', 'gutless', 'gutter', 'hack', 'hacks', 'haggard', 'haggle', 'hairloss', 'halfhearted', 'halfheartedly', 'hallucinate', 'hallucination', 'hamper', 'hampered', 'handicapped', 'hang', 'hangs', 'haphazard', 'hapless', 'harangue', 'harass', 'harassed', 'harasses', 'harassment', 'harboring', 'harbors', 'hard', 'hard-hit', 'hard-line', 'hard-liner', 'hardball', 'harden', 'hardened', 'hardheaded', 'hardhearted', 'hardliner', 'hardliners', 'hardship', 'hardships', 'harm', 'harmed', 'harmful', 'harms', 'harpy', 'harridan', 'harried', 'harrow', 'harsh', 'harshly', 'hasseling', 'hassle', 'hassled', 'hassles', 'haste', 'hastily', 'hasty', 'hate', 'hated', 'hateful', 'hatefully', 'hatefulness', 'hater', 'haters', 'hates', 'hating', 'hatred', 'haughtily', 'haughty', 'haunt', 'haunting', 'havoc', 'hawkish', 'haywire', 'hazard', 'hazardous', 'haze', 'hazy', 'head-aches', 'headache', 'headaches', 'heartbreaker', 'heartbreaking', 'heartbreakingly', 'heartless', 'heathen', 'heavy-handed', 'heavyhearted', 'heck', 'heckle', 'heckled', 'heckles', 'hectic', 'hedge', 'hedonistic', 'heedless', 'hefty', 'hegemonism', 'hegemonistic', 'hegemony', 'heinous', 'hell', 'hell-bent', 'hellion', 'hells', 'helpless', 'helplessly', 'helplessness', 'heresy', 'heretic', 'heretical', 'hesitant', 'hestitant', 'hideous', 'hideously', 'hideousness', 'high-priced', 'hiliarious', 'hinder', 'hindrance', 'hiss', 'hissed', 'hissing', 'ho-hum', 'hoard', 'hoax', 'hobble', 'hogs', 'hollow', 'hoodium', 'hoodwink', 'hooligan', 'hopeless', 'hopelessly', 'hopelessness', 'horde', 'horrendous', 'horrendously', 'horrible', 'horrid', 'horrific', 'horrified', 'horrifies', 'horrify', 'horrifying', 'horrifys', 'hostage', 'hostile', 'hostilities', 'hostility', 'hotbeds', 'hothead', 'hotheaded', 'hothouse', 'hubris', 'huckster', 'hum', 'humid', 'humiliate', 'humiliating', 'humiliation', 'humming', 'hung', 'hurt', 'hurted', 'hurtful', 'hurting', 'hurts', 'hustler', 'hype', 'hypocricy', 'hypocrisy', 'hypocrite', 'hypocrites', 'hypocritical', 'hypocritically', 'hysteria', 'hysteric', 'hysterical', 'hysterically', 'hysterics', 'idiocies', 'idiocy', 'idiot', 'idiotic', 'idiotically', 'idiots', 'idle', 'ignoble', 'ignominious', 'ignominiously', 'ignominy', 'ignorance', 'ignorant', 'ignore', 'ill-advised', 'ill-conceived', 'ill-defined', 'ill-designed', 'ill-fated', 'ill-favored', 'ill-formed', 'ill-mannered', 'ill-natured', 'ill-sorted', 'ill-tempered', 'ill-treated', 'ill-treatment', 'ill-usage', 'ill-used', 'illegal', 'illegally', 'illegitimate', 'illicit', 'illiterate', 'illness', 'illogic', 'illogical', 'illogically', 'illusion', 'illusions', 'illusory', 'imaginary', 'imbalance', 'imbecile', 'imbroglio', 'immaterial', 'immature', 'imminence', 'imminently', 'immobilized', 'immoderate', 'immoderately', 'immodest', 'immoral', 'immorality', 'immorally', 'immovable', 'impair', 'impaired', 'impasse', 'impatience', 'impatient', 'impatiently', 'impeach', 'impedance', 'impede', 'impediment', 'impending', 'impenitent', 'imperfect', 'imperfection', 'imperfections', 'imperfectly', 'imperialist', 'imperil', 'imperious', 'imperiously', 'impermissible', 'impersonal', 'impertinent', 'impetuous', 'impetuously', 'impiety', 'impinge', 'impious', 'implacable', 'implausible', 'implausibly', 'implicate', 'implication', 'implode', 'impolite', 'impolitely', 'impolitic', 'importunate', 'importune', 'impose', 'imposers', 'imposing', 'imposition', 'impossible', 'impossiblity', 'impossibly', 'impotent', 'impoverish', 'impoverished', 'impractical', 'imprecate', 'imprecise', 'imprecisely', 'imprecision', 'imprison', 'imprisonment', 'improbability', 'improbable', 'improbably', 'improper', 'improperly', 'impropriety', 'imprudence', 'imprudent', 'impudence', 'impudent', 'impudently', 'impugn', 'impulsive', 'impulsively', 'impunity', 'impure', 'impurity', 'inability', 'inaccuracies', 'inaccuracy', 'inaccurate', 'inaccurately', 'inaction', 'inactive', 'inadequacy', 'inadequate', 'inadequately', 'inadverent', 'inadverently', 'inadvisable', 'inadvisably', 'inane', 'inanely', 'inappropriate', 'inappropriately', 'inapt', 'inaptitude', 'inarticulate', 'inattentive', 'inaudible', 'incapable', 'incapably', 'incautious', 'incendiary', 'incense', 'incessant', 'incessantly', 'incite', 'incitement', 'incivility', 'inclement', 'incognizant', 'incoherence', 'incoherent', 'incoherently', 'incommensurate', 'incomparable', 'incomparably', 'incompatability', 'incompatibility', 'incompatible', 'incompetence', 'incompetent', 'incompetently', 'incomplete', 'incompliant', 'incomprehensible', 'incomprehension', 'inconceivable', 'inconceivably', 'incongruous', 'incongruously', 'inconsequent', 'inconsequential', 'inconsequentially', 'inconsequently', 'inconsiderate', 'inconsiderately', 'inconsistence', 'inconsistencies', 'inconsistency', 'inconsistent', 'inconsolable', 'inconsolably', 'inconstant', 'inconvenience', 'inconveniently', 'incorrect', 'incorrectly', 'incorrigible', 'incorrigibly', 'incredulous', 'incredulously', 'inculcate', 'indecency', 'indecent', 'indecently', 'indecision', 'indecisive', 'indecisively', 'indecorum', 'indefensible', 'indelicate', 'indeterminable', 'indeterminably', 'indeterminate', 'indifference', 'indifferent', 'indigent', 'indignant', 'indignantly', 'indignation', 'indignity', 'indiscernible', 'indiscreet', 'indiscreetly', 'indiscretion', 'indiscriminate', 'indiscriminately', 'indiscriminating', 'indistinguishable', 'indoctrinate', 'indoctrination', 'indolent', 'indulge', 'ineffective', 'ineffectively', 'ineffectiveness', 'ineffectual', 'ineffectually', 'ineffectualness', 'inefficacious', 'inefficacy', 'inefficiency', 'inefficient', 'inefficiently', 'inelegance', 'inelegant', 'ineligible', 'ineloquent', 'ineloquently', 'inept', 'ineptitude', 'ineptly', 'inequalities', 'inequality', 'inequitable', 'inequitably', 'inequities', 'inescapable', 'inescapably', 'inessential', 'inevitable', 'inevitably', 'inexcusable', 'inexcusably', 'inexorable', 'inexorably', 'inexperience', 'inexperienced', 'inexpert', 'inexpertly', 'inexpiable', 'inexplainable', 'inextricable', 'inextricably', 'infamous', 'infamously', 'infamy', 'infected', 'infection', 'infections', 'inferior', 'inferiority', 'infernal', 'infest', 'infested', 'infidel', 'infidels', 'infiltrator', 'infiltrators', 'infirm', 'inflame', 'inflammation', 'inflammatory', 'inflammed', 'inflated', 'inflationary', 'inflexible', 'inflict', 'infraction', 'infringe', 'infringement', 'infringements', 'infuriate', 'infuriated', 'infuriating', 'infuriatingly', 'inglorious', 'ingrate', 'ingratitude', 'inhibit', 'inhibition', 'inhospitable', 'inhospitality', 'inhuman', 'inhumane', 'inhumanity', 'inimical', 'inimically', 'iniquitous', 'iniquity', 'injudicious', 'injure', 'injurious', 'injury', 'injustice', 'injustices', 'innuendo', 'inoperable', 'inopportune', 'inordinate', 'inordinately', 'insane', 'insanely', 'insanity', 'insatiable', 'insecure', 'insecurity', 'insensible', 'insensitive', 'insensitively', 'insensitivity', 'insidious', 'insidiously', 'insignificance', 'insignificant', 'insignificantly', 'insincere', 'insincerely', 'insincerity', 'insinuate', 'insinuating', 'insinuation', 'insociable', 'insolence', 'insolent', 'insolently', 'insolvent', 'insouciance', 'instability', 'instable', 'instigate', 'instigator', 'instigators', 'insubordinate', 'insubstantial', 'insubstantially', 'insufferable', 'insufferably', 'insufficiency', 'insufficient', 'insufficiently', 'insular', 'insult', 'insulted', 'insulting', 'insultingly', 'insults', 'insupportable', 'insupportably', 'insurmountable', 'insurmountably', 'insurrection', 'intefere', 'inteferes', 'intense', 'interfere', 'interference', 'interferes', 'intermittent', 'interrupt', 'interruption', 'interruptions', 'intimidate', 'intimidating', 'intimidatingly', 'intimidation', 'intolerable', 'intolerablely', 'intolerance', 'intoxicate', 'intractable', 'intransigence', 'intransigent', 'intrude', 'intrusion', 'intrusive', 'inundate', 'inundated', 'invader', 'invalid', 'invalidate', 'invalidity', 'invasive', 'invective', 'inveigle', 'invidious', 'invidiously', 'invidiousness', 'invisible', 'involuntarily', 'involuntary', 'irascible', 'irate', 'irately', 'ire', 'irk', 'irked', 'irking', 'irks', 'irksome', 'irksomely', 'irksomeness', 'irksomenesses', 'ironic', 'ironical', 'ironically', 'ironies', 'irony', 'irragularity', 'irrational', 'irrationalities', 'irrationality', 'irrationally', 'irrationals', 'irreconcilable', 'irrecoverable', 'irrecoverableness', 'irrecoverablenesses', 'irrecoverably', 'irredeemable', 'irredeemably', 'irreformable', 'irregular', 'irregularity', 'irrelevance', 'irrelevant', 'irreparable', 'irreplacible', 'irrepressible', 'irresolute', 'irresolvable', 'irresponsible', 'irresponsibly', 'irretating', 'irretrievable', 'irreversible', 'irritable', 'irritably', 'irritant', 'irritate', 'irritated', 'irritating', 'irritation', 'irritations', 'isolate', 'isolated', 'isolation', 'issue', 'issues', 'itch', 'itching', 'itchy', 'jabber', 'jaded', 'jagged', 'jam', 'jarring', 'jaundiced', 'jealous', 'jealously', 'jealousness', 'jealousy', 'jeer', 'jeering', 'jeeringly', 'jeers', 'jeopardize', 'jeopardy', 'jerk', 'jerky', 'jitter', 'jitters', 'jittery', 'job-killing', 'jobless', 'joke', 'joker', 'jolt', 'judder', 'juddering', 'judders', 'jumpy', 'junk', 'junky', 'junkyard', 'jutter', 'jutters', 'kaput', 'kill', 'killed', 'killer', 'killing', 'killjoy', 'kills', 'knave', 'knife', 'knock', 'knotted', 'kook', 'kooky', 'lack', 'lackadaisical', 'lacked', 'lackey', 'lackeys', 'lacking', 'lackluster', 'lacks', 'laconic', 'lag', 'lagged', 'lagging', 'laggy', 'lags', 'laid-off', 'lambast', 'lambaste', 'lame', 'lame-duck', 'lament', 'lamentable', 'lamentably', 'languid', 'languish', 'languor', 'languorous', 'languorously', 'lanky', 'lapse', 'lapsed', 'lapses', 'lascivious', 'last-ditch', 'latency', 'laughable', 'laughably', 'laughingstock', 'lawbreaker', 'lawbreaking', 'lawless', 'lawlessness', 'layoff', 'layoff-happy', 'lazy', 'leak', 'leakage', 'leakages', 'leaking', 'leaks', 'leaky', 'lech', 'lecher', 'lecherous', 'lechery', 'leech', 'leer', 'leery', 'left-leaning', 'lemon', 'lengthy', 'less-developed', 'lesser-known', 'letch', 'lethal', 'lethargic', 'lethargy', 'lewd', 'lewdly', 'lewdness', 'liability', 'liable', 'liar', 'liars', 'licentious', 'licentiously', 'licentiousness', 'lie', 'lied', 'lier', 'lies', 'life-threatening', 'lifeless', 'limit', 'limitation', 'limitations', 'limited', 'limits', 'limp', 'listless', 'litigious', 'little-known', 'livid', 'lividly', 'loath', 'loathe', 'loathing', 'loathly', 'loathsome', 'loathsomely', 'lone', 'loneliness', 'lonely', 'loner', 'lonesome', 'long-time', 'long-winded', 'longing', 'longingly', 'loophole', 'loopholes', 'loose', 'loot', 'lorn', 'lose', 'loser', 'losers', 'loses', 'losing', 'loss', 'losses', 'lost', 'loud', 'louder', 'lousy', 'loveless', 'lovelorn', 'low-rated', 'lowly', 'ludicrous', 'ludicrously', 'lugubrious', 'lukewarm', 'lull', 'lumpy', 'lunatic', 'lunaticism', 'lurch', 'lure', 'lurid', 'lurk', 'lurking', 'lying', 'macabre', 'mad', 'madden', 'maddening', 'maddeningly', 'madder', 'madly', 'madman', 'madness', 'maladjusted', 'maladjustment', 'malady', 'malaise', 'malcontent', 'malcontented', 'maledict', 'malevolence', 'malevolent', 'malevolently', 'malice', 'malicious', 'maliciously', 'maliciousness', 'malign', 'malignant', 'malodorous', 'maltreatment', 'mangle', 'mangled', 'mangles', 'mangling', 'mania', 'maniac', 'maniacal', 'manic', 'manipulate', 'manipulation', 'manipulative', 'manipulators', 'mar', 'marginal', 'marginally', 'martyrdom', 'martyrdom-seeking', 'mashed', 'massacre', 'massacres', 'matte', 'mawkish', 'mawkishly', 'mawkishness', 'meager', 'meaningless', 'meanness', 'measly', 'meddle', 'meddlesome', 'mediocre', 'mediocrity', 'melancholy', 'melodramatic', 'melodramatically', 'meltdown', 'menace', 'menacing', 'menacingly', 'mendacious', 'mendacity', 'menial', 'merciless', 'mercilessly', 'mess', 'messed', 'messes', 'messing', 'messy', 'midget', 'miff', 'militancy', 'mindless', 'mindlessly', 'mirage', 'mire', 'misalign', 'misaligned', 'misaligns', 'misapprehend', 'misbecome', 'misbecoming', 'misbegotten', 'misbehave', 'misbehavior', 'miscalculate', 'miscalculation', 'miscellaneous', 'mischief', 'mischievous', 'mischievously', 'misconception', 'misconceptions', 'miscreant', 'miscreants', 'misdirection', 'miser', 'miserable', 'miserableness', 'miserably', 'miseries', 'miserly', 'misery', 'misfit', 'misfortune', 'misgiving', 'misgivings', 'misguidance', 'misguide', 'misguided', 'mishandle', 'mishap', 'misinform', 'misinformed', 'misinterpret', 'misjudge', 'misjudgment', 'mislead', 'misleading', 'misleadingly', 'mislike', 'mismanage', 'mispronounce', 'mispronounced', 'mispronounces', 'misread', 'misreading', 'misrepresent', 'misrepresentation', 'miss', 'missed', 'misses', 'misstatement', 'mist', 'mistake', 'mistaken', 'mistakenly', 'mistakes', 'mistified', 'mistress', 'mistrust', 'mistrustful', 'mistrustfully', 'mists', 'misunderstand', 'misunderstanding', 'misunderstandings', 'misunderstood', 'misuse', 'moan', 'mobster', 'mock', 'mocked', 'mockeries', 'mockery', 'mocking', 'mockingly', 'mocks', 'molest', 'molestation', 'monotonous', 'monotony', 'monster', 'monstrosities', 'monstrosity', 'monstrous', 'monstrously', 'moody', 'moot', 'mope', 'morbid', 'morbidly', 'mordant', 'mordantly', 'moribund', 'moron', 'moronic', 'morons', 'mortification', 'mortified', 'mortify', 'mortifying', 'motionless', 'motley', 'mourn', 'mourner', 'mournful', 'mournfully', 'muddle', 'muddy', 'mudslinger', 'mudslinging', 'mulish', 'multi-polarization', 'mundane', 'murder', 'murderer', 'murderous', 'murderously', 'murky', 'muscle-flexing', 'mushy', 'musty', 'mysterious', 'mysteriously', 'mystery', 'mystify', 'myth', 'nag', 'nagging', 'naive', 'naively', 'narrower', 'nastily', 'nastiness', 'nasty', 'naughty', 'nauseate', 'nauseates', 'nauseating', 'nauseatingly', 'naÃ”ve', 'nebulous', 'nebulously', 'needless', 'needlessly', 'needy', 'nefarious', 'nefariously', 'negate', 'negation', 'negative', 'negatives', 'negativity', 'neglect', 'neglected', 'negligence', 'negligent', 'nemesis', 'nepotism', 'nervous', 'nervously', 'nervousness', 'nettle', 'nettlesome', 'neurotic', 'neurotically', 'niggle', 'niggles', 'nightmare', 'nightmarish', 'nightmarishly', 'nitpick', 'nitpicking', 'noise', 'noises', 'noisier', 'noisy', 'non-confidence', 'nonexistent', 'nonresponsive', 'nonsense', 'nosey', 'notoriety', 'notorious', 'notoriously', 'noxious', 'nuisance', 'numb', 'obese', 'object', 'objection', 'objectionable', 'objections', 'oblique', 'obliterate', 'obliterated', 'oblivious', 'obnoxious', 'obnoxiously', 'obscene', 'obscenely', 'obscenity', 'obscure', 'obscured', 'obscures', 'obscurity', 'obsess', 'obsessive', 'obsessively', 'obsessiveness', 'obsolete', 'obstacle', 'obstinate', 'obstinately', 'obstruct', 'obstructed', 'obstructing', 'obstruction', 'obstructs', 'obtrusive', 'obtuse', 'occlude', 'occluded', 'occludes', 'occluding', 'odd', 'odder', 'oddest', 'oddities', 'oddity', 'oddly', 'odor', 'offence', 'offend', 'offender', 'offending', 'offenses', 'offensive', 'offensively', 'offensiveness', 'officious', 'ominous', 'ominously', 'omission', 'omit', 'one-sided', 'onerous', 'onerously', 'onslaught', 'opinionated', 'opponent', 'opportunistic', 'oppose', 'opposition', 'oppositions', 'oppress', 'oppression', 'oppressive', 'oppressively', 'oppressiveness', 'oppressors', 'ordeal', 'orphan', 'ostracize', 'outbreak', 'outburst', 'outbursts', 'outcast', 'outcry', 'outlaw', 'outmoded', 'outrage', 'outraged', 'outrageous', 'outrageously', 'outrageousness', 'outrages', 'outsider', 'over-acted', 'over-awe', 'over-balanced', 'over-hyped', 'over-priced', 'over-valuation', 'overact', 'overacted', 'overawe', 'overbalance', 'overbalanced', 'overbearing', 'overbearingly', 'overblown', 'overdo', 'overdone', 'overdue', 'overemphasize', 'overheat', 'overkill', 'overloaded', 'overlook', 'overpaid', 'overpayed', 'overplay', 'overpower', 'overpriced', 'overrated', 'overreach', 'overrun', 'overshadow', 'oversight', 'oversights', 'oversimplification', 'oversimplified', 'oversimplify', 'oversize', 'overstate', 'overstated', 'overstatement', 'overstatements', 'overstates', 'overtaxed', 'overthrow', 'overthrows', 'overturn', 'overweight', 'overwhelm', 'overwhelmed', 'overwhelming', 'overwhelmingly', 'overwhelms', 'overzealous', 'overzealously', 'overzelous', 'pain', 'painful', 'painfull', 'painfully', 'pains', 'pale', 'pales', 'paltry', 'pan', 'pandemonium', 'pander', 'pandering', 'panders', 'panic', 'panick', 'panicked', 'panicking', 'panicky', 'paradoxical', 'paradoxically', 'paralize', 'paralyzed', 'paranoia', 'paranoid', 'parasite', 'pariah', 'parody', 'partiality', 'partisan', 'partisans', 'passe', 'passive', 'passiveness', 'pathetic', 'pathetically', 'patronize', 'paucity', 'pauper', 'paupers', 'payback', 'peculiar', 'peculiarly', 'pedantic', 'peeled', 'peeve', 'peeved', 'peevish', 'peevishly', 'penalize', 'penalty', 'perfidious', 'perfidity', 'perfunctory', 'peril', 'perilous', 'perilously', 'perish', 'pernicious', 'perplex', 'perplexed', 'perplexing', 'perplexity', 'persecute', 'persecution', 'pertinacious', 'pertinaciously', 'pertinacity', 'perturb', 'perturbed', 'pervasive', 'perverse', 'perversely', 'perversion', 'perversity', 'pervert', 'perverted', 'perverts', 'pessimism', 'pessimistic', 'pessimistically', 'pest', 'pestilent', 'petrified', 'petrify', 'pettifog', 'petty', 'phobia', 'phobic', 'phony', 'picket', 'picketed', 'picketing', 'pickets', 'picky', 'pig', 'pigs', 'pillage', 'pillory', 'pimple', 'pinch', 'pique', 'pitiable', 'pitiful', 'pitifully', 'pitiless', 'pitilessly', 'pittance', 'pity', 'plagiarize', 'plague', 'plasticky', 'plaything', 'plea', 'pleas', 'plebeian', 'plight', 'plot', 'plotters', 'ploy', 'plunder', 'plunderer', 'pointless', 'pointlessly', 'poison', 'poisonous', 'poisonously', 'pokey', 'poky', 'polarisation', 'polemize', 'pollute', 'polluter', 'polluters', 'polution', 'pompous', 'poor', 'poorer', 'poorest', 'poorly', 'posturing', 'pout', 'poverty', 'powerless', 'prate', 'pratfall', 'prattle', 'precarious', 'precariously', 'precipitate', 'precipitous', 'predatory', 'predicament', 'prejudge', 'prejudice', 'prejudices', 'prejudicial', 'premeditated', 'preoccupy', 'preposterous', 'preposterously', 'presumptuous', 'presumptuously', 'pretence', 'pretend', 'pretense', 'pretentious', 'pretentiously', 'prevaricate', 'pricey', 'pricier', 'prick', 'prickle', 'prickles', 'prideful', 'prik', 'primitive', 'prison', 'prisoner', 'problem', 'problematic', 'problems', 'procrastinate', 'procrastinates', 'procrastination', 'profane', 'profanity', 'prohibit', 'prohibitive', 'prohibitively', 'propaganda', 'propagandize', 'proprietary', 'prosecute', 'protest', 'protested', 'protesting', 'protests', 'protracted', 'provocation', 'provocative', 'provoke', 'pry', 'pugnacious', 'pugnaciously', 'pugnacity', 'punch', 'punish', 'punishable', 'punitive', 'punk', 'puny', 'puppet', 'puppets', 'puzzled', 'puzzlement', 'puzzling', 'quack', 'qualm', 'qualms', 'quandary', 'quarrel', 'quarrellous', 'quarrellously', 'quarrels', 'quarrelsome', 'quash', 'queer', 'questionable', 'quibble', 'quibbles', 'quitter', 'rabid', 'racism', 'racist', 'racists', 'racy', 'radical', 'radicalization', 'radically', 'radicals', 'rage', 'ragged', 'raging', 'rail', 'raked', 'rampage', 'rampant', 'ramshackle', 'rancor', 'randomly', 'rankle', 'rant', 'ranted', 'ranting', 'rantingly', 'rants', 'rape', 'raped', 'raping', 'rascal', 'rascals', 'rash', 'rattle', 'rattled', 'rattles', 'ravage', 'raving', 'reactionary', 'rebellious', 'rebuff', 'rebuke', 'recalcitrant', 'recant', 'recession', 'recessionary', 'reckless', 'recklessly', 'recklessness', 'recoil', 'recourses', 'redundancy', 'redundant', 'refusal', 'refuse', 'refused', 'refuses', 'refusing', 'refutation', 'refute', 'refuted', 'refutes', 'refuting', 'regress', 'regression', 'regressive', 'regret', 'regreted', 'regretful', 'regretfully', 'regrets', 'regrettable', 'regrettably', 'regretted', 'reject', 'rejected', 'rejecting', 'rejection', 'rejects', 'relapse', 'relentless', 'relentlessly', 'relentlessness', 'reluctance', 'reluctant', 'reluctantly', 'remorse', 'remorseful', 'remorsefully', 'remorseless', 'remorselessly', 'remorselessness', 'renounce', 'renunciation', 'repel', 'repetitive', 'reprehensible', 'reprehensibly', 'reprehension', 'reprehensive', 'repress', 'repression', 'repressive', 'reprimand', 'reproach', 'reproachful', 'reprove', 'reprovingly', 'repudiate', 'repudiation', 'repugn', 'repugnance', 'repugnant', 'repugnantly', 'repulse', 'repulsed', 'repulsing', 'repulsive', 'repulsively', 'repulsiveness', 'resent', 'resentful', 'resentment', 'resignation', 'resigned', 'resistance', 'restless', 'restlessness', 'restrict', 'restricted', 'restriction', 'restrictive', 'resurgent', 'retaliate', 'retaliatory', 'retard', 'retarded', 'retardedness', 'retards', 'reticent', 'retract', 'retreat', 'retreated', 'revenge', 'revengeful', 'revengefully', 'revert', 'revile', 'reviled', 'revoke', 'revolt', 'revolting', 'revoltingly', 'revulsion', 'revulsive', 'rhapsodize', 'rhetoric', 'rhetorical', 'ricer', 'ridicule', 'ridicules', 'ridiculous', 'ridiculously', 'rife', 'rift', 'rifts', 'rigid', 'rigidity', 'rigidness', 'rile', 'riled', 'rip', 'rip-off', 'ripoff', 'ripped', 'risk', 'risks', 'risky', 'rival', 'rivalry', 'roadblocks', 'rocky', 'rogue', 'rollercoaster', 'rot', 'rotten', 'rough', 'rremediable', 'rubbish', 'rude', 'rue', 'ruffian', 'ruffle', 'ruin', 'ruined', 'ruining', 'ruinous', 'ruins', 'rumbling', 'rumor', 'rumors', 'rumours', 'rumple', 'run-down', 'runaway', 'rupture', 'rust', 'rusts', 'rusty', 'rut', 'ruthless', 'ruthlessly', 'ruthlessness', 'ruts', 'sabotage', 'sack', 'sacrificed', 'sad', 'sadden', 'sadly', 'sadness', 'sag', 'sagged', 'sagging', 'saggy', 'sags', 'salacious', 'sanctimonious', 'sap', 'sarcasm', 'sarcastic', 'sarcastically', 'sardonic', 'sardonically', 'sass', 'satirical', 'satirize', 'savage', 'savaged', 'savagery', 'savages', 'scaly', 'scam', 'scams', 'scandal', 'scandalize', 'scandalized', 'scandalous', 'scandalously', 'scandals', 'scandel', 'scandels', 'scant', 'scapegoat', 'scar', 'scarce', 'scarcely', 'scarcity', 'scare', 'scared', 'scarier', 'scariest', 'scarily', 'scarred', 'scars', 'scary', 'scathing', 'scathingly', 'sceptical', 'scoff', 'scoffingly', 'scold', 'scolded', 'scolding', 'scoldingly', 'scorching', 'scorchingly', 'scorn', 'scornful', 'scornfully', 'scoundrel', 'scourge', 'scowl', 'scramble', 'scrambled', 'scrambles', 'scrambling', 'scrap', 'scratch', 'scratched', 'scratches', 'scratchy', 'scream', 'screech', 'screw-up', 'screwed', 'screwed-up', 'screwy', 'scuff', 'scuffs', 'scum', 'scummy', 'second-class', 'second-tier', 'secretive', 'sedentary', 'seedy', 'seethe', 'seething', 'self-coup', 'self-criticism', 'self-defeating', 'self-destructive', 'self-humiliation', 'self-interest', 'self-interested', 'self-serving', 'selfinterested', 'selfish', 'selfishly', 'selfishness', 'semi-retarded', 'senile', 'sensationalize', 'senseless', 'senselessly', 'seriousness', 'sermonize', 'servitude', 'set-up', 'setback', 'setbacks', 'sever', 'severe', 'severity', 'sh*t', 'shabby', 'shadowy', 'shady', 'shake', 'shaky', 'shallow', 'sham', 'shambles', 'shame', 'shameful', 'shamefully', 'shamefulness', 'shameless', 'shamelessly', 'shamelessness', 'shark', 'sharply', 'shatter', 'shemale', 'shimmer', 'shimmy', 'shipwreck', 'shirk', 'shirker', 'shit', 'shiver', 'shock', 'shocked', 'shocking', 'shockingly', 'shoddy', 'short-lived', 'shortage', 'shortchange', 'shortcoming', 'shortcomings', 'shortness', 'shortsighted', 'shortsightedness', 'showdown', 'shrew', 'shriek', 'shrill', 'shrilly', 'shrivel', 'shroud', 'shrouded', 'shrug', 'shun', 'shunned', 'sick', 'sicken', 'sickening', 'sickeningly', 'sickly', 'sickness', 'sidetrack', 'sidetracked', 'siege', 'sillily', 'silly', 'simplistic', 'simplistically', 'sin', 'sinful', 'sinfully', 'sinister', 'sinisterly', 'sink', 'sinking', 'skeletons', 'skeptic', 'skeptical', 'skeptically', 'skepticism', 'sketchy', 'skimpy', 'skinny', 'skittish', 'skittishly', 'skulk', 'slack', 'slander', 'slanderer', 'slanderous', 'slanderously', 'slanders', 'slap', 'slashing', 'slaughter', 'slaughtered', 'slave', 'slaves', 'sleazy', 'slime', 'slog', 'slogged', 'slogging', 'slogs', 'sloooooooooooooow', 'sloooow', 'slooow', 'sloow', 'sloppily', 'sloppy', 'sloth', 'slothful', 'slow', 'slow-moving', 'slowed', 'slower', 'slowest', 'slowly', 'sloww', 'slowww', 'slowwww', 'slug', 'sluggish', 'slump', 'slumping', 'slumpping', 'slur', 'slut', 'sluts', 'sly', 'smack', 'smallish', 'smash', 'smear', 'smell', 'smelled', 'smelling', 'smells', 'smelly', 'smelt', 'smoke', 'smokescreen', 'smolder', 'smoldering', 'smother', 'smoulder', 'smouldering', 'smudge', 'smudged', 'smudges', 'smudging', 'smug', 'smugly', 'smut', 'smuttier', 'smuttiest', 'smutty', 'snag', 'snagged', 'snagging', 'snags', 'snappish', 'snappishly', 'snare', 'snarky', 'snarl', 'sneak', 'sneakily', 'sneaky', 'sneer', 'sneering', 'sneeringly', 'snob', 'snobbish', 'snobby', 'snobish', 'snobs', 'snub', 'so-cal', 'soapy', 'sob', 'sober', 'sobering', 'solemn', 'solicitude', 'somber', 'sore', 'sorely', 'soreness', 'sorrow', 'sorrowful', 'sorrowfully', 'sorry', 'sour', 'sourly', 'spade', 'spank', 'spendy', 'spew', 'spewed', 'spewing', 'spews', 'spilling', 'spinster', 'spiritless', 'spite', 'spiteful', 'spitefully', 'spitefulness', 'splatter', 'split', 'splitting', 'spoil', 'spoilage', 'spoilages', 'spoiled', 'spoilled', 'spoils', 'spook', 'spookier', 'spookiest', 'spookily', 'spooky', 'spoon-fed', 'spoon-feed', 'spoonfed', 'sporadic', 'spotty', 'spurious', 'spurn', 'sputter', 'squabble', 'squabbling', 'squander', 'squash', 'squeak', 'squeaks', 'squeaky', 'squeal', 'squealing', 'squeals', 'squirm', 'stab', 'stagnant', 'stagnate', 'stagnation', 'staid', 'stain', 'stains', 'stale', 'stalemate', 'stall', 'stalls', 'stammer', 'stampede', 'standstill', 'stark', 'starkly', 'startle', 'startling', 'startlingly', 'starvation', 'starve', 'static', 'steal', 'stealing', 'steals', 'steep', 'steeply', 'stench', 'stereotype', 'stereotypical', 'stereotypically', 'stern', 'stew', 'sticky', 'stiff', 'stiffness', 'stifle', 'stifling', 'stiflingly', 'stigma', 'stigmatize', 'sting', 'stinging', 'stingingly', 'stingy', 'stink', 'stinks', 'stodgy', 'stole', 'stolen', 'stooge', 'stooges', 'stormy', 'straggle', 'straggler', 'strain', 'strained', 'straining', 'strange', 'strangely', 'stranger', 'strangest', 'strangle', 'streaky', 'strenuous', 'stress', 'stresses', 'stressful', 'stressfully', 'stricken', 'strict', 'strictly', 'strident', 'stridently', 'strife', 'strike', 'stringent', 'stringently', 'struck', 'struggle', 'struggled', 'struggles', 'struggling', 'strut', 'stubborn', 'stubbornly', 'stubbornness', 'stuck', 'stuffy', 'stumble', 'stumbled', 'stumbles', 'stump', 'stumped', 'stumps', 'stun', 'stunt', 'stunted', 'stupid', 'stupidest', 'stupidity', 'stupidly', 'stupified', 'stupify', 'stupor', 'stutter', 'stuttered', 'stuttering', 'stutters', 'sty', 'stymied', 'sub-par', 'subdued', 'subjected', 'subjection', 'subjugate', 'subjugation', 'submissive', 'subordinate', 'subpoena', 'subpoenas', 'subservience', 'subservient', 'substandard', 'subtract', 'subversion', 'subversive', 'subversively', 'subvert', 'succumb', 'suck', 'sucked', 'sucker', 'sucks', 'sucky', 'sue', 'sued', 'sueing', 'sues', 'suffer', 'suffered', 'sufferer', 'sufferers', 'suffering', 'suffers', 'suffocate', 'sugar-coat', 'sugar-coated', 'sugarcoated', 'suicidal', 'suicide', 'sulk', 'sullen', 'sully', 'sunder', 'sunk', 'sunken', 'superficial', 'superficiality', 'superficially', 'superfluous', 'superstition', 'superstitious', 'suppress', 'suppression', 'surrender', 'susceptible', 'suspect', 'suspicion', 'suspicions', 'suspicious', 'suspiciously', 'swagger', 'swamped', 'sweaty', 'swelled', 'swelling', 'swindle', 'swipe', 'swollen', 'symptom', 'symptoms', 'syndrome', 'taboo', 'tacky', 'taint', 'tainted', 'tamper', 'tangle', 'tangled', 'tangles', 'tank', 'tanked', 'tanks', 'tantrum', 'tardy', 'tarnish', 'tarnished', 'tarnishes', 'tarnishing', 'tattered', 'taunt', 'taunting', 'tauntingly', 'taunts', 'taut', 'tawdry', 'taxing', 'tease', 'teasingly', 'tedious', 'tediously', 'temerity', 'temper', 'tempest', 'temptation', 'tenderness', 'tense', 'tension', 'tentative', 'tentatively', 'tenuous', 'tenuously', 'tepid', 'terrible', 'terribleness', 'terribly', 'terror', 'terror-genic', 'terrorism', 'terrorize', 'testily', 'testy', 'tetchily', 'tetchy', 'thankless', 'thicker', 'thirst', 'thorny', 'thoughtless', 'thoughtlessly', 'thoughtlessness', 'thrash', 'threat', 'threaten', 'threatening', 'threats', 'threesome', 'throb', 'throbbed', 'throbbing', 'throbs', 'throttle', 'thug', 'thumb-down', 'thumbs-down', 'thwart', 'time-consuming', 'timid', 'timidity', 'timidly', 'timidness', 'tin-y', 'tingled', 'tingling', 'tired', 'tiresome', 'tiring', 'tiringly', 'toil', 'toll', 'top-heavy', 'topple', 'torment', 'tormented', 'torrent', 'tortuous', 'torture', 'tortured', 'tortures', 'torturing', 'torturous', 'torturously', 'totalitarian', 'touchy', 'toughness', 'tout', 'touted', 'touts', 'toxic', 'traduce', 'tragedy', 'tragic', 'tragically', 'traitor', 'traitorous', 'traitorously', 'tramp', 'trample', 'transgress', 'transgression', 'trap', 'traped', 'trapped', 'trash', 'trashed', 'trashy', 'trauma', 'traumatic', 'traumatically', 'traumatize', 'traumatized', 'travesties', 'travesty', 'treacherous', 'treacherously', 'treachery', 'treason', 'treasonous', 'trick', 'tricked', 'trickery', 'tricky', 'trivial', 'trivialize', 'trouble', 'troubled', 'troublemaker', 'troubles', 'troublesome', 'troublesomely', 'troubling', 'troublingly', 'truant', 'tumble', 'tumbled', 'tumbles', 'tumultuous', 'turbulent', 'turmoil', 'twist', 'twisted', 'twists', 'two-faced', 'two-faces', 'tyrannical', 'tyrannically', 'tyranny', 'tyrant', 'ugh', 'uglier', 'ugliest', 'ugliness', 'ugly', 'ulterior', 'ultimatum', 'ultimatums', 'ultra-hardline', 'un-viewable', 'unable', 'unacceptable', 'unacceptablely', 'unacceptably', 'unaccessible', 'unaccustomed', 'unachievable', 'unaffordable', 'unappealing', 'unattractive', 'unauthentic', 'unavailable', 'unavoidably', 'unbearable', 'unbearablely', 'unbelievable', 'unbelievably', 'uncaring', 'uncertain', 'uncivil', 'uncivilized', 'unclean', 'unclear', 'uncollectible', 'uncomfortable', 'uncomfortably', 'uncomfy', 'uncompetitive', 'uncompromising', 'uncompromisingly', 'unconfirmed', 'unconstitutional', 'uncontrolled', 'unconvincing', 'unconvincingly', 'uncooperative', 'uncouth', 'uncreative', 'undecided', 'undefined', 'undependability', 'undependable', 'undercut', 'undercuts', 'undercutting', 'underdog', 'underestimate', 'underlings', 'undermine', 'undermined', 'undermines', 'undermining', 'underpaid', 'underpowered', 'undersized', 'undesirable', 'undetermined', 'undid', 'undignified', 'undissolved', 'undocumented', 'undone', 'undue', 'unease', 'uneasily', 'uneasiness', 'uneasy', 'uneconomical', 'unemployed', 'unequal', 'unethical', 'uneven', 'uneventful', 'unexpected', 'unexpectedly', 'unexplained', 'unfairly', 'unfaithful', 'unfaithfully', 'unfamiliar', 'unfavorable', 'unfeeling', 'unfinished', 'unfit', 'unforeseen', 'unforgiving', 'unfortunate', 'unfortunately', 'unfounded', 'unfriendly', 'unfulfilled', 'unfunded', 'ungovernable', 'ungrateful', 'unhappily', 'unhappiness', 'unhappy', 'unhealthy', 'unhelpful', 'unilateralism', 'unimaginable', 'unimaginably', 'unimportant', 'uninformed', 'uninsured', 'unintelligible', 'unintelligile', 'unipolar', 'unjust', 'unjustifiable', 'unjustifiably', 'unjustified', 'unjustly', 'unkind', 'unkindly', 'unknown', 'unlamentable', 'unlamentably', 'unlawful', 'unlawfully', 'unlawfulness', 'unleash', 'unlicensed', 'unlikely', 'unlucky', 'unmoved', 'unnatural', 'unnaturally', 'unnecessary', 'unneeded', 'unnerve', 'unnerved', 'unnerving', 'unnervingly', 'unnoticed', 'unobserved', 'unorthodox', 'unorthodoxy', 'unpleasant', 'unpleasantries', 'unpopular', 'unpredictable', 'unprepared', 'unproductive', 'unprofitable', 'unprove', 'unproved', 'unproven', 'unproves', 'unproving', 'unqualified', 'unravel', 'unraveled', 'unreachable', 'unreadable', 'unrealistic', 'unreasonable', 'unreasonably', 'unrelenting', 'unrelentingly', 'unreliability', 'unreliable', 'unresolved', 'unresponsive', 'unrest', 'unruly', 'unsafe', 'unsatisfactory', 'unsavory', 'unscrupulous', 'unscrupulously', 'unsecure', 'unseemly', 'unsettle', 'unsettled', 'unsettling', 'unsettlingly', 'unskilled', 'unsophisticated', 'unsound', 'unspeakable', 'unspeakablely', 'unspecified', 'unstable', 'unsteadily', 'unsteadiness', 'unsteady', 'unsuccessful', 'unsuccessfully', 'unsupported', 'unsupportive', 'unsure', 'unsuspecting', 'unsustainable', 'untenable', 'untested', 'unthinkable', 'unthinkably', 'untimely', 'untouched', 'untrue', 'untrustworthy', 'untruthful', 'unusable', 'unusably', 'unuseable', 'unuseably', 'unusual', 'unusually', 'unviewable', 'unwanted', 'unwarranted', 'unwatchable', 'unwelcome', 'unwell', 'unwieldy', 'unwilling', 'unwillingly', 'unwillingness', 'unwise', 'unwisely', 'unworkable', 'unworthy', 'unyielding', 'upbraid', 'upheaval', 'uprising', 'uproar', 'uproarious', 'uproariously', 'uproarous', 'uproarously', 'uproot', 'upset', 'upseting', 'upsets', 'upsetting', 'upsettingly', 'urgent', 'useless', 'usurp', 'usurper', 'utterly', 'vagrant', 'vague', 'vagueness', 'vain', 'vainly', 'vanity', 'vehement', 'vehemently', 'vengeance', 'vengeful', 'vengefully', 'vengefulness', 'venom', 'venomous', 'venomously', 'vent', 'vestiges', 'vex', 'vexation', 'vexing', 'vexingly', 'vibrate', 'vibrated', 'vibrates', 'vibrating', 'vibration', 'vice', 'vicious', 'viciously', 'viciousness', 'victimize', 'vile', 'vileness', 'vilify', 'villainous', 'villainously', 'villains', 'villian', 'villianous', 'villianously', 'villify', 'vindictive', 'vindictively', 'vindictiveness', 'violate', 'violation', 'violator', 'violators', 'violent', 'violently', 'viper', 'virulence', 'virulent', 'virulently', 'virus', 'vociferous', 'vociferously', 'volatile', 'volatility', 'vomit', 'vomited', 'vomiting', 'vomits', 'vulgar', 'vulnerable', 'wack', 'wail', 'wallow', 'wane', 'waning', 'wanton', 'war-like', 'warily', 'wariness', 'warlike', 'warned', 'warning', 'warp', 'warped', 'wary', 'washed-out', 'waste', 'wasted', 'wasteful', 'wastefulness', 'wasting', 'water-down', 'watered-down', 'wayward', 'weak', 'weaken', 'weakening', 'weaker', 'weakness', 'weaknesses', 'weariness', 'wearisome', 'weary', 'wedge', 'weed', 'weep', 'weird', 'weirdly', 'wheedle', 'whimper', 'whine', 'whining', 'whiny', 'whips', 'whore', 'whores', 'wicked', 'wickedly', 'wickedness', 'wild', 'wildly', 'wiles', 'wilt', 'wily', 'wimpy', 'wince', 'wobble', 'wobbled', 'wobbles', 'woe', 'woebegone', 'woeful', 'woefully', 'womanizer', 'womanizing', 'worn', 'worried', 'worriedly', 'worrier', 'worries', 'worrisome', 'worry', 'worrying', 'worryingly', 'worse', 'worsen', 'worsening', 'worst', 'worthless', 'worthlessly', 'worthlessness', 'wound', 'wounds', 'wrangle', 'wrath', 'wreak', 'wreaked', 'wreaks', 'wreck', 'wrest', 'wrestle', 'wretch', 'wretched', 'wretchedly', 'wretchedness', 'wrinkle', 'wrinkled', 'wrinkles', 'wrip', 'wripped', 'wripping', 'writhe', 'wrong', 'wrongful', 'wrongly', 'wrought', 'yawn', 'zap', 'zapped', 'zaps', 'zealot', 'zealous', 'zealously', 'zombie']\n"
     ]
    }
   ],
   "source": [
    "with open('negative-words.txt', 'r') as file:\n",
    "    neg = file.read().split()\n",
    "print(neg)"
   ]
  },
  {
   "cell_type": "code",
   "execution_count": 15,
   "metadata": {},
   "outputs": [
    {
     "name": "stdout",
     "output_type": "stream",
     "text": [
      "chief \n",
      "justic \n",
      "robert \n",
      "presid \n",
      "carter \n",
      "presid \n",
      "clinton \n",
      "presid \n",
      "bush \n",
      "presid \n",
      "obama \n",
      "fellow \n",
      "american \n",
      "peopl \n",
      "world \n",
      "thank POS\n",
      "citizen \n",
      "america \n",
      "join \n",
      "great POS\n",
      "nation \n",
      "effort \n",
      "rebuild \n",
      "countri \n",
      "restor \n",
      "promis \n",
      "peopl \n",
      "togeth \n",
      "determin \n",
      "cours \n",
      "america \n",
      "world \n",
      "mani \n",
      "mani \n",
      "year \n",
      "come \n",
      "face \n",
      "challeng \n",
      "confront NEG\n",
      "hardship NEG\n",
      "get \n",
      "job \n",
      "done \n",
      "everi \n",
      "year \n",
      "gather \n",
      "step \n",
      "carri \n",
      "orderli \n",
      "peac \n",
      "transfer \n",
      "power \n",
      "grate NEG\n",
      "presid \n",
      "obama \n",
      "first \n",
      "ladi \n",
      "michel \n",
      "obama \n",
      "graciou \n",
      "aid \n",
      "throughout \n",
      "transit \n",
      "magnific \n",
      "thank POS\n",
      "today \n",
      "ceremoni \n",
      "howev \n",
      "special \n",
      "mean \n",
      "today \n",
      "mere \n",
      "transfer \n",
      "power \n",
      "one \n",
      "administr \n",
      "anoth \n",
      "one \n",
      "parti \n",
      "anoth \n",
      "transfer \n",
      "power \n",
      "washington \n",
      "dc \n",
      "give \n",
      "back \n",
      "peopl \n",
      "long \n",
      "small \n",
      "group \n",
      "nation \n",
      "capit \n",
      "reap \n",
      "reward POS\n",
      "govern \n",
      "peopl \n",
      "born \n",
      "cost \n",
      "washington \n",
      "flourish POS\n",
      "peopl \n",
      "share \n",
      "wealth \n",
      "politician \n",
      "prosper POS\n",
      "job \n",
      "left \n",
      "factori \n",
      "close \n",
      "establish \n",
      "protect POS\n",
      "citizen \n",
      "countri \n",
      "victori \n",
      "victori \n",
      "triumph POS\n",
      "triumph POS\n",
      "celebr \n",
      "nation \n",
      "capit \n",
      "littl \n",
      "celebr \n",
      "struggl \n",
      "famili \n",
      "across \n",
      "land \n",
      "chang \n",
      "start \n",
      "right POS\n",
      "right POS\n",
      "moment \n",
      "moment \n",
      "belong \n",
      "belong \n",
      "everyon \n",
      "gather \n",
      "today \n",
      "everyon \n",
      "watch \n",
      "across \n",
      "america \n",
      "day \n",
      "celebr \n",
      "unit \n",
      "state \n",
      "america \n",
      "countri \n",
      "truli \n",
      "matter \n",
      "parti \n",
      "control \n",
      "govern \n",
      "whether \n",
      "govern \n",
      "control \n",
      "peopl \n",
      "januari \n",
      "rememb \n",
      "day \n",
      "peopl \n",
      "becam \n",
      "ruler \n",
      "nation \n",
      "forgotten \n",
      "men \n",
      "woman \n",
      "countri \n",
      "forgotten \n",
      "longer \n",
      "everyon \n",
      "listen \n",
      "came \n",
      "ten \n",
      "million \n",
      "becom \n",
      "part \n",
      "histor \n",
      "movement \n",
      "like POS\n",
      "world \n",
      "never \n",
      "seen \n",
      "center \n",
      "movement \n",
      "crucial \n",
      "convict \n",
      "nation \n",
      "exist \n",
      "serv \n",
      "citizen \n",
      "american \n",
      "want \n",
      "great POS\n",
      "school \n",
      "child \n",
      "safe POS\n",
      "neighborhood \n",
      "famili \n",
      "good POS\n",
      "job \n",
      "reason \n",
      "demand \n",
      "righteou \n",
      "peopl \n",
      "righteou \n",
      "public \n",
      "mani \n",
      "citizen \n",
      "differ \n",
      "realiti \n",
      "exist \n",
      "mother \n",
      "child \n",
      "trap NEG\n",
      "poverti \n",
      "inner \n",
      "citi \n",
      "factori \n",
      "scatter \n",
      "like POS\n",
      "tombston \n",
      "across \n",
      "landscap \n",
      "nation \n",
      "educ \n",
      "system \n",
      "flush \n",
      "cash \n",
      "leav \n",
      "young \n",
      "beauti \n",
      "student \n",
      "depriv \n",
      "knowledg \n",
      "crime NEG\n",
      "gang \n",
      "drug \n",
      "stolen NEG\n",
      "mani \n",
      "live \n",
      "rob \n",
      "countri \n",
      "much \n",
      "unreal POS\n",
      "potenti \n",
      "american \n",
      "carnag \n",
      "stop \n",
      "right POS\n",
      "stop \n",
      "right POS\n",
      "one \n",
      "nation \n",
      "pain NEG\n",
      "pain NEG\n",
      "dream \n",
      "dream \n",
      "success POS\n",
      "success POS\n",
      "share \n",
      "one \n",
      "heart \n",
      "one \n",
      "home \n",
      "one \n",
      "gloriou \n",
      "destini \n",
      "oath \n",
      "offic \n",
      "take \n",
      "today \n",
      "oath \n",
      "allegi \n",
      "american \n",
      "mani \n",
      "decad \n",
      "weve \n",
      "enrich POS\n",
      "foreign \n",
      "industri \n",
      "expens \n",
      "american \n",
      "industri \n",
      "subsid \n",
      "armi \n",
      "countri \n",
      "allow \n",
      "sad NEG\n",
      "deplet \n",
      "militari \n",
      "weve \n",
      "defend \n",
      "nation \n",
      "border \n",
      "refus \n",
      "defend \n",
      "spent \n",
      "trillion \n",
      "trillion \n",
      "dollar \n",
      "oversea \n",
      "america \n",
      "infrastructur \n",
      "fallen NEG\n",
      "disrepair \n",
      "decay NEG\n",
      "weve \n",
      "made \n",
      "countri \n",
      "rich POS\n",
      "wealth \n",
      "strength \n",
      "confid \n",
      "countri \n",
      "dissip \n",
      "horizon \n",
      "one \n",
      "one \n",
      "factori \n",
      "shutter \n",
      "left \n",
      "shore \n",
      "even \n",
      "thought \n",
      "million \n",
      "million \n",
      "american \n",
      "worker \n",
      "left \n",
      "behind \n",
      "wealth \n",
      "middl \n",
      "class \n",
      "rip NEG\n",
      "home \n",
      "redistribut \n",
      "across \n",
      "world \n",
      "past \n",
      "look \n",
      "futur \n",
      "assembl \n",
      "today \n",
      "issu \n",
      "new \n",
      "decre \n",
      "heard \n",
      "everi \n",
      "citi \n",
      "everi \n",
      "foreign \n",
      "capit \n",
      "everi \n",
      "hall \n",
      "power \n",
      "day \n",
      "forward \n",
      "new \n",
      "vision \n",
      "govern \n",
      "land \n",
      "day \n",
      "forward \n",
      "go \n",
      "america \n",
      "first \n",
      "america \n",
      "first \n",
      "everi \n",
      "decis \n",
      "trade \n",
      "tax \n",
      "immigr \n",
      "foreign \n",
      "affair \n",
      "made \n",
      "benefit POS\n",
      "american \n",
      "worker \n",
      "american \n",
      "famili \n",
      "must \n",
      "protect POS\n",
      "border \n",
      "ravag \n",
      "countri \n",
      "make \n",
      "product \n",
      "steal NEG\n",
      "compani \n",
      "destroy NEG\n",
      "job \n",
      "protect POS\n",
      "lead POS\n",
      "great POS\n",
      "prosper POS\n",
      "strength \n",
      "fight \n",
      "everi \n",
      "breath \n",
      "bodi \n",
      "never \n",
      "ever \n",
      "let \n",
      "america \n",
      "start \n",
      "win POS\n",
      "win POS\n",
      "like POS\n",
      "never \n",
      "bring \n",
      "back \n",
      "job \n",
      "bring \n",
      "back \n",
      "border \n",
      "bring \n",
      "back \n",
      "wealth \n",
      "bring \n",
      "back \n",
      "dream \n",
      "build \n",
      "new \n",
      "road \n",
      "highway \n",
      "bridg \n",
      "airport \n",
      "tunnel \n",
      "railway \n",
      "across \n",
      "wonder POS\n",
      "nation \n",
      "get \n",
      "peopl \n",
      "welfar \n",
      "back \n",
      "work POS\n",
      "rebuild \n",
      "countri \n",
      "american \n",
      "hand \n",
      "american \n",
      "labor \n",
      "follow \n",
      "two \n",
      "simpl \n",
      "rule \n",
      "buy \n",
      "american \n",
      "hire \n",
      "american \n",
      "seek \n",
      "friendship \n",
      "good POS\n",
      "nation \n",
      "world \n",
      "understand \n",
      "right POS\n",
      "nation \n",
      "put \n",
      "interest \n",
      "first \n",
      "seek \n",
      "impos \n",
      "way \n",
      "life \n",
      "anyon \n",
      "rather \n",
      "let \n",
      "shine POS\n",
      "everyon \n",
      "follow \n",
      "reinforc \n",
      "old \n",
      "allianc \n",
      "form \n",
      "new \n",
      "one \n",
      "unit \n",
      "civil \n",
      "world \n",
      "radic \n",
      "islam \n",
      "terror NEG\n",
      "erad \n",
      "complet \n",
      "face \n",
      "earth \n",
      "bedrock \n",
      "polit \n",
      "total \n",
      "allegi \n",
      "unit \n",
      "state \n",
      "america \n",
      "loyalti \n",
      "countri \n",
      "rediscov \n",
      "loyalti \n",
      "open \n",
      "heart \n",
      "patriot POS\n",
      "room \n",
      "prejudic \n",
      "bibl \n",
      "tell \n",
      "u \n",
      "good POS\n",
      "pleasant POS\n",
      "god \n",
      "peopl \n",
      "live \n",
      "togeth \n",
      "must \n",
      "speak \n",
      "mind \n",
      "openli \n",
      "debat \n",
      "disagr \n",
      "honestli \n",
      "alway \n",
      "pursu \n",
      "solidar \n",
      "america \n",
      "unit \n",
      "america \n",
      "total \n",
      "unstopp \n",
      "fear NEG\n",
      "protect POS\n",
      "alway \n",
      "protect POS\n",
      "protect POS\n",
      "great POS\n",
      "men \n",
      "woman \n",
      "militari \n",
      "law \n",
      "enforc \n",
      "importantli \n",
      "protect POS\n",
      "god \n",
      "final \n",
      "must \n",
      "think \n",
      "big \n",
      "dream \n",
      "even \n",
      "bigger \n",
      "america \n",
      "understand \n",
      "nation \n",
      "live \n",
      "long \n",
      "strive \n",
      "longer \n",
      "accept \n",
      "politician \n",
      "talk \n",
      "action \n",
      "constantli \n",
      "complain NEG\n",
      "never \n",
      "anyth \n",
      "time \n",
      "empti \n",
      "talk \n",
      "arriv \n",
      "hour \n",
      "action \n",
      "allow \n",
      "anyon \n",
      "tell \n",
      "cannot \n",
      "done \n",
      "challeng \n",
      "match \n",
      "heart \n",
      "fight \n",
      "spirit \n",
      "america \n",
      "fail NEG\n",
      "countri \n",
      "thrive POS\n",
      "prosper POS\n",
      "stand \n",
      "birth \n",
      "new \n",
      "millennium \n",
      "readi \n",
      "unlock \n",
      "mysteri \n",
      "space \n",
      "free POS\n",
      "earth \n",
      "miseri \n",
      "diseas \n",
      "har \n",
      "energi \n",
      "industri \n",
      "technolog \n",
      "tomorrow \n",
      "new \n",
      "nation \n",
      "pride POS\n",
      "stir \n",
      "soul \n",
      "lift \n",
      "sight \n",
      "heal POS\n",
      "divis \n",
      "time \n",
      "rememb \n",
      "old \n",
      "wisdom POS\n",
      "soldier \n",
      "never \n",
      "forget \n",
      "whether \n",
      "black \n",
      "brown \n",
      "white \n",
      "bleed NEG\n",
      "red \n",
      "blood \n",
      "patriot POS\n",
      "enjoy POS\n",
      "gloriou \n",
      "freedom POS\n",
      "salut \n",
      "great POS\n",
      "american \n",
      "flag \n",
      "whether \n",
      "child \n",
      "born \n",
      "urban \n",
      "sprawl \n",
      "detroit \n",
      "windswept \n",
      "plain \n",
      "nebraska \n",
      "look \n",
      "night \n",
      "sky \n",
      "fill \n",
      "heart \n",
      "dream \n",
      "infus \n",
      "breath \n",
      "life \n",
      "almighti \n",
      "creator \n",
      "american \n",
      "everi \n",
      "citi \n",
      "near \n",
      "far \n",
      "small \n",
      "larg \n",
      "mountain \n",
      "mountain \n",
      "ocean \n",
      "ocean \n",
      "hear \n",
      "word \n",
      "never \n",
      "ignor \n",
      "voic \n",
      "hope \n",
      "dream \n",
      "defin \n",
      "american \n",
      "destini \n",
      "courag \n",
      "good POS\n",
      "love POS\n",
      "forev \n",
      "guid \n",
      "u \n",
      "along \n",
      "way \n",
      "togeth \n",
      "make \n",
      "america \n",
      "strong POS\n",
      "make \n",
      "america \n",
      "wealthi \n",
      "make \n",
      "america \n",
      "proud POS\n",
      "make \n",
      "america \n",
      "safe POS\n",
      "ye \n",
      "togeth \n",
      "make \n",
      "america \n",
      "great POS\n",
      "thank POS\n",
      "god \n",
      "bless POS\n",
      "god \n",
      "bless POS\n",
      "america \n",
      "thank POS\n",
      "god \n",
      "bless POS\n",
      "america \n"
     ]
    }
   ],
   "source": [
    "countpositive = countnegative = countneutral = counttotal = 0\n",
    "\n",
    "for token in ctokens:\n",
    "    counttotal += 1\n",
    "    cat = \"\"\n",
    "\n",
    "    if token in pos:\n",
    "        cat = cat + 'POS'\n",
    "        countpositive += 1\n",
    "\n",
    "    elif token in neg:\n",
    "        cat = cat + 'NEG'\n",
    "        countnegative += 1\n",
    "    else:\n",
    "        countneutral += 1\n",
    "    print(f\"{token} {cat}\")"
   ]
  },
  {
   "cell_type": "code",
   "execution_count": 16,
   "metadata": {},
   "outputs": [
    {
     "name": "stdout",
     "output_type": "stream",
     "text": [
      "Positive: 66 (9.28%)\n",
      "Negative: 19 (2.67%)\n",
      "Neutral: 626 (88.05%)\n",
      "Total: 711\n",
      "\n",
      "positiveness: 1.25%\n",
      "affecaffection: 0.12%\n"
     ]
    }
   ],
   "source": [
    "import math\n",
    "print(f\"Positive: {countpositive} ({countpositive/counttotal*100:.2f}%)\")\n",
    "print(f\"Negative: {countnegative} ({countnegative/counttotal*100:.2f}%)\")\n",
    "print(f\"Neutral: {countneutral} ({countneutral/counttotal*100:.2f}%)\")\n",
    "print(f\"Total: {counttotal}\\n\")\n",
    "\n",
    "print(f\"positiveness: {math.log(countpositive/countnegative):.2f}%\")\n",
    "print(f\"affecaffection: {1-(countneutral/counttotal):.2f}%\")"
   ]
  },
  {
   "cell_type": "markdown",
   "metadata": {},
   "source": [
    "# 7. Sanaluokkien tunnistus"
   ]
  },
  {
   "cell_type": "code",
   "execution_count": 27,
   "metadata": {},
   "outputs": [
    {
     "ename": "LookupError",
     "evalue": "\n**********************************************************************\n  Resource \u001b[93mpunkt_tab\u001b[0m not found.\n  Please use the NLTK Downloader to obtain the resource:\n\n  \u001b[31m>>> import nltk\n  >>> nltk.download('punkt_tab')\n  \u001b[0m\n  For more information see: https://www.nltk.org/data.html\n\n  Attempted to load \u001b[93mtokenizers/punkt_tab/english/\u001b[0m\n\n  Searched in:\n    - 'U:\\\\Users\\\\jk026110/nltk_data'\n    - 'u:\\\\Users\\\\jk026110\\\\tekstianalyysi\\\\env\\\\nltk_data'\n    - 'u:\\\\Users\\\\jk026110\\\\tekstianalyysi\\\\env\\\\share\\\\nltk_data'\n    - 'u:\\\\Users\\\\jk026110\\\\tekstianalyysi\\\\env\\\\lib\\\\nltk_data'\n    - 'U:\\\\Users\\\\jk026110\\\\AppData\\\\Roaming\\\\nltk_data'\n    - 'C:\\\\nltk_data'\n    - 'D:\\\\nltk_data'\n    - 'E:\\\\nltk_data'\n**********************************************************************\n",
     "output_type": "error",
     "traceback": [
      "\u001b[1;31m---------------------------------------------------------------------------\u001b[0m",
      "\u001b[1;31mLookupError\u001b[0m                               Traceback (most recent call last)",
      "Cell \u001b[1;32mIn[27], line 1\u001b[0m\n\u001b[1;32m----> 1\u001b[0m tokens2 \u001b[38;5;241m=\u001b[39m \u001b[43mnltk\u001b[49m\u001b[38;5;241;43m.\u001b[39;49m\u001b[43mword_tokenize\u001b[49m\u001b[43m(\u001b[49m\u001b[43mtext\u001b[49m\u001b[43m)\u001b[49m\n\u001b[0;32m      2\u001b[0m tokens2\n",
      "File \u001b[1;32mu:\\Users\\jk026110\\tekstianalyysi\\env\\Lib\\site-packages\\nltk\\tokenize\\__init__.py:142\u001b[0m, in \u001b[0;36mword_tokenize\u001b[1;34m(text, language, preserve_line)\u001b[0m\n\u001b[0;32m    127\u001b[0m \u001b[38;5;28;01mdef\u001b[39;00m \u001b[38;5;21mword_tokenize\u001b[39m(text, language\u001b[38;5;241m=\u001b[39m\u001b[38;5;124m\"\u001b[39m\u001b[38;5;124menglish\u001b[39m\u001b[38;5;124m\"\u001b[39m, preserve_line\u001b[38;5;241m=\u001b[39m\u001b[38;5;28;01mFalse\u001b[39;00m):\n\u001b[0;32m    128\u001b[0m \u001b[38;5;250m    \u001b[39m\u001b[38;5;124;03m\"\"\"\u001b[39;00m\n\u001b[0;32m    129\u001b[0m \u001b[38;5;124;03m    Return a tokenized copy of *text*,\u001b[39;00m\n\u001b[0;32m    130\u001b[0m \u001b[38;5;124;03m    using NLTK's recommended word tokenizer\u001b[39;00m\n\u001b[1;32m   (...)\u001b[0m\n\u001b[0;32m    140\u001b[0m \u001b[38;5;124;03m    :type preserve_line: bool\u001b[39;00m\n\u001b[0;32m    141\u001b[0m \u001b[38;5;124;03m    \"\"\"\u001b[39;00m\n\u001b[1;32m--> 142\u001b[0m     sentences \u001b[38;5;241m=\u001b[39m [text] \u001b[38;5;28;01mif\u001b[39;00m preserve_line \u001b[38;5;28;01melse\u001b[39;00m \u001b[43msent_tokenize\u001b[49m\u001b[43m(\u001b[49m\u001b[43mtext\u001b[49m\u001b[43m,\u001b[49m\u001b[43m \u001b[49m\u001b[43mlanguage\u001b[49m\u001b[43m)\u001b[49m\n\u001b[0;32m    143\u001b[0m     \u001b[38;5;28;01mreturn\u001b[39;00m [\n\u001b[0;32m    144\u001b[0m         token \u001b[38;5;28;01mfor\u001b[39;00m sent \u001b[38;5;129;01min\u001b[39;00m sentences \u001b[38;5;28;01mfor\u001b[39;00m token \u001b[38;5;129;01min\u001b[39;00m _treebank_word_tokenizer\u001b[38;5;241m.\u001b[39mtokenize(sent)\n\u001b[0;32m    145\u001b[0m     ]\n",
      "File \u001b[1;32mu:\\Users\\jk026110\\tekstianalyysi\\env\\Lib\\site-packages\\nltk\\tokenize\\__init__.py:119\u001b[0m, in \u001b[0;36msent_tokenize\u001b[1;34m(text, language)\u001b[0m\n\u001b[0;32m    109\u001b[0m \u001b[38;5;28;01mdef\u001b[39;00m \u001b[38;5;21msent_tokenize\u001b[39m(text, language\u001b[38;5;241m=\u001b[39m\u001b[38;5;124m\"\u001b[39m\u001b[38;5;124menglish\u001b[39m\u001b[38;5;124m\"\u001b[39m):\n\u001b[0;32m    110\u001b[0m \u001b[38;5;250m    \u001b[39m\u001b[38;5;124;03m\"\"\"\u001b[39;00m\n\u001b[0;32m    111\u001b[0m \u001b[38;5;124;03m    Return a sentence-tokenized copy of *text*,\u001b[39;00m\n\u001b[0;32m    112\u001b[0m \u001b[38;5;124;03m    using NLTK's recommended sentence tokenizer\u001b[39;00m\n\u001b[1;32m   (...)\u001b[0m\n\u001b[0;32m    117\u001b[0m \u001b[38;5;124;03m    :param language: the model name in the Punkt corpus\u001b[39;00m\n\u001b[0;32m    118\u001b[0m \u001b[38;5;124;03m    \"\"\"\u001b[39;00m\n\u001b[1;32m--> 119\u001b[0m     tokenizer \u001b[38;5;241m=\u001b[39m \u001b[43m_get_punkt_tokenizer\u001b[49m\u001b[43m(\u001b[49m\u001b[43mlanguage\u001b[49m\u001b[43m)\u001b[49m\n\u001b[0;32m    120\u001b[0m     \u001b[38;5;28;01mreturn\u001b[39;00m tokenizer\u001b[38;5;241m.\u001b[39mtokenize(text)\n",
      "File \u001b[1;32mu:\\Users\\jk026110\\tekstianalyysi\\env\\Lib\\site-packages\\nltk\\tokenize\\__init__.py:105\u001b[0m, in \u001b[0;36m_get_punkt_tokenizer\u001b[1;34m(language)\u001b[0m\n\u001b[0;32m     96\u001b[0m \u001b[38;5;129m@functools\u001b[39m\u001b[38;5;241m.\u001b[39mlru_cache\n\u001b[0;32m     97\u001b[0m \u001b[38;5;28;01mdef\u001b[39;00m \u001b[38;5;21m_get_punkt_tokenizer\u001b[39m(language\u001b[38;5;241m=\u001b[39m\u001b[38;5;124m\"\u001b[39m\u001b[38;5;124menglish\u001b[39m\u001b[38;5;124m\"\u001b[39m):\n\u001b[0;32m     98\u001b[0m \u001b[38;5;250m    \u001b[39m\u001b[38;5;124;03m\"\"\"\u001b[39;00m\n\u001b[0;32m     99\u001b[0m \u001b[38;5;124;03m    A constructor for the PunktTokenizer that utilizes\u001b[39;00m\n\u001b[0;32m    100\u001b[0m \u001b[38;5;124;03m    a lru cache for performance.\u001b[39;00m\n\u001b[1;32m   (...)\u001b[0m\n\u001b[0;32m    103\u001b[0m \u001b[38;5;124;03m    :type language: str\u001b[39;00m\n\u001b[0;32m    104\u001b[0m \u001b[38;5;124;03m    \"\"\"\u001b[39;00m\n\u001b[1;32m--> 105\u001b[0m     \u001b[38;5;28;01mreturn\u001b[39;00m \u001b[43mPunktTokenizer\u001b[49m\u001b[43m(\u001b[49m\u001b[43mlanguage\u001b[49m\u001b[43m)\u001b[49m\n",
      "File \u001b[1;32mu:\\Users\\jk026110\\tekstianalyysi\\env\\Lib\\site-packages\\nltk\\tokenize\\punkt.py:1744\u001b[0m, in \u001b[0;36mPunktTokenizer.__init__\u001b[1;34m(self, lang)\u001b[0m\n\u001b[0;32m   1742\u001b[0m \u001b[38;5;28;01mdef\u001b[39;00m \u001b[38;5;21m__init__\u001b[39m(\u001b[38;5;28mself\u001b[39m, lang\u001b[38;5;241m=\u001b[39m\u001b[38;5;124m\"\u001b[39m\u001b[38;5;124menglish\u001b[39m\u001b[38;5;124m\"\u001b[39m):\n\u001b[0;32m   1743\u001b[0m     PunktSentenceTokenizer\u001b[38;5;241m.\u001b[39m\u001b[38;5;21m__init__\u001b[39m(\u001b[38;5;28mself\u001b[39m)\n\u001b[1;32m-> 1744\u001b[0m     \u001b[38;5;28;43mself\u001b[39;49m\u001b[38;5;241;43m.\u001b[39;49m\u001b[43mload_lang\u001b[49m\u001b[43m(\u001b[49m\u001b[43mlang\u001b[49m\u001b[43m)\u001b[49m\n",
      "File \u001b[1;32mu:\\Users\\jk026110\\tekstianalyysi\\env\\Lib\\site-packages\\nltk\\tokenize\\punkt.py:1749\u001b[0m, in \u001b[0;36mPunktTokenizer.load_lang\u001b[1;34m(self, lang)\u001b[0m\n\u001b[0;32m   1746\u001b[0m \u001b[38;5;28;01mdef\u001b[39;00m \u001b[38;5;21mload_lang\u001b[39m(\u001b[38;5;28mself\u001b[39m, lang\u001b[38;5;241m=\u001b[39m\u001b[38;5;124m\"\u001b[39m\u001b[38;5;124menglish\u001b[39m\u001b[38;5;124m\"\u001b[39m):\n\u001b[0;32m   1747\u001b[0m     \u001b[38;5;28;01mfrom\u001b[39;00m \u001b[38;5;21;01mnltk\u001b[39;00m\u001b[38;5;21;01m.\u001b[39;00m\u001b[38;5;21;01mdata\u001b[39;00m \u001b[38;5;28;01mimport\u001b[39;00m find\n\u001b[1;32m-> 1749\u001b[0m     lang_dir \u001b[38;5;241m=\u001b[39m \u001b[43mfind\u001b[49m\u001b[43m(\u001b[49m\u001b[38;5;124;43mf\u001b[39;49m\u001b[38;5;124;43m\"\u001b[39;49m\u001b[38;5;124;43mtokenizers/punkt_tab/\u001b[39;49m\u001b[38;5;132;43;01m{\u001b[39;49;00m\u001b[43mlang\u001b[49m\u001b[38;5;132;43;01m}\u001b[39;49;00m\u001b[38;5;124;43m/\u001b[39;49m\u001b[38;5;124;43m\"\u001b[39;49m\u001b[43m)\u001b[49m\n\u001b[0;32m   1750\u001b[0m     \u001b[38;5;28mself\u001b[39m\u001b[38;5;241m.\u001b[39m_params \u001b[38;5;241m=\u001b[39m load_punkt_params(lang_dir)\n\u001b[0;32m   1751\u001b[0m     \u001b[38;5;28mself\u001b[39m\u001b[38;5;241m.\u001b[39m_lang \u001b[38;5;241m=\u001b[39m lang\n",
      "File \u001b[1;32mu:\\Users\\jk026110\\tekstianalyysi\\env\\Lib\\site-packages\\nltk\\data.py:579\u001b[0m, in \u001b[0;36mfind\u001b[1;34m(resource_name, paths)\u001b[0m\n\u001b[0;32m    577\u001b[0m sep \u001b[38;5;241m=\u001b[39m \u001b[38;5;124m\"\u001b[39m\u001b[38;5;124m*\u001b[39m\u001b[38;5;124m\"\u001b[39m \u001b[38;5;241m*\u001b[39m \u001b[38;5;241m70\u001b[39m\n\u001b[0;32m    578\u001b[0m resource_not_found \u001b[38;5;241m=\u001b[39m \u001b[38;5;124mf\u001b[39m\u001b[38;5;124m\"\u001b[39m\u001b[38;5;130;01m\\n\u001b[39;00m\u001b[38;5;132;01m{\u001b[39;00msep\u001b[38;5;132;01m}\u001b[39;00m\u001b[38;5;130;01m\\n\u001b[39;00m\u001b[38;5;132;01m{\u001b[39;00mmsg\u001b[38;5;132;01m}\u001b[39;00m\u001b[38;5;130;01m\\n\u001b[39;00m\u001b[38;5;132;01m{\u001b[39;00msep\u001b[38;5;132;01m}\u001b[39;00m\u001b[38;5;130;01m\\n\u001b[39;00m\u001b[38;5;124m\"\u001b[39m\n\u001b[1;32m--> 579\u001b[0m \u001b[38;5;28;01mraise\u001b[39;00m \u001b[38;5;167;01mLookupError\u001b[39;00m(resource_not_found)\n",
      "\u001b[1;31mLookupError\u001b[0m: \n**********************************************************************\n  Resource \u001b[93mpunkt_tab\u001b[0m not found.\n  Please use the NLTK Downloader to obtain the resource:\n\n  \u001b[31m>>> import nltk\n  >>> nltk.download('punkt_tab')\n  \u001b[0m\n  For more information see: https://www.nltk.org/data.html\n\n  Attempted to load \u001b[93mtokenizers/punkt_tab/english/\u001b[0m\n\n  Searched in:\n    - 'U:\\\\Users\\\\jk026110/nltk_data'\n    - 'u:\\\\Users\\\\jk026110\\\\tekstianalyysi\\\\env\\\\nltk_data'\n    - 'u:\\\\Users\\\\jk026110\\\\tekstianalyysi\\\\env\\\\share\\\\nltk_data'\n    - 'u:\\\\Users\\\\jk026110\\\\tekstianalyysi\\\\env\\\\lib\\\\nltk_data'\n    - 'U:\\\\Users\\\\jk026110\\\\AppData\\\\Roaming\\\\nltk_data'\n    - 'C:\\\\nltk_data'\n    - 'D:\\\\nltk_data'\n    - 'E:\\\\nltk_data'\n**********************************************************************\n"
     ]
    }
   ],
   "source": [
    "tokens2 = nltk.word_tokenize(text)\n",
    "tokens2"
   ]
  },
  {
   "cell_type": "code",
   "execution_count": 23,
   "metadata": {},
   "outputs": [
    {
     "ename": "NameError",
     "evalue": "name 'tokens2' is not defined",
     "output_type": "error",
     "traceback": [
      "\u001b[1;31m---------------------------------------------------------------------------\u001b[0m",
      "\u001b[1;31mNameError\u001b[0m                                 Traceback (most recent call last)",
      "Cell \u001b[1;32mIn[23], line 1\u001b[0m\n\u001b[1;32m----> 1\u001b[0m tagged \u001b[38;5;241m=\u001b[39m nltk\u001b[38;5;241m.\u001b[39mpos_tag(\u001b[43mtokens2\u001b[49m)\n",
      "\u001b[1;31mNameError\u001b[0m: name 'tokens2' is not defined"
     ]
    }
   ],
   "source": [
    "tagged = nltk.pos_tag(tokens2)"
   ]
  },
  {
   "cell_type": "code",
   "execution_count": 34,
   "metadata": {},
   "outputs": [],
   "source": [
    "from nltk.corpus import treebank\n",
    "#nltk.download('treebank')\n",
    "t = treebank.parsed_sents('wsj_0001.mrg')[1]\n",
    "t.draw()"
   ]
  }
 ],
 "metadata": {
  "kernelspec": {
   "display_name": "env",
   "language": "python",
   "name": "python3"
  },
  "language_info": {
   "codemirror_mode": {
    "name": "ipython",
    "version": 3
   },
   "file_extension": ".py",
   "mimetype": "text/x-python",
   "name": "python",
   "nbconvert_exporter": "python",
   "pygments_lexer": "ipython3",
   "version": "3.12.8"
  }
 },
 "nbformat": 4,
 "nbformat_minor": 2
}
