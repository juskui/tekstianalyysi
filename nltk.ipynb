{
 "cells": [
  {
   "cell_type": "code",
   "execution_count": 11,
   "metadata": {},
   "outputs": [
    {
     "name": "stdout",
     "output_type": "stream",
     "text": [
      "\n",
      "Words: ['Natural', 'language', 'processing', '(', 'NLP', ')', 'is', 'a', 'field', 'of', 'artificial', 'intelligence', 'that', 'focuses', 'on', 'the', 'interaction', 'between', 'computers', 'and', 'humans', 'through', 'natural', 'language', '.', 'Joo', 'joo', 'joo', '.', 'The', 'ultimate', 'objective', 'of', 'NLP', 'is', 'to', 'read', ',', 'decipher', ',', 'understand', ',', 'and', 'make', 'sense', 'of', 'the', 'human', 'languages', 'in', 'a', 'valuable', 'way', '.', 'Most', 'NLP', 'technologies', 'rely', 'on', 'machine', 'learning', 'to', 'derive', 'meaning', 'from', 'human', 'languages', '.']\n",
      "\n",
      "Sentences: ['Natural language processing (NLP) is a field of artificial intelligence that focuses on the interaction between computers and humans through natural language.', 'Joo joo joo.', 'The ultimate objective of NLP is to read, decipher, understand, and make sense of the human languages in a valuable way.', 'Most NLP technologies rely on machine learning to derive meaning from human languages.']\n",
      "\n",
      "Filtered Words: ['Natural', 'language', 'processing', '(', 'NLP', ')', 'field', 'artificial', 'intelligence', 'focuses', 'interaction', 'computers', 'humans', 'natural', 'language', '.', 'Joo', 'joo', 'joo', '.', 'ultimate', 'objective', 'NLP', 'read', ',', 'decipher', ',', 'understand', ',', 'make', 'sense', 'human', 'languages', 'valuable', 'way', '.', 'NLP', 'technologies', 'rely', 'machine', 'learning', 'derive', 'meaning', 'human', 'languages', '.']\n",
      "\n",
      "Word Frequency: [('.', 4), ('NLP', 3), (',', 3), ('language', 2), ('joo', 2)]\n",
      "\n",
      "Stemmed Words: ['natur', 'languag', 'process', '(', 'nlp', ')', 'field', 'artifici', 'intellig', 'focus', 'interact', 'comput', 'human', 'natur', 'languag', '.', 'joo', 'joo', 'joo', '.', 'ultim', 'object', 'nlp', 'read', ',', 'deciph', ',', 'understand', ',', 'make', 'sens', 'human', 'languag', 'valuabl', 'way', '.', 'nlp', 'technolog', 'reli', 'machin', 'learn', 'deriv', 'mean', 'human', 'languag', '.']\n",
      "\n",
      "Lemmatized Words: ['Natural', 'language', 'processing', '(', 'NLP', ')', 'field', 'artificial', 'intelligence', 'focus', 'interaction', 'computer', 'human', 'natural', 'language', '.', 'Joo', 'joo', 'joo', '.', 'ultimate', 'objective', 'NLP', 'read', ',', 'decipher', ',', 'understand', ',', 'make', 'sense', 'human', 'language', 'valuable', 'way', '.', 'NLP', 'technology', 'rely', 'machine', 'learning', 'derive', 'meaning', 'human', 'language', '.']\n",
      "\n",
      "No Punctuation: Natural language processing NLP is a field of artificial intelligence that focuses on the interaction between computers and humans through natural language Joo joo joo The ultimate objective of NLP is to read decipher understand and make sense of the human languages in a valuable way Most NLP technologies rely on machine learning to derive meaning from human languages\n",
      "\n"
     ]
    }
   ],
   "source": [
    "import nltk\n",
    "from nltk.tokenize import word_tokenize, sent_tokenize\n",
    "from nltk.corpus import stopwords\n",
    "from nltk.probability import FreqDist\n",
    "from nltk.stem import PorterStemmer\n",
    "from nltk.stem import WordNetLemmatizer\n",
    "\n",
    "# Lataa tarvittavat resurssit\n",
    "# nltk.download('punkt')\n",
    "# nltk.download('stopwords')\n",
    "# nltk.download('wordnet')\n",
    "\n",
    "\n",
    "# Esimerkkiteksti\n",
    "text = \"Natural language processing (NLP) is a field of artificial intelligence that focuses on the interaction between computers and humans through natural language. Joo joo joo. The ultimate objective of NLP is to read, decipher, understand, and make sense of the human languages in a valuable way. Most NLP technologies rely on machine learning to derive meaning from human languages.\"\n",
    "\n",
    "# Tokenisointi\n",
    "words = word_tokenize(text)\n",
    "sentences = sent_tokenize(text)\n",
    "print(\"\\nWords:\", words)\n",
    "print(\"\\nSentences:\", sentences)\n",
    "\n",
    "# Stop-sanojen poisto\n",
    "stop_words = set(stopwords.words('english'))\n",
    "filtered_words = [word for word in words if word.lower() not in stop_words]\n",
    "print(\"\\nFiltered Words:\", filtered_words)\n",
    "\n",
    "# Sanan esiintymistiheys\n",
    "fdist = FreqDist(filtered_words)\n",
    "print(\"\\nWord Frequency:\", fdist.most_common(5))\n",
    "\n",
    "# Sanan vartalon tunnistus (stemming)\n",
    "ps = PorterStemmer()\n",
    "stemmed_words = [ps.stem(word) for word in filtered_words]\n",
    "print(\"\\nStemmed Words:\", stemmed_words)\n",
    "\n",
    "# Lemmatointi\n",
    "lemmatizer = WordNetLemmatizer()\n",
    "lemmatized_words = [lemmatizer.lemmatize(word) for word in filtered_words]\n",
    "print(\"\\nLemmatized Words:\", lemmatized_words)\n",
    "\n",
    "# Poista välimerkit\n",
    "import string\n",
    "no_punctuation = text.translate(str.maketrans('', '', string.punctuation))\n",
    "print(\"\\nNo Punctuation:\", no_punctuation)\n",
    "print()"
   ]
  }
 ],
 "metadata": {
  "kernelspec": {
   "display_name": "env",
   "language": "python",
   "name": "python3"
  },
  "language_info": {
   "codemirror_mode": {
    "name": "ipython",
    "version": 3
   },
   "file_extension": ".py",
   "mimetype": "text/x-python",
   "name": "python",
   "nbconvert_exporter": "python",
   "pygments_lexer": "ipython3",
   "version": "3.12.8"
  }
 },
 "nbformat": 4,
 "nbformat_minor": 2
}
